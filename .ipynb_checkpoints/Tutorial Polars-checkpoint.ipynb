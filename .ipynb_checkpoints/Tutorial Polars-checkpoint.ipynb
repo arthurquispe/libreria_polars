{
 "cells": [
  {
   "cell_type": "markdown",
   "id": "1c696f02",
   "metadata": {},
   "source": [
    "# <span style=\"color:blue\"> Trabajo colaborativo - Tutorial del paquete polars </span>  \n",
    "# <p style=\"text-align:center;color: brown ;\"> PolarS: El escandalOSO de Python que promete ser el más rápido al procesar datos </p>\n",
    "\n",
    "## Introducción\n",
    "<div>\n",
    "  <div style=\"float:left; width:60%\">\n",
    "    Polar es un personaje importante en la serie Escandalosos. Tiene la habilidad de procesar y analizar situaciones complejas de forma rápida y eficiente, gracias a su gran capacidad de observación y análisis. A diferencia de otros personajes de la serie, Polar es capaz de utilizar todos sus recursos internos para tomar decisiones importantes y liderar a los demás. Su habilidad para procesar información y tomar decisiones rápidas y efectivas se debe a su personalidad bien desarrollada y su capacidad para trabajar en equipo. Actualmente, Polar es uno de los personajes más queridos por los fans de la serie. \n",
    "    Polars es una librería capaz de procesar dataframes y grandes volúmenes de forma rápida y eficiente. Está desarrollada en Rust, lo que le permite la paralelización de tareas desde su raíz. Polars ofrece muchas funciones variadas para la manipulación de datos, como la selección, filtrado, unión y transformación de datos. Además, utiliza un formato de datos binario altamente comprimido para reducir el uso de memoria y aumentar la velocidad de las operaciones, incluso complejas.\n",
    "    Polars ha ganado mucha popularidad a lo largo de los últimos años y puede ser una buena alternativa frente a otros frameworks de procesamiento de datos en Python.\n",
    "  </div>\n",
    "  <div style=\"float:left; width:40%\">\n",
    "    <p style=\"text-align:center;\"><img src=\"https://pbs.twimg.com/media/FwD-WLcWcAEV5Lq?format=jpg&name=4096x4096\" style=\"width:70%\" ></p>\n",
    "  </div>\n",
    "  <div style=\"clear:both\"></div>\n",
    "</div>\n",
    "\n"
   ]
  }
 ],
 "metadata": {
  "kernelspec": {
   "display_name": "Python 3 (ipykernel)",
   "language": "python",
   "name": "python3"
  },
  "language_info": {
   "codemirror_mode": {
    "name": "ipython",
    "version": 3
   },
   "file_extension": ".py",
   "mimetype": "text/x-python",
   "name": "python",
   "nbconvert_exporter": "python",
   "pygments_lexer": "ipython3",
   "version": "3.9.13"
  }
 },
 "nbformat": 4,
 "nbformat_minor": 5
}
