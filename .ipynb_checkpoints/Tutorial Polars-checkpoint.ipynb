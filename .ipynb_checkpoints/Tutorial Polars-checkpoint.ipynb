{
 "cells": [
  {
   "cell_type": "markdown",
   "id": "1c696f02",
   "metadata": {},
   "source": [
    "# <span style=\"color: #FFA500;\">CASO PRACTICO</span> ʕ•́ᴥ•̀ʔっ"
   ]
  },
  {
   "cell_type": "markdown",
   "id": "9223982d",
   "metadata": {},
   "source": [
    "###  <span style=\"color: brown;\">Instalamos el paquete polars</span> "
   ]
  },
  {
   "cell_type": "code",
   "execution_count": 1,
   "id": "be2be75d",
   "metadata": {},
   "outputs": [
    {
     "name": "stdout",
     "output_type": "stream",
     "text": [
      "Requirement already satisfied: polars in c:\\users\\administrador\\anaconda3\\lib\\site-packages (0.17.13)\n"
     ]
    }
   ],
   "source": [
    "\n",
    "!pip install -U polars\n"
   ]
  },
  {
   "cell_type": "markdown",
   "id": "e5ecf351",
   "metadata": {},
   "source": [
    "### <span style=\"color: brown;\">Importamos el paquete polars</span> "
   ]
  },
  {
   "cell_type": "code",
   "execution_count": 68,
   "id": "e5ff9ca9",
   "metadata": {},
   "outputs": [],
   "source": [
    "import polars as pl "
    "# <span style=\"color:blue\"> Trabajo colaborativo - Tutorial del paquete polars </span>  \n",
    "# <p style=\"text-align:center;color: brown ;\"> PolarS: El escandalOSO de Python que promete ser el más rápido al procesar datos </p>\n",
    "\n",
    "## <span style=\"color: #FFA500\"> Hablemos un poco... </span> \n",
    "<p>\n",
    "<div>\n",
    "  <div style=\"float:left; width:50%\">\n",
    "  <p> \n",
    "   Polar es un personaje importante en la serie Escandalosos. Tiene la habilidad de procesar y analizar situaciones complejas de forma rápida y eficiente, gracias a su gran capacidad de observación. Polar es capaz de utilizar todos sus recursos internos para tomar decisiones importantes y liderar a sus hermanos osos Panda y Pardo. Su habilidad para recolecta información y reaccionar frentes a las situaciones de forma rápida se debe a su personalidad bien desarrollada y su capacidad para trabajar en equipo junto a sus hermanos. Actualmente, Polar es uno de los personajes más queridos por los fans de la serie Escandalosos. </p>\n",
    "  <p>   \n",
    "    Polars es una librería capaz de procesar grandes volúmenes de datos de forma rápida y eficiente. Está desarrollada en Rust, es un lenguaje de programación en el podemos escribir código paralelo y concurrente de forma rápida, a diferencia de otros lenguajes. Esto le permite la paralelización de tareas desde su raíz, es uan técnica que permite dividir una tarea compleja en sub-tareas y procesarlas de manera simultánea para así acelerar el tiempo del proceso al trabajar con grandes conjuntos de datos. </p>\n",
    "  <p> \n",
    "    Polars ofrece muchas funciones variadas para la manipulación de datos, como la selección, filtrado, unión y transformación de datos. Además, utiliza un formato de datos binario altamente comprimido para reducir el uso de memoria y aumentar la velocidad de las operaciones, incluso complejas. </p>\n",
    "  <p> Polars ha ganado mucha popularidad a lo largo de los últimos años y puede ser una buena alternativa frente a otros frameworks de procesamiento de datos en Python. </p>\n",
    "  </div>\n",
    "  <div style=\"float:left; width:40%\">\n",
    "    <p style=\"text-align:center;\"><img src=\"https://pbs.twimg.com/media/FwD-WLcWcAEV5Lq?format=jpg&name=4096x4096\" style=\"width:90%\" ></p>\n",
    "  </div>\n",
    "  <div style=\"clear:both\"></div>\n",
    "</div>\n",
    "</p>\n",
    "\n",
    "\n",
    "## <span style=\"color: #FFA500\"> Aplicaciones del paquete Polars </span>\n",
    "<p>\n",
    "<font color=\"brown\"><strong> 1. Análisis de datos: </strong></font> Polars es un paquete especialmente útil para la manipulación y análisis de grandes conjuntos de datos en formato tabular, como puede ser el caso de datos de encuestas o cualquier otro conjunto de datos estructurados.\n",
    "</p>\n",
    "<p>\n",
    "<font color=\"brown\"><strong> 2. Procesamiento de datos en tiempo real:</strong></font> Dado que Polars está diseñado para procesar datos de manera eficiente, es una buena opción para aplicaciones que requieren procesar estos datos en tiempo real, como puede ser el caso de aplicaciones de sistemas de monitoreo de redes.\n",
    "</p>\n",
    "<p>\n",
    "    <font color=\"brown\"><strong> 3. Machine learning:</strong></font> Polars puede ser utilizado para el preprocesamiento de datos en tareas de machine learning, como la limpieza de datos, transformaciones de datos y selección de características. Además, la capacidad de Polars para trabajar con grandes conjuntos de datos también es útil en tareas de entrenamiento de modelos de machine learning.\n",
    "</p>\n",
    "<p>\n",
    "<font color=\"brown\"><strong> 4. Computación distribuida:</strong></font> El paquete Polars también puede ser utilizado en aplicaciones de computación distribuida, ya que proporciona soporte para la paralelización de tareas y la manipulación de datos a través de múltiples nodos.\n",
    "</p>\n",
    "\n",
    "### <span style=\"color: #FFA500\"> Ejemplos reales de las aplicaciones del paquete Polars </span>\n",
    "<table style=\"font-size: 1em;\">\n",
    "  <tr>\n",
    "    <td>\n",
    "      <p><strong><font color=\"brown\">Análisis de datos financieros:</font></strong> Polars se puede utilizar para analizar grandes conjuntos de datos financieros, lo que podría incluir la predicción de precios de acciones, detección de fraudes, etc.</p>\n",
    "      <img src=\"https://media2.giphy.com/media/v1.Y2lkPTc5MGI3NjExNTQ3OTJkMTBlNjhmMDEwYjQyMjY5MjJmZDY3M2I0MGRlMjM2NTVmOSZlcD12MV9pbnRlcm5hbF9naWZzX2dpZklkJmN0PWc/c1jS67qnybh9Vy5MO9/giphy.gif\" width=\"70%\">\n",
    "    </td>\n",
    "    <td>\n",
    "      <p><strong><font color=\"brown\">Análisis de datos de salud:</font></strong> Polars es útil para preprocesar y analizar grandes conjuntos de datos de salud, lo que podría incluir la predicción de enfermedades, identificación de patrones de salud y enfermedad, etc.</p>\n",
    "      <img src=\"https://media4.giphy.com/media/tG31riAUvDM1PcOD4a/giphy.gif\" width=\"70%\">\n",
    "    </td>\n",
    "  </tr>\n",
    "  <tr>\n",
    "    <td>\n",
    "      <p><strong><font color=\"brown\">Procesamiento de datos de imágenes:</font></strong> Polars puede analizar grandes conjuntos de datos de imágenes, lo que podría incluir el análisis de imágenes médicas, segmentación de imágenes, análisis de imágenes satelitales, etc.</p>\n",
    "      <img src=\"https://media2.giphy.com/media/79oRPS6zThC6bKV4Jt/giphy.gif\" width=\"70%\">\n",
    "    </td>\n",
    "    <td>\n",
    "      <p><strong><font color=\"brown\">Análisis de datos de redes sociales:</font></strong> Este paquete puede preprocesar y analizar grandes volúmenes de datos de redes sociales, lo que podría incluir la detección de tendencias, análisis de sentimientos, análisis de usuarios, etc.</p>\n",
    "      <img src=\"https://media2.giphy.com/media/g6VHU1GHbLLGEKYFla/giphy.gif\" width=\"70%\">\n",
    "    </td>\n",
    "  </tr>\n",
    "</table>\n"
   ]
  },
  {
   "cell_type": "markdown",
   "id": "37e862b2",
   "metadata": {},
   "source": [
    "### Primeros pasos con la librería Polars\n",
    "Para instalar la librería Polars en tu PC, puedes seguir los siguientes pasos:\n",
    "![The San Juan Mountains are beautiful!](https://i.pinimg.com/originals/b9/30/c1/b930c1c4d7a3ac78403994b250dbe9e1.gif \"San Juan Mountains\")\n",
    "\n",
    "Abre una terminal o línea de comandos en tu PC.\n",
    "Asegúrate de tener Python instalado en tu sistema. Puedes comprobarlo ejecutando el comando `python --version` en la terminal. Si no lo tienes instalado, puedes descargarlo desde la página oficial de Python.\n",
    "Ejecuta el siguiente comando en la terminal para instalar Polars a través de pip, el gestor de paquetes de Python:\n"
   ]
  },
  {
   "cell_type": "code",
   "execution_count": 69,
   "id": "40a755d4",
   "metadata": {},
   "outputs": [],
   "source": [
    "#┊┊┊╭╮╱▔▔▔▔╲╭╮┊┊┊    ┊┊┊╭╮╱▔▔▔▔╲╭╮┊┊┊   ┊┊┊╭╮╱▔▔▔▔╲╭╮┊┊┊    ┊┊┊╭╮╱▔▔▔▔╲╭╮┊┊┊   ┊┊┊╭╮╱▔▔▔▔╲╭╮┊┊┊     \n",
    "#┊┊┊╰╱┈▆▏▕▆┈╲╯┊┊┊    ┊┊┊╰╱┈▆▏▕▆┈╲╯┊┊┊   ┊┊┊╰╱┈▆▏▕▆┈╲╯┊┊┊    ┊┊┊╰╱┈▆▏▕▆┈╲╯┊┊┊   ┊┊┊╰╱┈▆▏▕▆┈╲╯┊┊┊\n",
    "#┊┊┊▕┈┈┈▅▅┈┈┈▏┊┊┊    ┊┊┊▕┈┈┈▅▅┈┈┈▏┊┊┊   ┊┊┊▕┈┈┈▅▅┈┈┈▏┊┊┊    ┊┊┊▕┈┈┈▅▅┈┈┈▏┊┊┊   ┊┊┊▕┈┈┈▅▅┈┈┈▏┊┊┊\n",
    "#╱▔▔╱┈┈┈▔▔┈┈┈╲▔▔╲  ╱▔▔╱┈┈┈▔▔┈┈┈╲▔▔╲  ╱▔▔╱┈┈┈▔▔┈┈┈╲▔▔╲  ╱▔▔╱┈┈┈▔▔┈┈┈╲▔▔╲  ╱▔▔╱┈┈┈▔▔┈┈┈╲▔▔╲\n",
    "#╲╭━━╮  ┈┈┈┈┈┈   ╭━━╮╱  ╲╭━━╮  ┈┈┈┈┈┈   ╭━━╮╱  ╲╭━━╮  ┈┈┈┈┈┈   ╭━━╮╱  ╲╭━━╮  ┈┈┈┈┈┈   ╭━━╮╱  ╲╭━━╮  ┈┈┈┈┈┈   ╭━━╮╱\n",
    "#┊╰┻┻╯▔▔▔▔▔▔╰┻┻╯┊┊ ┊╰┻┻╯▔▔▔▔▔▔╰┻┻╯┊┊ ┊╰┻┻╯▔▔▔▔▔▔╰┻┻╯┊┊ ┊╰┻┻╯▔▔▔▔▔▔╰┻┻╯┊┊ ┊╰┻┻╯▔▔▔▔▔▔╰┻┻╯┊┊ "
   ]
  },
  {
   "cell_type": "markdown",
   "id": "15bfc8b1",
   "metadata": {},
   "source": [
    "### <span style=\"color: brown;\">Probamos el tiempo de ejecucion entre el paquete plars Vs pandas </span>\n",
    "En cada libreria leeremos un reporte de camas UCI de formato csv, dicho archivo posee mas de 15 000 filas"
   ]
  },
  {
   "cell_type": "markdown",
   "id": "c7cd7fd6",
   "metadata": {},
   "source": [
    "![](https://pm1.narvii.com/7650/6c30505d9b8a52308fdb7eb7a84b510f22e17a6dr1-1280-720v2_hq.jpg)"
   ]
  },
  {
   "cell_type": "code",
   "execution_count": 71,
   "id": "d1b1ff01",
   "metadata": {},
   "outputs": [
    {
     "name": "stdout",
     "output_type": "stream",
     "text": [
      "El tiempo de ejecucion de la libreria pandas es: 3.3217527866363525 segundo(s)\n",
      "El tiempo de ejecucion de la libreria polars es: 1.6107804775238037 segundo(s)\n"
     ]
    }
   ],
   "source": [
    "import time\n",
    "import pandas as pd\n",
    "inicio = time.time()\n",
    "prueba1 = pd.read_csv(\"Camas-31_01_2022.csv\",sep=\"|\" ,encoding=\"utf-8\") \n",
    "final = time.time()\n",
    "print(\"El tiempo de ejecucion de la libreria pandas es:\", final - inicio,\"segundo(s)\" )\n",
    "inicio = time.time()\n",
    "df = pl.read_csv(\"Camas-31_01_2022.csv\" , ignore_errors= True  , separator= \"|\", encoding=\"utf-8\")\n",
    "final = time.time()\n",
    "print(\"El tiempo de ejecucion de la libreria polars es:\", final - inicio,\"segundo(s)\" )"
   ]
  },
  {
   "cell_type": "markdown",
   "id": "e2763c0f",
   "metadata": {},
   "source": [
    "### Polar gana \n",
    "![](https://media.tenor.com/DgA0XHKcQJQAAAAM/we-bare-bears-bears.gif)"
   ]
  },
  {
   "cell_type": "markdown",
   "id": "59d3f871",
   "metadata": {},
   "source": [
    "## <span style=\"color: blue;\">Polar desea leer un archivo de datos mas interesante </span> "
   ]
  },
  {
   "cell_type": "markdown",
   "id": "bc43347d",
   "metadata": {},
   "source": [
    "![](https://pa1.narvii.com/6526/34b474abcc731f6129d1d35841f5c8144b4216a6_00.gif)"
   ]
  },
  {
   "cell_type": "markdown",
   "id": "b65177e2",
   "metadata": {},
   "source": [
    "### <span style=\"color: brown;\">Leemos un archivo de datos CSV de notas del curso de Estadística general del ciclo 2022 - II </span> "
   ]
  },
  {
   "cell_type": "code",
   "execution_count": 61,
   "id": "dc92526d",
   "metadata": {},
   "outputs": [
    {
     "data": {
      "text/html": [
       "<div><style>\n",
       ".dataframe > thead > tr > th,\n",
       ".dataframe > tbody > tr > td {\n",
       "  text-align: right;\n",
       "}\n",
       "</style>\n",
       "<small>shape: (5, 9)</small><table border=\"1\" class=\"dataframe\"><thead><tr><th></th><th>MATRICULA</th><th>ALUMNO</th><th>NOMBRE</th><th>NOMBRE.2</th><th>CORREO</th><th>PC1</th><th>PC2</th><th>PC3</th></tr><tr><td>i64</td><td>i64</td><td>str</td><td>str</td><td>str</td><td>str</td><td>f64</td><td>f64</td><td>f64</td></tr></thead><tbody><tr><td>1</td><td>20211909</td><td>&quot;Acosta Yupanqu…</td><td>&quot;Joselyn&quot;</td><td>&quot;Jade&quot;</td><td>&quot;20211909@lamol…</td><td>17.5</td><td>12.0</td><td>13.0</td></tr><tr><td>2</td><td>20211910</td><td>&quot;Alarcon Huaman…</td><td>&quot;Valeria&quot;</td><td>&quot;Naomi&quot;</td><td>&quot;20211910@lamol…</td><td>19.0</td><td>0.0</td><td>0.0</td></tr><tr><td>3</td><td>20220603</td><td>&quot;Arriaga Asenci…</td><td>&quot;Steven&quot;</td><td>&quot;Alonso&quot;</td><td>&quot;20220603@lamol…</td><td>16.0</td><td>3.0</td><td>0.0</td></tr><tr><td>4</td><td>20211638</td><td>&quot;Barrueta Sanch…</td><td>&quot;Valeria&quot;</td><td>&quot;Antonella&quot;</td><td>&quot;20211638@lamol…</td><td>12.0</td><td>0.0</td><td>0.0</td></tr><tr><td>5</td><td>20211536</td><td>&quot;Bastidas Cotri…</td><td>&quot;Sebastian&quot;</td><td>&quot;Alessandro&quot;</td><td>&quot;20211536@lamol…</td><td>17.5</td><td>12.0</td><td>17.5</td></tr></tbody></table></div>"
      ],
      "text/plain": [
       "shape: (5, 9)\n",
       "┌─────┬───────────┬──────────────────┬───────────┬───┬──────────────────────────┬──────┬──────┬──────┐\n",
       "│     ┆ MATRICULA ┆ ALUMNO           ┆ NOMBRE    ┆ … ┆ CORREO                   ┆ PC1  ┆ PC2  ┆ PC3  │\n",
       "│ --- ┆ ---       ┆ ---              ┆ ---       ┆   ┆ ---                      ┆ ---  ┆ ---  ┆ ---  │\n",
       "│ i64 ┆ i64       ┆ str              ┆ str       ┆   ┆ str                      ┆ f64  ┆ f64  ┆ f64  │\n",
       "╞═════╪═══════════╪══════════════════╪═══════════╪═══╪══════════════════════════╪══════╪══════╪══════╡\n",
       "│ 1   ┆ 20211909  ┆ Acosta Yupanqui  ┆ Joselyn   ┆ … ┆ 20211909@lamolina.edu.pe ┆ 17.5 ┆ 12.0 ┆ 13.0 │\n",
       "│ 2   ┆ 20211910  ┆ Alarcon Huamani  ┆ Valeria   ┆ … ┆ 20211910@lamolina.edu.pe ┆ 19.0 ┆ 0.0  ┆ 0.0  │\n",
       "│ 3   ┆ 20220603  ┆ Arriaga Asencios ┆ Steven    ┆ … ┆ 20220603@lamolina.edu.pe ┆ 16.0 ┆ 3.0  ┆ 0.0  │\n",
       "│ 4   ┆ 20211638  ┆ Barrueta Sanchez ┆ Valeria   ┆ … ┆ 20211638@lamolina.edu.pe ┆ 12.0 ┆ 0.0  ┆ 0.0  │\n",
       "│ 5   ┆ 20211536  ┆ Bastidas Cotrina ┆ Sebastian ┆ … ┆ 20211536@lamolina.edu.pe ┆ 17.5 ┆ 12.0 ┆ 17.5 │\n",
       "└─────┴───────────┴──────────────────┴───────────┴───┴──────────────────────────┴──────┴──────┴──────┘"
      ]
     },
     "execution_count": 61,
     "metadata": {},
     "output_type": "execute_result"
    }
   ],
   "source": [
    "df = pl.read_csv(\"PC2.csv\",ignore_errors= True  , separator= \",\", encoding=\"utf-8\")\n",
    "df.head()\n"
   ]
  },
  {
   "cell_type": "markdown",
   "id": "4184f84d",
   "metadata": {},
   "source": [
    "### <span style=\"color: brown;\">Visualizamos una breve descripcion de cada columna </span> "
   ]
  },
  {
   "cell_type": "code",
   "execution_count": 18,
   "id": "71b371b7",
   "metadata": {},
   "outputs": [
    {
     "name": "stdout",
     "output_type": "stream",
     "text": [
      "Rows: 48\n",
      "Columns: 9\n",
      "$           <i64> 1, 2, 3, 4, 5, 6, 7, 8, 9, 10\n",
      "$ MATRICULA <i64> 20211909, 20211910, 20220603, 20211638, 20211536, 20211537, 20211810, 20211541, 20211949, 20211915\n",
      "$ ALUMNO    <str> Acosta Yupanqui, Alarcon Huamani, Arriaga Asencios, Barrueta Sanchez, Bastidas Cotrina, Berrio Mera, Cabezudo Meza, Carrion Saes, Cauper Vidal, Chauca Cordova\n",
      "$ NOMBRE    <str> Joselyn, Valeria, Steven, Valeria, Sebastian, Daniela, Ismael, Jamile, Lionel, Camila\n",
      "$ NOMBRE.2  <str> Jade, Naomi, Alonso, Antonella, Alessandro, Arleth, Alexis, Joalibet, Alfonso, Angelica\n",
      "$ CORREO    <str> 20211909@lamolina.edu.pe, 20211910@lamolina.edu.pe, 20220603@lamolina.edu.pe, 20211638@lamolina.edu.pe, 20211536@lamolina.edu.pe, 20211537@lamolina.edu.pe, 20211810@lamolina.edu.pe, 20211541@lamolina.edu.pe, 20211949@lamolina.edu.pe, 20211915@lamolina.edu.pe\n",
      "$ PC1       <f64> 17.5, 19.0, 16.0, 12.0, 17.5, 0.0, 17.5, 16.0, 17.5, 15.5\n",
      "$ PC2       <f64> 12.0, 0.0, 3.0, 0.0, 12.0, 5.5, 12.0, 16.5, 13.5, 8.5\n",
      "$ PC3       <f64> 13.0, 0.0, 0.0, 0.0, 17.5, 9.0, 11.5, 11.5, 11.0, 14.5\n",
      "\n"
     ]
    }
   ],
   "source": [
    "df.glimpse()"
   ]
  },
  {
   "cell_type": "markdown",
   "id": "31934ee3",
   "metadata": {},
   "source": [
    "### <span style=\"color: brown;\">Estadística descriptiva de notas de todos los alumnos (Estadistica general) </span> "
   ]
  },
  {
   "cell_type": "code",
   "execution_count": 56,
   "id": "aa81b255",
   "metadata": {},
   "outputs": [
    {
     "data": {
      "text/html": [
       "<div><style>\n",
       ".dataframe > thead > tr > th,\n",
       ".dataframe > tbody > tr > td {\n",
       "  text-align: right;\n",
       "}\n",
       "</style>\n",
       "<small>shape: (9, 4)</small><table border=\"1\" class=\"dataframe\"><thead><tr><th>describe</th><th>PC1</th><th>PC2</th><th>PC3</th></tr><tr><td>str</td><td>f64</td><td>f64</td><td>f64</td></tr></thead><tbody><tr><td>&quot;count&quot;</td><td>48.0</td><td>48.0</td><td>48.0</td></tr><tr><td>&quot;null_count&quot;</td><td>0.0</td><td>0.0</td><td>0.0</td></tr><tr><td>&quot;mean&quot;</td><td>15.3125</td><td>9.28125</td><td>8.291667</td></tr><tr><td>&quot;std&quot;</td><td>4.130356</td><td>5.555241</td><td>5.876235</td></tr><tr><td>&quot;min&quot;</td><td>0.0</td><td>0.0</td><td>0.0</td></tr><tr><td>&quot;max&quot;</td><td>19.0</td><td>19.0</td><td>18.0</td></tr><tr><td>&quot;median&quot;</td><td>17.0</td><td>10.0</td><td>9.5</td></tr><tr><td>&quot;25%&quot;</td><td>15.0</td><td>6.5</td><td>0.0</td></tr><tr><td>&quot;75%&quot;</td><td>17.5</td><td>13.5</td><td>13.0</td></tr></tbody></table></div>"
      ],
      "text/plain": [
       "shape: (9, 4)\n",
       "┌────────────┬──────────┬──────────┬──────────┐\n",
       "│ describe   ┆ PC1      ┆ PC2      ┆ PC3      │\n",
       "│ ---        ┆ ---      ┆ ---      ┆ ---      │\n",
       "│ str        ┆ f64      ┆ f64      ┆ f64      │\n",
       "╞════════════╪══════════╪══════════╪══════════╡\n",
       "│ count      ┆ 48.0     ┆ 48.0     ┆ 48.0     │\n",
       "│ null_count ┆ 0.0      ┆ 0.0      ┆ 0.0      │\n",
       "│ mean       ┆ 15.3125  ┆ 9.28125  ┆ 8.291667 │\n",
       "│ std        ┆ 4.130356 ┆ 5.555241 ┆ 5.876235 │\n",
       "│ min        ┆ 0.0      ┆ 0.0      ┆ 0.0      │\n",
       "│ max        ┆ 19.0     ┆ 19.0     ┆ 18.0     │\n",
       "│ median     ┆ 17.0     ┆ 10.0     ┆ 9.5      │\n",
       "│ 25%        ┆ 15.0     ┆ 6.5      ┆ 0.0      │\n",
       "│ 75%        ┆ 17.5     ┆ 13.5     ┆ 13.0     │\n",
       "└────────────┴──────────┴──────────┴──────────┘"
      ]
     },
     "execution_count": 56,
     "metadata": {},
     "output_type": "execute_result"
    }
   ],
   "source": [
    "df1 = df.select([pl.col(\"PC1\",\"PC2\",\"PC3\")]).describe()\n",
    "df1\n"
   ]
  },
  {
   "cell_type": "markdown",
   "id": "a9695eda",
   "metadata": {},
   "source": [
    "### <span style=\"color: brown;\">Lista de notas de los alumnos que estudian estadistica </span>  \n",
    " "
   ]
  },
  {
   "cell_type": "code",
   "execution_count": 57,
   "id": "ef8211a3",
   "metadata": {},
   "outputs": [
    {
     "data": {
      "text/html": [
       "<div><style>\n",
       ".dataframe > thead > tr > th,\n",
       ".dataframe > tbody > tr > td {\n",
       "  text-align: right;\n",
       "}\n",
       "</style>\n",
       "<small>shape: (8, 4)</small><table border=\"1\" class=\"dataframe\"><thead><tr><th>MATRICULA</th><th>PC1</th><th>PC2</th><th>PC3</th></tr><tr><td>i64</td><td>f64</td><td>f64</td><td>f64</td></tr></thead><tbody><tr><td>20211810</td><td>17.5</td><td>12.0</td><td>11.5</td></tr><tr><td>20211813</td><td>17.5</td><td>12.5</td><td>9.5</td></tr><tr><td>20211816</td><td>16.0</td><td>15.0</td><td>18.0</td></tr><tr><td>20211820</td><td>17.5</td><td>16.0</td><td>15.0</td></tr><tr><td>20211826</td><td>18.0</td><td>16.5</td><td>13.0</td></tr><tr><td>20211827</td><td>17.0</td><td>15.5</td><td>11.0</td></tr><tr><td>20211831</td><td>16.0</td><td>7.5</td><td>7.0</td></tr><tr><td>20211834</td><td>18.0</td><td>15.0</td><td>9.5</td></tr></tbody></table></div>"
      ],
      "text/plain": [
       "shape: (8, 4)\n",
       "┌───────────┬──────┬──────┬──────┐\n",
       "│ MATRICULA ┆ PC1  ┆ PC2  ┆ PC3  │\n",
       "│ ---       ┆ ---  ┆ ---  ┆ ---  │\n",
       "│ i64       ┆ f64  ┆ f64  ┆ f64  │\n",
       "╞═══════════╪══════╪══════╪══════╡\n",
       "│ 20211810  ┆ 17.5 ┆ 12.0 ┆ 11.5 │\n",
       "│ 20211813  ┆ 17.5 ┆ 12.5 ┆ 9.5  │\n",
       "│ 20211816  ┆ 16.0 ┆ 15.0 ┆ 18.0 │\n",
       "│ 20211820  ┆ 17.5 ┆ 16.0 ┆ 15.0 │\n",
       "│ 20211826  ┆ 18.0 ┆ 16.5 ┆ 13.0 │\n",
       "│ 20211827  ┆ 17.0 ┆ 15.5 ┆ 11.0 │\n",
       "│ 20211831  ┆ 16.0 ┆ 7.5  ┆ 7.0  │\n",
       "│ 20211834  ┆ 18.0 ┆ 15.0 ┆ 9.5  │\n",
       "└───────────┴──────┴──────┴──────┘"
      ]
     },
     "execution_count": 57,
     "metadata": {},
     "output_type": "execute_result"
    }
   ],
   "source": [
    "df2=df.filter((pl.col(\"MATRICULA\") > 20211800) & (pl.col(\"MATRICULA\") <= 20211834))\n",
    "df2.select([pl.col(\"MATRICULA\",\"PC1\",\"PC2\",\"PC3\")])\n"
   ]
  },
  {
   "cell_type": "markdown",
   "id": "aba05de6",
   "metadata": {},
   "source": [
    "## <span style=\"color: blue;\">Polar desea ver la estadistica descriptiva de los alumnos de estadistica </span>  "
   ]
  },
  {
   "cell_type": "markdown",
   "id": "5bc3b6d8",
   "metadata": {},
   "source": [
    "![](https://encrypted-tbn0.gstatic.com/images?q=tbn:ANd9GcT0J3Og1WAdPGka-4YByPfopDQUzlv4RNnCuBMrnsKrzsB1yqQIzQqIVquA8WKqHuV8xt0&usqp=CAU)"
   ]
  },
  {
   "cell_type": "markdown",
   "id": "7d897139",
   "metadata": {},
   "source": [
    "### <span style=\"color: brown;\">Estadística descriptiva de notas de los alumnos que estudian estadística informatica (Estadistica general)</span>"
   ]
  },
  {
   "cell_type": "code",
   "execution_count": 58,
   "id": "0c4c8102",
   "metadata": {},
   "outputs": [
    {
     "data": {
      "text/html": [
       "<div><style>\n",
       ".dataframe > thead > tr > th,\n",
       ".dataframe > tbody > tr > td {\n",
       "  text-align: right;\n",
       "}\n",
       "</style>\n",
       "<small>shape: (9, 4)</small><table border=\"1\" class=\"dataframe\"><thead><tr><th>describe</th><th>PC1</th><th>PC2</th><th>PC3</th></tr><tr><td>str</td><td>f64</td><td>f64</td><td>f64</td></tr></thead><tbody><tr><td>&quot;count&quot;</td><td>8.0</td><td>8.0</td><td>8.0</td></tr><tr><td>&quot;null_count&quot;</td><td>0.0</td><td>0.0</td><td>0.0</td></tr><tr><td>&quot;mean&quot;</td><td>17.1875</td><td>13.75</td><td>11.8125</td></tr><tr><td>&quot;std&quot;</td><td>0.798995</td><td>2.988072</td><td>3.473754</td></tr><tr><td>&quot;min&quot;</td><td>16.0</td><td>7.5</td><td>7.0</td></tr><tr><td>&quot;max&quot;</td><td>18.0</td><td>16.5</td><td>18.0</td></tr><tr><td>&quot;median&quot;</td><td>17.5</td><td>15.0</td><td>11.25</td></tr><tr><td>&quot;25%&quot;</td><td>17.0</td><td>12.5</td><td>9.5</td></tr><tr><td>&quot;75%&quot;</td><td>18.0</td><td>16.0</td><td>15.0</td></tr></tbody></table></div>"
      ],
      "text/plain": [
       "shape: (9, 4)\n",
       "┌────────────┬──────────┬──────────┬──────────┐\n",
       "│ describe   ┆ PC1      ┆ PC2      ┆ PC3      │\n",
       "│ ---        ┆ ---      ┆ ---      ┆ ---      │\n",
       "│ str        ┆ f64      ┆ f64      ┆ f64      │\n",
       "╞════════════╪══════════╪══════════╪══════════╡\n",
       "│ count      ┆ 8.0      ┆ 8.0      ┆ 8.0      │\n",
       "│ null_count ┆ 0.0      ┆ 0.0      ┆ 0.0      │\n",
       "│ mean       ┆ 17.1875  ┆ 13.75    ┆ 11.8125  │\n",
       "│ std        ┆ 0.798995 ┆ 2.988072 ┆ 3.473754 │\n",
       "│ min        ┆ 16.0     ┆ 7.5      ┆ 7.0      │\n",
       "│ max        ┆ 18.0     ┆ 16.5     ┆ 18.0     │\n",
       "│ median     ┆ 17.5     ┆ 15.0     ┆ 11.25    │\n",
       "│ 25%        ┆ 17.0     ┆ 12.5     ┆ 9.5      │\n",
       "│ 75%        ┆ 18.0     ┆ 16.0     ┆ 15.0     │\n",
       "└────────────┴──────────┴──────────┴──────────┘"
      ]
     },
     "execution_count": 58,
     "metadata": {},
     "output_type": "execute_result"
    }
   ],
   "source": [
    "df2.select([pl.col(\"PC1\",\"PC2\",\"PC3\")]).describe()"
   ]
  },
  {
   "cell_type": "markdown",
   "id": "0ff2842b",
   "metadata": {},
   "source": [
    "## <span style=\"color: blue;\">A polar le fascina todo lo que su libreria puede hacer </span>  "
   ]
  },
  {
   "cell_type": "markdown",
   "id": "b8370948",
   "metadata": {},
   "source": [
    "![](https://pbs.twimg.com/profile_images/854566755552944129/KaWDYX1o_400x400.jpg)"
=======
   "execution_count": null,
   "id": "315276f4",
   "metadata": {},
   "outputs": [],
   "source": [
    "#Comando para instalar por primera vez la librería Polars en tu pc\n",
    "#Recuerda que se necesita tener instalado Python 3.7 en adelante.\n",
    "!pip install polars"
   ]
  }
 ],
 "metadata": {
  "kernelspec": {
   "display_name": "Python 3 (ipykernel)",
   "language": "python",
   "name": "python3"
  },
  "language_info": {
   "codemirror_mode": {
    "name": "ipython",
    "version": 3
   },
   "file_extension": ".py",
   "mimetype": "text/x-python",
   "name": "python",
   "nbconvert_exporter": "python",
   "pygments_lexer": "ipython3",
   "version": "3.9.13"
  }
 },
 "nbformat": 4,
 "nbformat_minor": 5
}
