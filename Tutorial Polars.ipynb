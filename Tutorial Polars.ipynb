{
 "cells": [
  {
   "cell_type": "markdown",
   "id": "1c696f02",
   "metadata": {},
   "source": [
    "Estructura de nuestro tutorial en Jupyter\n",
    "->[Titulo atractivo]\n",
    "--[Hablar sobre polar]\n",
    "--[Aplicaciones del paquete polars (En donde y en qué casos se puede usar)]\n",
    "--Primeros Pasos\n",
    "--[Diferencias con pandas]\n",
    "--[Principales funciones]\n",
    "--[Caso practico como ejemplo]\n",
    "--[Referencias]"
   ]
  },
  {
   "cell_type": "markdown",
   "id": "37e862b2",
   "metadata": {},
   "source": [
    "### Primeros pasos con la librería Polars\n",
    "Para instalar la librería Polars en tu PC, puedes seguir los siguientes pasos:\n",
    "![The San Juan Mountains are beautiful!](https://i.pinimg.com/originals/b9/30/c1/b930c1c4d7a3ac78403994b250dbe9e1.gif \"San Juan Mountains\")\n",
    "\n",
    "Abre una terminal o línea de comandos en tu PC.\n",
    "Asegúrate de tener Python instalado en tu sistema. Puedes comprobarlo ejecutando el comando `python --version` en la terminal. Si no lo tienes instalado, puedes descargarlo desde la página oficial de Python.\n",
    "Ejecuta el siguiente comando en la terminal para instalar Polars a través de pip, el gestor de paquetes de Python:\n"
   ]
  },
  {
   "cell_type": "code",
   "execution_count": null,
   "id": "315276f4",
   "metadata": {},
   "outputs": [],
   "source": [
    "#Comando para instalar por primera vez la librería Polars en tu pc\n",
    "#Recuerda que se necesita tener instalado Python 3.7 en adelante.\n",
    "!pip install polars"
   ]
  }
 ],
 "metadata": {
  "kernelspec": {
   "display_name": "Python 3 (ipykernel)",
   "language": "python",
   "name": "python3"
  },
  "language_info": {
   "codemirror_mode": {
    "name": "ipython",
    "version": 3
   },
   "file_extension": ".py",
   "mimetype": "text/x-python",
   "name": "python",
   "nbconvert_exporter": "python",
   "pygments_lexer": "ipython3",
   "version": "3.9.13"
  }
 },
 "nbformat": 4,
 "nbformat_minor": 5
}
