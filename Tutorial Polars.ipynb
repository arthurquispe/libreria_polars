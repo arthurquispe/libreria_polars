{
 "cells": [
  {
   "attachments": {},
   "cell_type": "markdown",
   "id": "1c696f02",
   "metadata": {},
   "source": [
    "# <span style=\"text-align:center;color:brown ;\"> PolarS: El escandalOSO de Python que promete ser el más rápido al procesar datos </span>  \n",
    "# <p style=\"text-align:center;color: brown ;\"> Trabajo colaborativo - Tutorial del paquete polars </p>\n",
    "\n",
    "## <span style=\"color: #FFA500\"> Hablemos un poco... </span> \n",
    "<p>\n",
    "<div>\n",
    "  <div style=\"float:left; width:50%\">\n",
    "  <p> \n",
    "   Polar es un personaje importante en la serie Escandalosos. Tiene la habilidad de procesar y analizar situaciones complejas de forma rápida y eficiente, gracias a su gran capacidad de observación. Polar es capaz de utilizar todos sus recursos internos para tomar decisiones importantes y liderar a sus hermanos osos Panda y Pardo. Su habilidad para recolecta información y reaccionar frentes a las situaciones de forma rápida se debe a su personalidad bien desarrollada y su capacidad para trabajar en equipo junto a sus hermanos. Actualmente, Polar es uno de los personajes más queridos por los fans de la serie Escandalosos. </p>\n",
    "  <p>   \n",
    "    Polars es una librería capaz de procesar grandes volúmenes de datos de forma rápida y eficiente. Está desarrollada en Rust, es un lenguaje de programación en el podemos escribir código paralelo y concurrente de forma rápida, a diferencia de otros lenguajes. Esto le permite la paralelización de tareas desde su raíz, es uan técnica que permite dividir una tarea compleja en sub-tareas y procesarlas de manera simultánea para así acelerar el tiempo del proceso al trabajar con grandes conjuntos de datos. </p>\n",
    "  <p> \n",
    "    Polars ofrece muchas funciones variadas para la manipulación de datos, como la selección, filtrado, unión y transformación de datos. Además, utiliza un formato de datos binario altamente comprimido para reducir el uso de memoria y aumentar la velocidad de las operaciones, incluso complejas. </p>\n",
    "  <p> Polars ha ganado mucha popularidad a lo largo de los últimos años y puede ser una buena alternativa frente a otros frameworks de procesamiento de datos en Python. </p>\n",
    "  </div>\n",
    "  <div style=\"float:left; width:40%\">\n",
    "    <p style=\"text-align:center;\"><img src=\"https://pbs.twimg.com/media/FwD-WLcWcAEV5Lq?format=jpg&name=4096x4096\" style=\"width:90%\" ></p>\n",
    "  </div>\n",
    "  <div style=\"clear:both\"></div>\n",
    "</div>\n",
    "</p>\n",
    "\n",
    "\n",
    "## <span style=\"color: #FFA500\"> Aplicaciones del paquete Polars </span>\n",
    "<p>\n",
    "<font color=\"brown\"><strong> 1. Análisis de datos: </strong></font> Polars es un paquete especialmente útil para la manipulación y análisis de grandes conjuntos de datos en formato tabular, como puede ser el caso de datos de encuestas o cualquier otro conjunto de datos estructurados.\n",
    "</p>\n",
    "<p>\n",
    "<font color=\"brown\"><strong> 2. Procesamiento de datos en tiempo real:</strong></font> Dado que Polars está diseñado para procesar datos de manera eficiente, es una buena opción para aplicaciones que requieren procesar estos datos en tiempo real, como puede ser el caso de aplicaciones de sistemas de monitoreo de redes.\n",
    "</p>\n",
    "<p>\n",
    "    <font color=\"brown\"><strong> 3. Machine learning:</strong></font> Polars puede ser utilizado para el preprocesamiento de datos en tareas de machine learning, como la limpieza de datos, transformaciones de datos y selección de características. Además, la capacidad de Polars para trabajar con grandes conjuntos de datos también es útil en tareas de entrenamiento de modelos de machine learning.\n",
    "</p>\n",
    "<p>\n",
    "<font color=\"brown\"><strong> 4. Computación distribuida:</strong></font> El paquete Polars también puede ser utilizado en aplicaciones de computación distribuida, ya que proporciona soporte para la paralelización de tareas y la manipulación de datos a través de múltiples nodos.\n",
    "</p>\n",
    "\n",
    "### <span style=\"color: #FFA500\"> Ejemplos reales de las aplicaciones del paquete Polars </span>\n",
    "<table style=\"font-size: 1em;\">\n",
    "  <tr>\n",
    "    <td>\n",
    "      <p><strong><font color=\"brown\">Análisis de datos financieros:</font></strong> Polars se puede utilizar para analizar grandes conjuntos de datos financieros, lo que podría incluir la predicción de precios de acciones, detección de fraudes, etc.</p>\n",
    "      <img src=\"https://media2.giphy.com/media/v1.Y2lkPTc5MGI3NjExNTQ3OTJkMTBlNjhmMDEwYjQyMjY5MjJmZDY3M2I0MGRlMjM2NTVmOSZlcD12MV9pbnRlcm5hbF9naWZzX2dpZklkJmN0PWc/c1jS67qnybh9Vy5MO9/giphy.gif\" width=\"70%\">\n",
    "    </td>\n",
    "    <td>\n",
    "      <p><strong><font color=\"brown\">Análisis de datos de salud:</font></strong> Polars es útil para preprocesar y analizar grandes conjuntos de datos de salud, lo que podría incluir la predicción de enfermedades, identificación de patrones de salud y enfermedad, etc.</p>\n",
    "      <img src=\"https://media4.giphy.com/media/tG31riAUvDM1PcOD4a/giphy.gif\" width=\"70%\">\n",
    "    </td>\n",
    "  </tr>\n",
    "  <tr>\n",
    "    <td>\n",
    "      <p><strong><font color=\"brown\">Procesamiento de datos de imágenes:</font></strong> Polars puede analizar grandes conjuntos de datos de imágenes, lo que podría incluir el análisis de imágenes médicas, segmentación de imágenes, análisis de imágenes satelitales, etc.</p>\n",
    "      <img src=\"https://media2.giphy.com/media/79oRPS6zThC6bKV4Jt/giphy.gif\" width=\"70%\">\n",
    "    </td>\n",
    "    <td>\n",
    "      <p><strong><font color=\"brown\">Análisis de datos de redes sociales:</font></strong> Este paquete puede preprocesar y analizar grandes volúmenes de datos de redes sociales, lo que podría incluir la detección de tendencias, análisis de sentimientos, análisis de usuarios, etc.</p>\n",
    "      <img src=\"https://media2.giphy.com/media/g6VHU1GHbLLGEKYFla/giphy.gif\" width=\"70%\">\n",
    "    </td>\n",
    "  </tr>\n",
    "</table>\n"
   ]
  },
  {
   "attachments": {},
   "cell_type": "markdown",
   "id": "37e862b2",
   "metadata": {},
   "source": [
    "## <p style=\"color:#FFA500;\">Primeros pasos con la librería Polars</p>\n",
    "<div style=\"display: flex; flex-direction: row;\">\n",
    "  <div style=\"flex: 1; text-align: left;\">\n",
    "    <p>Para instalar la librería Polars en tu PC, puedes seguir los siguientes pasos:</p>\n",
    "    <ol>\n",
    "      <li>Abre una terminal o línea de comandos en tu PC.</li>\n",
    "      <li>Asegúrate de tener Python instalado en tu sistema. Puedes comprobarlo ejecutando el comando <code>python --version</code> en la terminal. Si no lo tienes instalado, puedes descargarlo desde la página oficial de Python.</li>\n",
    "      <li>Ejecuta el siguiente comando en la terminal para instalar Polars a través de pip, el gestor de paquetes de Python:</li>\n",
    "    </ol>\n",
    "  </div>\n",
    "  <div style=\"flex: 1; text-align: center;\">\n",
    "    <img src=\"https://i.pinimg.com/originals/b9/30/c1/b930c1c4d7a3ac78403994b250dbe9e1.gif\" alt=\"San Juan Mountains\" title=\"San Juan Mountains\" width=\"260\" height=\"198\" />\n",
    "  </div>\n",
    "</div>\n"
   ]
  },
  {
   "cell_type": "code",
   "execution_count": 78,
   "id": "315276f4",
   "metadata": {},
   "outputs": [],
   "source": [
    "#Comando para instalar por primera vez la librería Polars en tu pc\n",
    "#Recuerda que se necesita tener instalado Python 3.7 en adelante.\n",
    "#!pip install polars"
   ]
  },
  {
   "attachments": {},
   "cell_type": "markdown",
   "id": "96704e3b",
   "metadata": {},
   "source": [
    "Espera a que se complete la instalación. Este proceso puede tardar unos minutos dependiendo de tu conexión a internet.\n",
    "Una vez que la instalación haya terminado, ya puedes importar Polars en tus scripts de Python utilizando la línea de código:"
   ]
  },
  {
   "cell_type": "code",
   "execution_count": 79,
   "id": "b6b72693",
   "metadata": {},
   "outputs": [],
   "source": [
    "#Lo importamos como **pl** por consenso y \n",
    "#porque la propia documentación de Polars recomienda usarlo.\n",
    "import polars as pl"
   ]
  },
  {
   "attachments": {},
   "cell_type": "markdown",
   "id": "c41288f1",
   "metadata": {},
   "source": [
    "### <p style=\"color:#FFA500;\">Estructura básica de la librería Polars</p>\n",
    "Aquí mostramos un pequeño ejemplo de la estructura de código que maneja Polars. Más adelante exploraremos las principales funciones de la librería."
   ]
  },
  {
   "cell_type": "code",
   "execution_count": 80,
   "id": "12b034d3",
   "metadata": {},
   "outputs": [
    {
     "name": "stdout",
     "output_type": "stream",
     "text": [
      "shape: (2, 2)\n",
      "┌──────────┬───────┐\n",
      "│ servicio ┆ costo │\n",
      "│ ---      ┆ ---   │\n",
      "│ str      ┆ i64   │\n",
      "╞══════════╪═══════╡\n",
      "│ luz      ┆ 40    │\n",
      "│ internet ┆ 50    │\n",
      "└──────────┴───────┘\n"
     ]
    }
   ],
   "source": [
    "import polars as pl\n",
    "\n",
    "# Crear un DataFrame de Polars a partir de un diccionario\n",
    "datos = {\"servicio\": [\"agua\", \"luz\", \"internet\"], \"costo\": [30, 40, 50]}\n",
    "df = pl.DataFrame(datos)\n",
    "\n",
    "# Seleccionar columnas específicas del DataFrame\n",
    "df = df.select(\"servicio\", \"costo\")\n",
    "\n",
    "# Filtrar filas basadas en una condición\n",
    "df = df.filter(pl.col(\"costo\") > 35)\n",
    "\n",
    "# Mostrar el DataFrame resultante\n",
    "print(df)"
   ]
  },
  {
   "attachments": {},
   "cell_type": "markdown",
   "id": "b323d460",
   "metadata": {},
   "source": [
    "## <p style=\"color:#FFA500;\">¿En qué se diferencia con la librería Pandas?</p>\n",
    "\n",
    "\n",
    "Polars es una librería de procesamiento de datos en memoria que se enfoca en la eficiencia y el procesamiento en paralelo, lo que le permite trabajar con conjuntos de datos más grandes y procesarlos de manera más eficiente que Pandas. Además, Polars puede trabajar con datos heterogéneos, tiene funciones específicas para el procesamiento de datos de series de tiempo y utiliza una sintaxis más moderna y concisa.\n",
    "\n",
    "![Polars vs. Pandas](https://i.pinimg.com/originals/c3/09/c8/c309c86ab0895312fb6e6b02909c305c.gif \"Polars vs. Pandas\")\n",
    "\n",
    "\n",
    "Polars ingresa al mercado a competir con la bandera de **mayor velocidad en el procesamiento grandes cantidades de datos**. Como podemos ver en su documentación se realizaron pruebas de velocidad comparandolo con otras librerías. En este caso se procesaba un dataframe de 1.000.000.000 de filas y 9 columnas y el resultado en cuanto a velocidad de procesamiento da como ganador a Polars.\n",
    "\n",
    "![Comparación de la velocidad de procesamiento!](https://miro.medium.com/v2/resize:fit:828/format:webp/0*5BpM5lMydgwju6Qo.png \"Versus de velocidad\")"
   ]
  },
  {
   "attachments": {},
   "cell_type": "markdown",
   "id": "7ade37c2",
   "metadata": {},
   "source": [
    "## <p style=\"color:#FFA500;\">Principales funciones de Polars</p>\n",
    " \n",
    "<div style=\"display: flex; flex-direction: row; align-items: center;\">\n",
    "  <div style=\"flex: 1;\">\n",
    "    <p>A continuación les presentaremos las principales funciones de la librería Polars, con ello, ustedes podrán empezar a usarlo para sus proyectos personales, académicos y profesionales. <strong>¡Vamos a empezar!</strong></p>\n",
    "     <h3>Lectura de datos</h3>\n",
    "    <p>La primera diferencia que vemos con Pandas, por ejemplo, es que el formato del Dataframe de Polars no imprime el index. Además de indicarnos el tipo de datos que tiene cada columna.</p>\n",
    "  </div>\n",
    "  <div style=\"flex: 1; display: flex; justify-content: center;\">\n",
    "    <img src=\"https://pa1.narvii.com/6638/0493d622b258a51d9d35f3c961a936d8f98275c9_00.gif\" alt=\"Polars vs. Pandas\">\n",
    "  </div>\n",
    "</div>"
   ]
  },
  {
   "cell_type": "code",
   "execution_count": 81,
   "id": "8c92566a",
   "metadata": {},
   "outputs": [
    {
     "name": "stdout",
     "output_type": "stream",
     "text": [
      "shape: (11, 8)\n",
      "┌─────────────┬──────────┬──────────┬─────────────┬─────────┬────────────┬────────────┬────────────┐\n",
      "│ Name        ┆ Sales_uk ┆ Sales_us ┆ Series      ┆ Release ┆ Genre      ┆ Developer  ┆ Publisher  │\n",
      "│ ---         ┆ ---      ┆ ---      ┆ ---         ┆ ---     ┆ ---        ┆ ---        ┆ ---        │\n",
      "│ str         ┆ f64      ┆ i64      ┆ str         ┆ str     ┆ str        ┆ str        ┆ str        │\n",
      "╞═════════════╪══════════╪══════════╪═════════════╪═════════╪════════════╪════════════╪════════════╡\n",
      "│ SimCity     ┆ 5.0      ┆ 3        ┆ SimCity     ┆ Jan-99  ┆ City-build ┆ Maxis      ┆ Electronic │\n",
      "│ 3000        ┆          ┆          ┆             ┆         ┆ ing        ┆            ┆ Arts       │\n",
      "│ Diablo II   ┆ 4.0      ┆ 1        ┆ Diablo      ┆ Jun-00  ┆ Action rol ┆ Blizzard   ┆ Blizzard   │\n",
      "│             ┆          ┆          ┆             ┆         ┆ e-playing  ┆ North      ┆ Entertainm │\n",
      "│             ┆          ┆          ┆             ┆         ┆            ┆            ┆ ent        │\n",
      "│ Final       ┆ 2.1      ┆ 4        ┆ Final       ┆ Jun-98  ┆ Role-playi ┆ Square     ┆ Eidos Inte │\n",
      "│ Fantasy VII ┆          ┆          ┆ Fantasy     ┆         ┆ ng game    ┆            ┆ ractive    │\n",
      "│ Counter-Str ┆ 2.0      ┆ 3        ┆ Counter-Str ┆ Nov-04  ┆ First-pers ┆ Valve      ┆ Electronic │\n",
      "│ ike: Source ┆          ┆          ┆ ike         ┆         ┆ on shooter ┆            ┆ Arts (reta │\n",
      "│             ┆          ┆          ┆             ┆         ┆            ┆            ┆ il)        │\n",
      "│ …           ┆ …        ┆ …        ┆ …           ┆ …       ┆ …          ┆ …          ┆ …          │\n",
      "│ Mafia: The  ┆ 2.0      ┆ 1        ┆ Mafia       ┆ Aug-02  ┆ Third-pers ┆ Illusion   ┆ Gathering  │\n",
      "│ City of     ┆          ┆          ┆             ┆         ┆ on shooter ┆ Softworks  ┆ of         │\n",
      "│ Lost Heaven ┆          ┆          ┆             ┆         ┆            ┆            ┆ Developers │\n",
      "│ SimCity 4   ┆ 2.0      ┆ 3        ┆ SimCity     ┆ Jan-03  ┆ City-build ┆ Maxis      ┆ Electronic │\n",
      "│             ┆          ┆          ┆             ┆         ┆ ing        ┆            ┆ Arts (Wind │\n",
      "│             ┆          ┆          ┆             ┆         ┆            ┆            ┆ ows)       │\n",
      "│ Star Wars   ┆ 1.0      ┆ 2        ┆ Star Wars   ┆ Jun-03  ┆ MMORPG     ┆ Sony       ┆ LucasArts  │\n",
      "│ Galaxies    ┆          ┆          ┆             ┆         ┆            ┆ Online Ent ┆            │\n",
      "│             ┆          ┆          ┆             ┆         ┆            ┆ ertainment ┆            │\n",
      "│ StarCraft   ┆ 1.0      ┆ 3        ┆ StarCraft   ┆ Mar-13  ┆ Real-time  ┆ Blizzard   ┆ Blizzard   │\n",
      "│ II: Heart   ┆          ┆          ┆             ┆         ┆ strategy   ┆ Entertainm ┆ Entertainm │\n",
      "│ of the      ┆          ┆          ┆             ┆         ┆            ┆ ent        ┆ ent        │\n",
      "│ Swarm       ┆          ┆          ┆             ┆         ┆            ┆            ┆            │\n",
      "└─────────────┴──────────┴──────────┴─────────────┴─────────┴────────────┴────────────┴────────────┘\n"
     ]
    }
   ],
   "source": [
    "import polars as pl\n",
    "df = pl.read_csv(\"Games.csv\")\n",
    "print(df)"
   ]
  },
  {
   "attachments": {},
   "cell_type": "markdown",
   "id": "95f4ba74",
   "metadata": {},
   "source": [
    "### <span style=\"color:Brown;\">Mostrar el nombre las del columas</span>\n",
    " \n",
    "En este punto Polars no se complica ya que el código se resume así e imprime una lista con los nombre de las columnas como elementos:"
   ]
  },
  {
   "cell_type": "code",
   "execution_count": 82,
   "id": "57749c21",
   "metadata": {},
   "outputs": [
    {
     "data": {
      "text/plain": [
       "['Name',\n",
       " 'Sales_uk',\n",
       " 'Sales_us',\n",
       " 'Series',\n",
       " 'Release',\n",
       " 'Genre',\n",
       " 'Developer',\n",
       " 'Publisher']"
      ]
     },
     "execution_count": 82,
     "metadata": {},
     "output_type": "execute_result"
    }
   ],
   "source": [
    "df.columns"
   ]
  },
  {
   "attachments": {},
   "cell_type": "markdown",
   "id": "359d27cc",
   "metadata": {},
   "source": [
    "### <span style=\"color:Brown;\">Seleccionar columnas</span>\n",
    "Para nuestros proyectos, Polars nos facilita la selección de columnas mediante los siguientes códigos según sea nuestro propósito:"
   ]
  },
  {
   "cell_type": "code",
   "execution_count": 83,
   "id": "758329bf",
   "metadata": {},
   "outputs": [
    {
     "data": {
      "text/html": [
       "<div><style>\n",
       ".dataframe > thead > tr > th,\n",
       ".dataframe > tbody > tr > td {\n",
       "  text-align: right;\n",
       "}\n",
       "</style>\n",
       "<small>shape: (11, 1)</small><table border=\"1\" class=\"dataframe\"><thead><tr><th>Genre</th></tr><tr><td>str</td></tr></thead><tbody><tr><td>&quot;City-building&quot;</td></tr><tr><td>&quot;Action role-pl…</td></tr><tr><td>&quot;Role-playing g…</td></tr><tr><td>&quot;First-person s…</td></tr><tr><td>&quot;Action role-pl…</td></tr><tr><td>&quot;First-person s…</td></tr><tr><td>&quot;Action-adventu…</td></tr><tr><td>&quot;Third-person s…</td></tr><tr><td>&quot;City-building&quot;</td></tr><tr><td>&quot;MMORPG&quot;</td></tr><tr><td>&quot;Real-time stra…</td></tr></tbody></table></div>"
      ],
      "text/plain": [
       "shape: (11, 1)\n",
       "┌──────────────────────┐\n",
       "│ Genre                │\n",
       "│ ---                  │\n",
       "│ str                  │\n",
       "╞══════════════════════╡\n",
       "│ City-building        │\n",
       "│ Action role-playing  │\n",
       "│ Role-playing game    │\n",
       "│ First-person shooter │\n",
       "│ …                    │\n",
       "│ Third-person shooter │\n",
       "│ City-building        │\n",
       "│ MMORPG               │\n",
       "│ Real-time strategy   │\n",
       "└──────────────────────┘"
      ]
     },
     "execution_count": 83,
     "metadata": {},
     "output_type": "execute_result"
    }
   ],
   "source": [
    "#Seleccionamos la columna 'Genre'\n",
    "df.select(pl.col('Genre'))"
   ]
  },
  {
   "cell_type": "code",
   "execution_count": 84,
   "id": "dea497f8",
   "metadata": {},
   "outputs": [
    {
     "data": {
      "text/html": [
       "<div><style>\n",
       ".dataframe > thead > tr > th,\n",
       ".dataframe > tbody > tr > td {\n",
       "  text-align: right;\n",
       "}\n",
       "</style>\n",
       "<small>shape: (11, 2)</small><table border=\"1\" class=\"dataframe\"><thead><tr><th>Name</th><th>Sales_us</th></tr><tr><td>str</td><td>i64</td></tr></thead><tbody><tr><td>&quot;SimCity 3000&quot;</td><td>3</td></tr><tr><td>&quot;Diablo II&quot;</td><td>1</td></tr><tr><td>&quot;Final Fantasy …</td><td>4</td></tr><tr><td>&quot;Counter-Strike…</td><td>3</td></tr><tr><td>&quot;Diablo&quot;</td><td>1</td></tr><tr><td>&quot;Doom&quot;</td><td>3</td></tr><tr><td>&quot;Grand Theft Au…</td><td>4</td></tr><tr><td>&quot;Mafia: The Cit…</td><td>1</td></tr><tr><td>&quot;SimCity 4&quot;</td><td>3</td></tr><tr><td>&quot;Star Wars Gala…</td><td>2</td></tr><tr><td>&quot;StarCraft II: …</td><td>3</td></tr></tbody></table></div>"
      ],
      "text/plain": [
       "shape: (11, 2)\n",
       "┌──────────────────────────────────┬──────────┐\n",
       "│ Name                             ┆ Sales_us │\n",
       "│ ---                              ┆ ---      │\n",
       "│ str                              ┆ i64      │\n",
       "╞══════════════════════════════════╪══════════╡\n",
       "│ SimCity 3000                     ┆ 3        │\n",
       "│ Diablo II                        ┆ 1        │\n",
       "│ Final Fantasy VII                ┆ 4        │\n",
       "│ Counter-Strike: Source           ┆ 3        │\n",
       "│ …                                ┆ …        │\n",
       "│ Mafia: The City of Lost Heaven   ┆ 1        │\n",
       "│ SimCity 4                        ┆ 3        │\n",
       "│ Star Wars Galaxies               ┆ 2        │\n",
       "│ StarCraft II: Heart of the Swarm ┆ 3        │\n",
       "└──────────────────────────────────┴──────────┘"
      ]
     },
     "execution_count": 84,
     "metadata": {},
     "output_type": "execute_result"
    }
   ],
   "source": [
    "# Seleccionamos 2 a más columnas: Name y Sales_us\n",
    "df.select(pl.col(['Name', 'Sales_us']))"
   ]
  },
  {
   "cell_type": "code",
   "execution_count": 85,
   "id": "7deb5d12",
   "metadata": {},
   "outputs": [
    {
     "data": {
      "text/html": [
       "<div><style>\n",
       ".dataframe > thead > tr > th,\n",
       ".dataframe > tbody > tr > td {\n",
       "  text-align: right;\n",
       "}\n",
       "</style>\n",
       "<small>shape: (11, 8)</small><table border=\"1\" class=\"dataframe\"><thead><tr><th>Name</th><th>Sales_uk</th><th>Sales_us</th><th>Series</th><th>Release</th><th>Genre</th><th>Developer</th><th>Publisher</th></tr><tr><td>str</td><td>f64</td><td>i64</td><td>str</td><td>str</td><td>str</td><td>str</td><td>str</td></tr></thead><tbody><tr><td>&quot;SimCity 3000&quot;</td><td>5.0</td><td>3</td><td>&quot;SimCity&quot;</td><td>&quot;Jan-99&quot;</td><td>&quot;City-building&quot;</td><td>&quot;Maxis&quot;</td><td>&quot;Electronic Art…</td></tr><tr><td>&quot;Diablo II&quot;</td><td>4.0</td><td>1</td><td>&quot;Diablo&quot;</td><td>&quot;Jun-00&quot;</td><td>&quot;Action role-pl…</td><td>&quot;Blizzard North…</td><td>&quot;Blizzard Enter…</td></tr><tr><td>&quot;Final Fantasy …</td><td>2.1</td><td>4</td><td>&quot;Final Fantasy&quot;</td><td>&quot;Jun-98&quot;</td><td>&quot;Role-playing g…</td><td>&quot;Square&quot;</td><td>&quot;Eidos Interact…</td></tr><tr><td>&quot;Counter-Strike…</td><td>2.0</td><td>3</td><td>&quot;Counter-Strike…</td><td>&quot;Nov-04&quot;</td><td>&quot;First-person s…</td><td>&quot;Valve&quot;</td><td>&quot;Electronic Art…</td></tr><tr><td>&quot;Diablo&quot;</td><td>2.0</td><td>1</td><td>&quot;Diablo&quot;</td><td>&quot;Dec-96&quot;</td><td>&quot;Action role-pl…</td><td>&quot;Blizzard North…</td><td>&quot;Blizzard Enter…</td></tr><tr><td>&quot;Doom&quot;</td><td>2.0</td><td>3</td><td>&quot;Doom&quot;</td><td>&quot;Dec-93&quot;</td><td>&quot;First-person s…</td><td>&quot;id Software&quot;</td><td>&quot;id Software&quot;</td></tr><tr><td>&quot;Grand Theft Au…</td><td>2.0</td><td>4</td><td>&quot;Grand Theft Au…</td><td>&quot;Apr-15&quot;</td><td>&quot;Action-adventu…</td><td>&quot;Rockstar North…</td><td>&quot;Rockstar Games…</td></tr><tr><td>&quot;Mafia: The Cit…</td><td>2.0</td><td>1</td><td>&quot;Mafia&quot;</td><td>&quot;Aug-02&quot;</td><td>&quot;Third-person s…</td><td>&quot;Illusion Softw…</td><td>&quot;Gathering of D…</td></tr><tr><td>&quot;SimCity 4&quot;</td><td>2.0</td><td>3</td><td>&quot;SimCity&quot;</td><td>&quot;Jan-03&quot;</td><td>&quot;City-building&quot;</td><td>&quot;Maxis&quot;</td><td>&quot;Electronic Art…</td></tr><tr><td>&quot;Star Wars Gala…</td><td>1.0</td><td>2</td><td>&quot;Star Wars&quot;</td><td>&quot;Jun-03&quot;</td><td>&quot;MMORPG&quot;</td><td>&quot;Sony Online En…</td><td>&quot;LucasArts&quot;</td></tr><tr><td>&quot;StarCraft II: …</td><td>1.0</td><td>3</td><td>&quot;StarCraft&quot;</td><td>&quot;Mar-13&quot;</td><td>&quot;Real-time stra…</td><td>&quot;Blizzard Enter…</td><td>&quot;Blizzard Enter…</td></tr></tbody></table></div>"
      ],
      "text/plain": [
       "shape: (11, 8)\n",
       "┌─────────────┬──────────┬──────────┬─────────────┬─────────┬────────────┬────────────┬────────────┐\n",
       "│ Name        ┆ Sales_uk ┆ Sales_us ┆ Series      ┆ Release ┆ Genre      ┆ Developer  ┆ Publisher  │\n",
       "│ ---         ┆ ---      ┆ ---      ┆ ---         ┆ ---     ┆ ---        ┆ ---        ┆ ---        │\n",
       "│ str         ┆ f64      ┆ i64      ┆ str         ┆ str     ┆ str        ┆ str        ┆ str        │\n",
       "╞═════════════╪══════════╪══════════╪═════════════╪═════════╪════════════╪════════════╪════════════╡\n",
       "│ SimCity     ┆ 5.0      ┆ 3        ┆ SimCity     ┆ Jan-99  ┆ City-build ┆ Maxis      ┆ Electronic │\n",
       "│ 3000        ┆          ┆          ┆             ┆         ┆ ing        ┆            ┆ Arts       │\n",
       "│ Diablo II   ┆ 4.0      ┆ 1        ┆ Diablo      ┆ Jun-00  ┆ Action rol ┆ Blizzard   ┆ Blizzard   │\n",
       "│             ┆          ┆          ┆             ┆         ┆ e-playing  ┆ North      ┆ Entertainm │\n",
       "│             ┆          ┆          ┆             ┆         ┆            ┆            ┆ ent        │\n",
       "│ Final       ┆ 2.1      ┆ 4        ┆ Final       ┆ Jun-98  ┆ Role-playi ┆ Square     ┆ Eidos Inte │\n",
       "│ Fantasy VII ┆          ┆          ┆ Fantasy     ┆         ┆ ng game    ┆            ┆ ractive    │\n",
       "│ Counter-Str ┆ 2.0      ┆ 3        ┆ Counter-Str ┆ Nov-04  ┆ First-pers ┆ Valve      ┆ Electronic │\n",
       "│ ike: Source ┆          ┆          ┆ ike         ┆         ┆ on shooter ┆            ┆ Arts (reta │\n",
       "│             ┆          ┆          ┆             ┆         ┆            ┆            ┆ il)        │\n",
       "│ …           ┆ …        ┆ …        ┆ …           ┆ …       ┆ …          ┆ …          ┆ …          │\n",
       "│ Mafia: The  ┆ 2.0      ┆ 1        ┆ Mafia       ┆ Aug-02  ┆ Third-pers ┆ Illusion   ┆ Gathering  │\n",
       "│ City of     ┆          ┆          ┆             ┆         ┆ on shooter ┆ Softworks  ┆ of         │\n",
       "│ Lost Heaven ┆          ┆          ┆             ┆         ┆            ┆            ┆ Developers │\n",
       "│ SimCity 4   ┆ 2.0      ┆ 3        ┆ SimCity     ┆ Jan-03  ┆ City-build ┆ Maxis      ┆ Electronic │\n",
       "│             ┆          ┆          ┆             ┆         ┆ ing        ┆            ┆ Arts (Wind │\n",
       "│             ┆          ┆          ┆             ┆         ┆            ┆            ┆ ows)       │\n",
       "│ Star Wars   ┆ 1.0      ┆ 2        ┆ Star Wars   ┆ Jun-03  ┆ MMORPG     ┆ Sony       ┆ LucasArts  │\n",
       "│ Galaxies    ┆          ┆          ┆             ┆         ┆            ┆ Online Ent ┆            │\n",
       "│             ┆          ┆          ┆             ┆         ┆            ┆ ertainment ┆            │\n",
       "│ StarCraft   ┆ 1.0      ┆ 3        ┆ StarCraft   ┆ Mar-13  ┆ Real-time  ┆ Blizzard   ┆ Blizzard   │\n",
       "│ II: Heart   ┆          ┆          ┆             ┆         ┆ strategy   ┆ Entertainm ┆ Entertainm │\n",
       "│ of the      ┆          ┆          ┆             ┆         ┆            ┆ ent        ┆ ent        │\n",
       "│ Swarm       ┆          ┆          ┆             ┆         ┆            ┆            ┆            │\n",
       "└─────────────┴──────────┴──────────┴─────────────┴─────────┴────────────┴────────────┴────────────┘"
      ]
     },
     "execution_count": 85,
     "metadata": {},
     "output_type": "execute_result"
    }
   ],
   "source": [
    "# Seleccionamos todas las columnas\n",
    "df.select(pl.col('*'))"
   ]
  },
  {
   "attachments": {},
   "cell_type": "markdown",
   "id": "dc9c882a",
   "metadata": {},
   "source": [
    "### <span style=\"color:Brown;\">Agrupar y contar</span>\n",
    "Contar cuantas veces aparece un elemento dentro de una columna puede ser fácil si se trata de una tabla pequeña. Polars puede hacer este trabajo a gran escala usando eficientemente los recursos de nuestra pc. Aquí te mostramos un pequeño ejemplo con la función `groupby()`"
   ]
  },
  {
   "cell_type": "code",
   "execution_count": 86,
   "id": "d3823eb8",
   "metadata": {},
   "outputs": [
    {
     "data": {
      "text/html": [
       "<div><style>\n",
       ".dataframe > thead > tr > th,\n",
       ".dataframe > tbody > tr > td {\n",
       "  text-align: right;\n",
       "}\n",
       "</style>\n",
       "<small>shape: (5, 2)</small><table border=\"1\" class=\"dataframe\"><thead><tr><th>Sales_uk</th><th>count</th></tr><tr><td>f64</td><td>u32</td></tr></thead><tbody><tr><td>4.0</td><td>1</td></tr><tr><td>2.0</td><td>6</td></tr><tr><td>1.0</td><td>2</td></tr><tr><td>2.1</td><td>1</td></tr><tr><td>5.0</td><td>1</td></tr></tbody></table></div>"
      ],
      "text/plain": [
       "shape: (5, 2)\n",
       "┌──────────┬───────┐\n",
       "│ Sales_uk ┆ count │\n",
       "│ ---      ┆ ---   │\n",
       "│ f64      ┆ u32   │\n",
       "╞══════════╪═══════╡\n",
       "│ 4.0      ┆ 1     │\n",
       "│ 2.0      ┆ 6     │\n",
       "│ 1.0      ┆ 2     │\n",
       "│ 2.1      ┆ 1     │\n",
       "│ 5.0      ┆ 1     │\n",
       "└──────────┴───────┘"
      ]
     },
     "execution_count": 86,
     "metadata": {},
     "output_type": "execute_result"
    }
   ],
   "source": [
    "# Agrupamos según ventas 'Sales'\n",
    "df.groupby(\"Sales_uk\").count()"
   ]
  },
  {
   "attachments": {},
   "cell_type": "markdown",
   "id": "66d9afe0",
   "metadata": {},
   "source": []
  },
  {
   "attachments": {},
   "cell_type": "markdown",
   "id": "fa3a758a",
   "metadata": {},
   "source": [
    "### <span style=\"color:Brown;\">Crear nuevas columnas</span>\n",
    "¿Deseas crear una nueva columna a partir de otras? Aquí te mostramos cómo. En este caso buscamos una columna que sea la suma de otras 2 y otra más para el promedio."
   ]
  },
  {
   "cell_type": "code",
   "execution_count": 87,
   "id": "076bd4fb",
   "metadata": {},
   "outputs": [
    {
     "data": {
      "text/html": [
       "<div><style>\n",
       ".dataframe > thead > tr > th,\n",
       ".dataframe > tbody > tr > td {\n",
       "  text-align: right;\n",
       "}\n",
       "</style>\n",
       "<small>shape: (11, 9)</small><table border=\"1\" class=\"dataframe\"><thead><tr><th>Name</th><th>Sales_uk</th><th>Sales_us</th><th>Series</th><th>Release</th><th>Genre</th><th>Developer</th><th>Publisher</th><th>Sales_G</th></tr><tr><td>str</td><td>f64</td><td>i64</td><td>str</td><td>str</td><td>str</td><td>str</td><td>str</td><td>f64</td></tr></thead><tbody><tr><td>&quot;SimCity 3000&quot;</td><td>5.0</td><td>3</td><td>&quot;SimCity&quot;</td><td>&quot;Jan-99&quot;</td><td>&quot;City-building&quot;</td><td>&quot;Maxis&quot;</td><td>&quot;Electronic Art…</td><td>8.0</td></tr><tr><td>&quot;Diablo II&quot;</td><td>4.0</td><td>1</td><td>&quot;Diablo&quot;</td><td>&quot;Jun-00&quot;</td><td>&quot;Action role-pl…</td><td>&quot;Blizzard North…</td><td>&quot;Blizzard Enter…</td><td>5.0</td></tr><tr><td>&quot;Final Fantasy …</td><td>2.1</td><td>4</td><td>&quot;Final Fantasy&quot;</td><td>&quot;Jun-98&quot;</td><td>&quot;Role-playing g…</td><td>&quot;Square&quot;</td><td>&quot;Eidos Interact…</td><td>6.1</td></tr><tr><td>&quot;Counter-Strike…</td><td>2.0</td><td>3</td><td>&quot;Counter-Strike…</td><td>&quot;Nov-04&quot;</td><td>&quot;First-person s…</td><td>&quot;Valve&quot;</td><td>&quot;Electronic Art…</td><td>5.0</td></tr><tr><td>&quot;Diablo&quot;</td><td>2.0</td><td>1</td><td>&quot;Diablo&quot;</td><td>&quot;Dec-96&quot;</td><td>&quot;Action role-pl…</td><td>&quot;Blizzard North…</td><td>&quot;Blizzard Enter…</td><td>3.0</td></tr><tr><td>&quot;Doom&quot;</td><td>2.0</td><td>3</td><td>&quot;Doom&quot;</td><td>&quot;Dec-93&quot;</td><td>&quot;First-person s…</td><td>&quot;id Software&quot;</td><td>&quot;id Software&quot;</td><td>5.0</td></tr><tr><td>&quot;Grand Theft Au…</td><td>2.0</td><td>4</td><td>&quot;Grand Theft Au…</td><td>&quot;Apr-15&quot;</td><td>&quot;Action-adventu…</td><td>&quot;Rockstar North…</td><td>&quot;Rockstar Games…</td><td>6.0</td></tr><tr><td>&quot;Mafia: The Cit…</td><td>2.0</td><td>1</td><td>&quot;Mafia&quot;</td><td>&quot;Aug-02&quot;</td><td>&quot;Third-person s…</td><td>&quot;Illusion Softw…</td><td>&quot;Gathering of D…</td><td>3.0</td></tr><tr><td>&quot;SimCity 4&quot;</td><td>2.0</td><td>3</td><td>&quot;SimCity&quot;</td><td>&quot;Jan-03&quot;</td><td>&quot;City-building&quot;</td><td>&quot;Maxis&quot;</td><td>&quot;Electronic Art…</td><td>5.0</td></tr><tr><td>&quot;Star Wars Gala…</td><td>1.0</td><td>2</td><td>&quot;Star Wars&quot;</td><td>&quot;Jun-03&quot;</td><td>&quot;MMORPG&quot;</td><td>&quot;Sony Online En…</td><td>&quot;LucasArts&quot;</td><td>3.0</td></tr><tr><td>&quot;StarCraft II: …</td><td>1.0</td><td>3</td><td>&quot;StarCraft&quot;</td><td>&quot;Mar-13&quot;</td><td>&quot;Real-time stra…</td><td>&quot;Blizzard Enter…</td><td>&quot;Blizzard Enter…</td><td>4.0</td></tr></tbody></table></div>"
      ],
      "text/plain": [
       "shape: (11, 9)\n",
       "┌────────────┬──────────┬──────────┬────────────┬───┬────────────┬───────────┬───────────┬─────────┐\n",
       "│ Name       ┆ Sales_uk ┆ Sales_us ┆ Series     ┆ … ┆ Genre      ┆ Developer ┆ Publisher ┆ Sales_G │\n",
       "│ ---        ┆ ---      ┆ ---      ┆ ---        ┆   ┆ ---        ┆ ---       ┆ ---       ┆ ---     │\n",
       "│ str        ┆ f64      ┆ i64      ┆ str        ┆   ┆ str        ┆ str       ┆ str       ┆ f64     │\n",
       "╞════════════╪══════════╪══════════╪════════════╪═══╪════════════╪═══════════╪═══════════╪═════════╡\n",
       "│ SimCity    ┆ 5.0      ┆ 3        ┆ SimCity    ┆ … ┆ City-build ┆ Maxis     ┆ Electroni ┆ 8.0     │\n",
       "│ 3000       ┆          ┆          ┆            ┆   ┆ ing        ┆           ┆ c Arts    ┆         │\n",
       "│ Diablo II  ┆ 4.0      ┆ 1        ┆ Diablo     ┆ … ┆ Action rol ┆ Blizzard  ┆ Blizzard  ┆ 5.0     │\n",
       "│            ┆          ┆          ┆            ┆   ┆ e-playing  ┆ North     ┆ Entertain ┆         │\n",
       "│            ┆          ┆          ┆            ┆   ┆            ┆           ┆ ment      ┆         │\n",
       "│ Final      ┆ 2.1      ┆ 4        ┆ Final      ┆ … ┆ Role-playi ┆ Square    ┆ Eidos Int ┆ 6.1     │\n",
       "│ Fantasy    ┆          ┆          ┆ Fantasy    ┆   ┆ ng game    ┆           ┆ eractive  ┆         │\n",
       "│ VII        ┆          ┆          ┆            ┆   ┆            ┆           ┆           ┆         │\n",
       "│ Counter-St ┆ 2.0      ┆ 3        ┆ Counter-St ┆ … ┆ First-pers ┆ Valve     ┆ Electroni ┆ 5.0     │\n",
       "│ rike:      ┆          ┆          ┆ rike       ┆   ┆ on shooter ┆           ┆ c Arts (r ┆         │\n",
       "│ Source     ┆          ┆          ┆            ┆   ┆            ┆           ┆ etail)    ┆         │\n",
       "│ …          ┆ …        ┆ …        ┆ …          ┆ … ┆ …          ┆ …         ┆ …         ┆ …       │\n",
       "│ Mafia: The ┆ 2.0      ┆ 1        ┆ Mafia      ┆ … ┆ Third-pers ┆ Illusion  ┆ Gathering ┆ 3.0     │\n",
       "│ City of    ┆          ┆          ┆            ┆   ┆ on shooter ┆ Softworks ┆ of Develo ┆         │\n",
       "│ Lost       ┆          ┆          ┆            ┆   ┆            ┆           ┆ pers      ┆         │\n",
       "│ Heaven     ┆          ┆          ┆            ┆   ┆            ┆           ┆           ┆         │\n",
       "│ SimCity 4  ┆ 2.0      ┆ 3        ┆ SimCity    ┆ … ┆ City-build ┆ Maxis     ┆ Electroni ┆ 5.0     │\n",
       "│            ┆          ┆          ┆            ┆   ┆ ing        ┆           ┆ c Arts (W ┆         │\n",
       "│            ┆          ┆          ┆            ┆   ┆            ┆           ┆ indows)   ┆         │\n",
       "│ Star Wars  ┆ 1.0      ┆ 2        ┆ Star Wars  ┆ … ┆ MMORPG     ┆ Sony      ┆ LucasArts ┆ 3.0     │\n",
       "│ Galaxies   ┆          ┆          ┆            ┆   ┆            ┆ Online    ┆           ┆         │\n",
       "│            ┆          ┆          ┆            ┆   ┆            ┆ Entertain ┆           ┆         │\n",
       "│            ┆          ┆          ┆            ┆   ┆            ┆ ment      ┆           ┆         │\n",
       "│ StarCraft  ┆ 1.0      ┆ 3        ┆ StarCraft  ┆ … ┆ Real-time  ┆ Blizzard  ┆ Blizzard  ┆ 4.0     │\n",
       "│ II: Heart  ┆          ┆          ┆            ┆   ┆ strategy   ┆ Entertain ┆ Entertain ┆         │\n",
       "│ of the     ┆          ┆          ┆            ┆   ┆            ┆ ment      ┆ ment      ┆         │\n",
       "│ Swarm      ┆          ┆          ┆            ┆   ┆            ┆           ┆           ┆         │\n",
       "└────────────┴──────────┴──────────┴────────────┴───┴────────────┴───────────┴───────────┴─────────┘"
      ]
     },
     "execution_count": 87,
     "metadata": {},
     "output_type": "execute_result"
    }
   ],
   "source": [
    "# Para PolarS usamos el este código para añadir una columan\n",
    "df.with_columns(\n",
    "    (pl.col('Sales_us') + pl.col('Sales_uk')).alias(\"Sales_G\")\n",
    ")\n",
    "#Similar a la estructura que usa Pandas:\n",
    "# pandas: df['Sales_G'] = df['Sales_us'] + df['Sales_uk']"
   ]
  },
  {
   "cell_type": "code",
   "execution_count": 88,
   "id": "4b734986",
   "metadata": {},
   "outputs": [
    {
     "data": {
      "text/html": [
       "<div><style>\n",
       ".dataframe > thead > tr > th,\n",
       ".dataframe > tbody > tr > td {\n",
       "  text-align: right;\n",
       "}\n",
       "</style>\n",
       "<small>shape: (11, 9)</small><table border=\"1\" class=\"dataframe\"><thead><tr><th>Name</th><th>Sales_uk</th><th>Sales_us</th><th>Series</th><th>Release</th><th>Genre</th><th>Developer</th><th>Publisher</th><th>Sales_M</th></tr><tr><td>str</td><td>f64</td><td>i64</td><td>str</td><td>str</td><td>str</td><td>str</td><td>str</td><td>f64</td></tr></thead><tbody><tr><td>&quot;SimCity 3000&quot;</td><td>5.0</td><td>3</td><td>&quot;SimCity&quot;</td><td>&quot;Jan-99&quot;</td><td>&quot;City-building&quot;</td><td>&quot;Maxis&quot;</td><td>&quot;Electronic Art…</td><td>4.0</td></tr><tr><td>&quot;Diablo II&quot;</td><td>4.0</td><td>1</td><td>&quot;Diablo&quot;</td><td>&quot;Jun-00&quot;</td><td>&quot;Action role-pl…</td><td>&quot;Blizzard North…</td><td>&quot;Blizzard Enter…</td><td>2.5</td></tr><tr><td>&quot;Final Fantasy …</td><td>2.1</td><td>4</td><td>&quot;Final Fantasy&quot;</td><td>&quot;Jun-98&quot;</td><td>&quot;Role-playing g…</td><td>&quot;Square&quot;</td><td>&quot;Eidos Interact…</td><td>3.05</td></tr><tr><td>&quot;Counter-Strike…</td><td>2.0</td><td>3</td><td>&quot;Counter-Strike…</td><td>&quot;Nov-04&quot;</td><td>&quot;First-person s…</td><td>&quot;Valve&quot;</td><td>&quot;Electronic Art…</td><td>2.5</td></tr><tr><td>&quot;Diablo&quot;</td><td>2.0</td><td>1</td><td>&quot;Diablo&quot;</td><td>&quot;Dec-96&quot;</td><td>&quot;Action role-pl…</td><td>&quot;Blizzard North…</td><td>&quot;Blizzard Enter…</td><td>1.5</td></tr><tr><td>&quot;Doom&quot;</td><td>2.0</td><td>3</td><td>&quot;Doom&quot;</td><td>&quot;Dec-93&quot;</td><td>&quot;First-person s…</td><td>&quot;id Software&quot;</td><td>&quot;id Software&quot;</td><td>2.5</td></tr><tr><td>&quot;Grand Theft Au…</td><td>2.0</td><td>4</td><td>&quot;Grand Theft Au…</td><td>&quot;Apr-15&quot;</td><td>&quot;Action-adventu…</td><td>&quot;Rockstar North…</td><td>&quot;Rockstar Games…</td><td>3.0</td></tr><tr><td>&quot;Mafia: The Cit…</td><td>2.0</td><td>1</td><td>&quot;Mafia&quot;</td><td>&quot;Aug-02&quot;</td><td>&quot;Third-person s…</td><td>&quot;Illusion Softw…</td><td>&quot;Gathering of D…</td><td>1.5</td></tr><tr><td>&quot;SimCity 4&quot;</td><td>2.0</td><td>3</td><td>&quot;SimCity&quot;</td><td>&quot;Jan-03&quot;</td><td>&quot;City-building&quot;</td><td>&quot;Maxis&quot;</td><td>&quot;Electronic Art…</td><td>2.5</td></tr><tr><td>&quot;Star Wars Gala…</td><td>1.0</td><td>2</td><td>&quot;Star Wars&quot;</td><td>&quot;Jun-03&quot;</td><td>&quot;MMORPG&quot;</td><td>&quot;Sony Online En…</td><td>&quot;LucasArts&quot;</td><td>1.5</td></tr><tr><td>&quot;StarCraft II: …</td><td>1.0</td><td>3</td><td>&quot;StarCraft&quot;</td><td>&quot;Mar-13&quot;</td><td>&quot;Real-time stra…</td><td>&quot;Blizzard Enter…</td><td>&quot;Blizzard Enter…</td><td>2.0</td></tr></tbody></table></div>"
      ],
      "text/plain": [
       "shape: (11, 9)\n",
       "┌────────────┬──────────┬──────────┬────────────┬───┬────────────┬───────────┬───────────┬─────────┐\n",
       "│ Name       ┆ Sales_uk ┆ Sales_us ┆ Series     ┆ … ┆ Genre      ┆ Developer ┆ Publisher ┆ Sales_M │\n",
       "│ ---        ┆ ---      ┆ ---      ┆ ---        ┆   ┆ ---        ┆ ---       ┆ ---       ┆ ---     │\n",
       "│ str        ┆ f64      ┆ i64      ┆ str        ┆   ┆ str        ┆ str       ┆ str       ┆ f64     │\n",
       "╞════════════╪══════════╪══════════╪════════════╪═══╪════════════╪═══════════╪═══════════╪═════════╡\n",
       "│ SimCity    ┆ 5.0      ┆ 3        ┆ SimCity    ┆ … ┆ City-build ┆ Maxis     ┆ Electroni ┆ 4.0     │\n",
       "│ 3000       ┆          ┆          ┆            ┆   ┆ ing        ┆           ┆ c Arts    ┆         │\n",
       "│ Diablo II  ┆ 4.0      ┆ 1        ┆ Diablo     ┆ … ┆ Action rol ┆ Blizzard  ┆ Blizzard  ┆ 2.5     │\n",
       "│            ┆          ┆          ┆            ┆   ┆ e-playing  ┆ North     ┆ Entertain ┆         │\n",
       "│            ┆          ┆          ┆            ┆   ┆            ┆           ┆ ment      ┆         │\n",
       "│ Final      ┆ 2.1      ┆ 4        ┆ Final      ┆ … ┆ Role-playi ┆ Square    ┆ Eidos Int ┆ 3.05    │\n",
       "│ Fantasy    ┆          ┆          ┆ Fantasy    ┆   ┆ ng game    ┆           ┆ eractive  ┆         │\n",
       "│ VII        ┆          ┆          ┆            ┆   ┆            ┆           ┆           ┆         │\n",
       "│ Counter-St ┆ 2.0      ┆ 3        ┆ Counter-St ┆ … ┆ First-pers ┆ Valve     ┆ Electroni ┆ 2.5     │\n",
       "│ rike:      ┆          ┆          ┆ rike       ┆   ┆ on shooter ┆           ┆ c Arts (r ┆         │\n",
       "│ Source     ┆          ┆          ┆            ┆   ┆            ┆           ┆ etail)    ┆         │\n",
       "│ …          ┆ …        ┆ …        ┆ …          ┆ … ┆ …          ┆ …         ┆ …         ┆ …       │\n",
       "│ Mafia: The ┆ 2.0      ┆ 1        ┆ Mafia      ┆ … ┆ Third-pers ┆ Illusion  ┆ Gathering ┆ 1.5     │\n",
       "│ City of    ┆          ┆          ┆            ┆   ┆ on shooter ┆ Softworks ┆ of Develo ┆         │\n",
       "│ Lost       ┆          ┆          ┆            ┆   ┆            ┆           ┆ pers      ┆         │\n",
       "│ Heaven     ┆          ┆          ┆            ┆   ┆            ┆           ┆           ┆         │\n",
       "│ SimCity 4  ┆ 2.0      ┆ 3        ┆ SimCity    ┆ … ┆ City-build ┆ Maxis     ┆ Electroni ┆ 2.5     │\n",
       "│            ┆          ┆          ┆            ┆   ┆ ing        ┆           ┆ c Arts (W ┆         │\n",
       "│            ┆          ┆          ┆            ┆   ┆            ┆           ┆ indows)   ┆         │\n",
       "│ Star Wars  ┆ 1.0      ┆ 2        ┆ Star Wars  ┆ … ┆ MMORPG     ┆ Sony      ┆ LucasArts ┆ 1.5     │\n",
       "│ Galaxies   ┆          ┆          ┆            ┆   ┆            ┆ Online    ┆           ┆         │\n",
       "│            ┆          ┆          ┆            ┆   ┆            ┆ Entertain ┆           ┆         │\n",
       "│            ┆          ┆          ┆            ┆   ┆            ┆ ment      ┆           ┆         │\n",
       "│ StarCraft  ┆ 1.0      ┆ 3        ┆ StarCraft  ┆ … ┆ Real-time  ┆ Blizzard  ┆ Blizzard  ┆ 2.0     │\n",
       "│ II: Heart  ┆          ┆          ┆            ┆   ┆ strategy   ┆ Entertain ┆ Entertain ┆         │\n",
       "│ of the     ┆          ┆          ┆            ┆   ┆            ┆ ment      ┆ ment      ┆         │\n",
       "│ Swarm      ┆          ┆          ┆            ┆   ┆            ┆           ┆           ┆         │\n",
       "└────────────┴──────────┴──────────┴────────────┴───┴────────────┴───────────┴───────────┴─────────┘"
      ]
     },
     "execution_count": 88,
     "metadata": {},
     "output_type": "execute_result"
    }
   ],
   "source": [
    "# Creamos la columna 'promedio'\n",
    "df.with_columns(((pl.col('Sales_us') + pl.col('Sales_uk'))/2).alias(\"Sales_M\")\n",
    " )\n",
    "#Similar a la estructura que usa Pandas:\n",
    "# pandas: df['average'] = df[['math score', 'reading score', 'writing score']].mean(axis=1)"
   ]
  },
  {
   "attachments": {},
   "cell_type": "markdown",
   "id": "7834c479",
   "metadata": {},
   "source": [
    "### <span style=\"color:Brown;\">Unir Dataframes</span>\n",
    "Otra función bastante útil al momento de trabajar es cómo unir 2 estructuras de datos o DataFrames para luego operarlos o almacenarlos según sea el propósito. Para ello Polars ofrece varias clases de 'uniones' según el resultado que estemos buscando. Por ejemplo, si solo queremos la intersección usaremos el parámetro ``how='inner'``."
   ]
  },
  {
   "cell_type": "code",
   "execution_count": 89,
   "id": "75029bab",
   "metadata": {},
   "outputs": [
    {
     "name": "stdout",
     "output_type": "stream",
     "text": [
      "shape: (11, 9)\n",
      "┌────────────┬──────────┬──────────┬───────────┬───┬───────────┬───────────┬───────────┬───────────┐\n",
      "│ Name       ┆ Sales_uk ┆ Sales_us ┆ Series    ┆ … ┆ Genre     ┆ Developer ┆ Publisher ┆ Opinion   │\n",
      "│ ---        ┆ ---      ┆ ---      ┆ ---       ┆   ┆ ---       ┆ ---       ┆ ---       ┆ ---       │\n",
      "│ str        ┆ f64      ┆ i64      ┆ str       ┆   ┆ str       ┆ str       ┆ str       ┆ str       │\n",
      "╞════════════╪══════════╪══════════╪═══════════╪═══╪═══════════╪═══════════╪═══════════╪═══════════╡\n",
      "│ SimCity    ┆ 5.0      ┆ 3        ┆ SimCity   ┆ … ┆ City-buil ┆ Maxis     ┆ Electroni ┆ Good      │\n",
      "│ 3000       ┆          ┆          ┆           ┆   ┆ ding      ┆           ┆ c Arts    ┆           │\n",
      "│ Diablo II  ┆ 4.0      ┆ 1        ┆ Diablo    ┆ … ┆ Action    ┆ Blizzard  ┆ Blizzard  ┆ Very Good │\n",
      "│            ┆          ┆          ┆           ┆   ┆ role-play ┆ North     ┆ Entertain ┆           │\n",
      "│            ┆          ┆          ┆           ┆   ┆ ing       ┆           ┆ ment      ┆           │\n",
      "│ Final      ┆ 2.1      ┆ 4        ┆ Final     ┆ … ┆ Role-play ┆ Square    ┆ Eidos Int ┆ Good      │\n",
      "│ Fantasy    ┆          ┆          ┆ Fantasy   ┆   ┆ ing game  ┆           ┆ eractive  ┆           │\n",
      "│ VII        ┆          ┆          ┆           ┆   ┆           ┆           ┆           ┆           │\n",
      "│ Counter-St ┆ 2.0      ┆ 3        ┆ Counter-S ┆ … ┆ First-per ┆ Valve     ┆ Electroni ┆ Meh       │\n",
      "│ rike:      ┆          ┆          ┆ trike     ┆   ┆ son       ┆           ┆ c Arts (r ┆           │\n",
      "│ Source     ┆          ┆          ┆           ┆   ┆ shooter   ┆           ┆ etail)    ┆           │\n",
      "│ …          ┆ …        ┆ …        ┆ …         ┆ … ┆ …         ┆ …         ┆ …         ┆ …         │\n",
      "│ Mafia: The ┆ 2.0      ┆ 1        ┆ Mafia     ┆ … ┆ Third-per ┆ Illusion  ┆ Gathering ┆ Good      │\n",
      "│ City of    ┆          ┆          ┆           ┆   ┆ son       ┆ Softworks ┆ of Develo ┆           │\n",
      "│ Lost       ┆          ┆          ┆           ┆   ┆ shooter   ┆           ┆ pers      ┆           │\n",
      "│ Heaven     ┆          ┆          ┆           ┆   ┆           ┆           ┆           ┆           │\n",
      "│ SimCity 4  ┆ 2.0      ┆ 3        ┆ SimCity   ┆ … ┆ City-buil ┆ Maxis     ┆ Electroni ┆ Very Good │\n",
      "│            ┆          ┆          ┆           ┆   ┆ ding      ┆           ┆ c Arts (W ┆           │\n",
      "│            ┆          ┆          ┆           ┆   ┆           ┆           ┆ indows)   ┆           │\n",
      "│ Star Wars  ┆ 1.0      ┆ 2        ┆ Star Wars ┆ … ┆ MMORPG    ┆ Sony      ┆ LucasArts ┆ Bad       │\n",
      "│ Galaxies   ┆          ┆          ┆           ┆   ┆           ┆ Online    ┆           ┆           │\n",
      "│            ┆          ┆          ┆           ┆   ┆           ┆ Entertain ┆           ┆           │\n",
      "│            ┆          ┆          ┆           ┆   ┆           ┆ ment      ┆           ┆           │\n",
      "│ StarCraft  ┆ 1.0      ┆ 3        ┆ StarCraft ┆ … ┆ Real-time ┆ Blizzard  ┆ Blizzard  ┆ Meh       │\n",
      "│ II: Heart  ┆          ┆          ┆           ┆   ┆ strategy  ┆ Entertain ┆ Entertain ┆           │\n",
      "│ of the     ┆          ┆          ┆           ┆   ┆           ┆ ment      ┆ ment      ┆           │\n",
      "│ Swarm      ┆          ┆          ┆           ┆   ┆           ┆           ┆           ┆           │\n",
      "└────────────┴──────────┴──────────┴───────────┴───┴───────────┴───────────┴───────────┴───────────┘\n"
     ]
    }
   ],
   "source": [
    "#Leemos un nuevo csv\n",
    "df2 = pl.read_csv(\"G_Opinion.csv\")\n",
    "#Unimos con el siguiente código\n",
    "df3= df.join(df2, on='Name')\n",
    "print(df3)\n",
    "#Otras formas de unir DataFrame\n",
    "#df.join(df2, on='Name', how='inner') #La intersección de los DataFrames\n",
    "#df.join(df2, on='Name', how='left') #Devuelve las filas de df y las filas del df2  que coinciden con df\n",
    "#df.join(df2, on='Name', how='outer') # Devuelve todas las filas de ambos df, rellenando con valores nulos en caso de no encontrar una coincidencia"
   ]
  },
  {
   "attachments": {},
   "cell_type": "markdown",
   "id": "ec63d77d",
   "metadata": {},
   "source": [
    "### <span style=\"color:Brown;\">¿Cómo filtramos filas con Polars?</span>\n",
    "Para filtrar puedes optar por el filtrado simple (por un criterio) o multiple (por 2 o más criterios)"
   ]
  },
  {
   "cell_type": "code",
   "execution_count": 91,
   "id": "ad63ba3c",
   "metadata": {},
   "outputs": [
    {
     "data": {
      "text/html": [
       "<div><style>\n",
       ".dataframe > thead > tr > th,\n",
       ".dataframe > tbody > tr > td {\n",
       "  text-align: right;\n",
       "}\n",
       "</style>\n",
       "<small>shape: (2, 9)</small><table border=\"1\" class=\"dataframe\"><thead><tr><th>Name</th><th>Sales_uk</th><th>Sales_us</th><th>Series</th><th>Release</th><th>Genre</th><th>Developer</th><th>Publisher</th><th>Opinion</th></tr><tr><td>str</td><td>f64</td><td>i64</td><td>str</td><td>str</td><td>str</td><td>str</td><td>str</td><td>str</td></tr></thead><tbody><tr><td>&quot;Counter-Strike…</td><td>2.0</td><td>3</td><td>&quot;Counter-Strike…</td><td>&quot;Nov-04&quot;</td><td>&quot;First-person s…</td><td>&quot;Valve&quot;</td><td>&quot;Electronic Art…</td><td>&quot;Meh&quot;</td></tr><tr><td>&quot;StarCraft II: …</td><td>1.0</td><td>3</td><td>&quot;StarCraft&quot;</td><td>&quot;Mar-13&quot;</td><td>&quot;Real-time stra…</td><td>&quot;Blizzard Enter…</td><td>&quot;Blizzard Enter…</td><td>&quot;Meh&quot;</td></tr></tbody></table></div>"
      ],
      "text/plain": [
       "shape: (2, 9)\n",
       "┌────────────┬──────────┬──────────┬────────────┬───┬────────────┬───────────┬───────────┬─────────┐\n",
       "│ Name       ┆ Sales_uk ┆ Sales_us ┆ Series     ┆ … ┆ Genre      ┆ Developer ┆ Publisher ┆ Opinion │\n",
       "│ ---        ┆ ---      ┆ ---      ┆ ---        ┆   ┆ ---        ┆ ---       ┆ ---       ┆ ---     │\n",
       "│ str        ┆ f64      ┆ i64      ┆ str        ┆   ┆ str        ┆ str       ┆ str       ┆ str     │\n",
       "╞════════════╪══════════╪══════════╪════════════╪═══╪════════════╪═══════════╪═══════════╪═════════╡\n",
       "│ Counter-St ┆ 2.0      ┆ 3        ┆ Counter-St ┆ … ┆ First-pers ┆ Valve     ┆ Electroni ┆ Meh     │\n",
       "│ rike:      ┆          ┆          ┆ rike       ┆   ┆ on shooter ┆           ┆ c Arts (r ┆         │\n",
       "│ Source     ┆          ┆          ┆            ┆   ┆            ┆           ┆ etail)    ┆         │\n",
       "│ StarCraft  ┆ 1.0      ┆ 3        ┆ StarCraft  ┆ … ┆ Real-time  ┆ Blizzard  ┆ Blizzard  ┆ Meh     │\n",
       "│ II: Heart  ┆          ┆          ┆            ┆   ┆ strategy   ┆ Entertain ┆ Entertain ┆         │\n",
       "│ of the     ┆          ┆          ┆            ┆   ┆            ┆ ment      ┆ ment      ┆         │\n",
       "│ Swarm      ┆          ┆          ┆            ┆   ┆            ┆           ┆           ┆         │\n",
       "└────────────┴──────────┴──────────┴────────────┴───┴────────────┴───────────┴───────────┴─────────┘"
      ]
     },
     "execution_count": 91,
     "metadata": {},
     "output_type": "execute_result"
    }
   ],
   "source": [
    "# polars: Filtrado Simple\n",
    "df3.filter(pl.col('Opinion')=='Meh')\n",
    "\n",
    "\n",
    "#Código en Pandas:\n",
    "# pandas: df[df['Sales_uk'] == 2]"
   ]
  },
  {
   "cell_type": "code",
   "execution_count": 92,
   "id": "c109a21d",
   "metadata": {},
   "outputs": [
    {
     "data": {
      "text/html": [
       "<div><style>\n",
       ".dataframe > thead > tr > th,\n",
       ".dataframe > tbody > tr > td {\n",
       "  text-align: right;\n",
       "}\n",
       "</style>\n",
       "<small>shape: (2, 9)</small><table border=\"1\" class=\"dataframe\"><thead><tr><th>Name</th><th>Sales_uk</th><th>Sales_us</th><th>Series</th><th>Release</th><th>Genre</th><th>Developer</th><th>Publisher</th><th>Opinion</th></tr><tr><td>str</td><td>f64</td><td>i64</td><td>str</td><td>str</td><td>str</td><td>str</td><td>str</td><td>str</td></tr></thead><tbody><tr><td>&quot;Diablo&quot;</td><td>2.0</td><td>1</td><td>&quot;Diablo&quot;</td><td>&quot;Dec-96&quot;</td><td>&quot;Action role-pl…</td><td>&quot;Blizzard North…</td><td>&quot;Blizzard Enter…</td><td>&quot;Good&quot;</td></tr><tr><td>&quot;Mafia: The Cit…</td><td>2.0</td><td>1</td><td>&quot;Mafia&quot;</td><td>&quot;Aug-02&quot;</td><td>&quot;Third-person s…</td><td>&quot;Illusion Softw…</td><td>&quot;Gathering of D…</td><td>&quot;Good&quot;</td></tr></tbody></table></div>"
      ],
      "text/plain": [
       "shape: (2, 9)\n",
       "┌─────────────┬──────────┬──────────┬────────┬───┬─────────────┬────────────┬────────────┬─────────┐\n",
       "│ Name        ┆ Sales_uk ┆ Sales_us ┆ Series ┆ … ┆ Genre       ┆ Developer  ┆ Publisher  ┆ Opinion │\n",
       "│ ---         ┆ ---      ┆ ---      ┆ ---    ┆   ┆ ---         ┆ ---        ┆ ---        ┆ ---     │\n",
       "│ str         ┆ f64      ┆ i64      ┆ str    ┆   ┆ str         ┆ str        ┆ str        ┆ str     │\n",
       "╞═════════════╪══════════╪══════════╪════════╪═══╪═════════════╪════════════╪════════════╪═════════╡\n",
       "│ Diablo      ┆ 2.0      ┆ 1        ┆ Diablo ┆ … ┆ Action role ┆ Blizzard   ┆ Blizzard   ┆ Good    │\n",
       "│             ┆          ┆          ┆        ┆   ┆ -playing    ┆ North      ┆ Entertainm ┆         │\n",
       "│             ┆          ┆          ┆        ┆   ┆             ┆            ┆ ent (North ┆         │\n",
       "│             ┆          ┆          ┆        ┆   ┆             ┆            ┆ Am…        ┆         │\n",
       "│ Mafia: The  ┆ 2.0      ┆ 1        ┆ Mafia  ┆ … ┆ Third-perso ┆ Illusion   ┆ Gathering  ┆ Good    │\n",
       "│ City of     ┆          ┆          ┆        ┆   ┆ n shooter   ┆ Softworks  ┆ of         ┆         │\n",
       "│ Lost Heaven ┆          ┆          ┆        ┆   ┆             ┆            ┆ Developers ┆         │\n",
       "└─────────────┴──────────┴──────────┴────────┴───┴─────────────┴────────────┴────────────┴─────────┘"
      ]
     },
     "execution_count": 92,
     "metadata": {},
     "output_type": "execute_result"
    }
   ],
   "source": [
    "# Filtrado múltiple\n",
    "df3.filter(\n",
    "    (pl.col('Sales_uk')==2) &\n",
    "    (pl.col('Opinion')=='Good'))\n",
    "\n",
    "#Código en Pandas:\n",
    "# pandas: df[(df['Sales_uk'] == 2) & (df['Opinion'] == 'Good')]"
   ]
  },
  {
   "attachments": {},
   "cell_type": "markdown",
   "id": "39ac5de9",
   "metadata": {},
   "source": [
    "### <p style=\"color:Brown;\">¿Interesado en probar Polars? Aquí en GitHub te dejamos los archivos csv. de este tutorial para que te inicies en Polars. Si deseas dejarnos un comentario o recomendación ¡No dudes en hacerlo, estaremos muy agredecidos, mucha suerte:)! .</p>"
   ]
  },
  {
   "attachments": {},
   "cell_type": "markdown",
   "id": "e1406f95",
   "metadata": {},
   "source": [
    "### <p style=\"color:#FFA500;\">Referencias y/o enlaces recomendados</p>\n",
    "1. [Documentación oficial de Polars](https://pola-rs.github.io/polars/py-polars/html/reference/functions.html)\n",
    "2. [Guía de inicio de Polars](https://pola-rs.github.io/polars-book/)\n",
    "3. [Manipulación de Datos con #Polars en #python](https://www.youtube.com/watch?v=3RM3pWw2iRQ)\n",
    "4. [Diferencias entre Polars y Pandas](https://nairal.net/pandas-de-python-vs-polars-quien-gana-esta-pelea-de-librerias-para-data-science)\n",
    "5. [Polars: The Super Fast Dataframe Library for Python — Goodbye Pandas?](https://artificialcorner.com/polars-the-super-fast-dataframe-library-for-python-goodbye-pandas-85156e84337f)\n",
    "6. [DataSet para ejemplos](https://www.kaggle.com/datasets/khaiid/most-selling-pc-games)\n",
    "7. [Ascii text art con letras de animales y adornos interesantes](https://www.textarts.shop/2020/03/arte-ascii-de-animales.html)\n"
   ]
  },
{
   "cell_type": "markdown",
   "id": "1c696f02",
   "metadata": {},
   "source": [
    "# <span style=\"color: #FFA500;\">CASO PRACTICO</span> ʕ•́ᴥ•̀ʔっ"
   ]
  },
  {
   "cell_type": "markdown",
   "id": "9223982d",
   "metadata": {},
   "source": [
    "###  <span style=\"color: brown;\">Instalamos el paquete polars</span> "
   ]
  },
  {
   "cell_type": "code",
   "execution_count": 1,
   "id": "be2be75d",
   "metadata": {},
   "outputs": [
    {
     "name": "stdout",
     "output_type": "stream",
     "text": [
      "Requirement already satisfied: polars in c:\\users\\administrador\\anaconda3\\lib\\site-packages (0.17.13)\n"
     ]
    }
   ],
   "source": [
    "\n",
    "!pip install -U polars\n"
   ]
  },
  {
   "cell_type": "markdown",
   "id": "e5ecf351",
   "metadata": {},
   "source": [
    "### <span style=\"color: brown;\">Importamos el paquete polars</span> "
   ]
  },
  {
   "cell_type": "code",
   "execution_count": 68,
   "id": "e5ff9ca9",
   "metadata": {},
   "outputs": [],
   "source": [
    "import polars as pl "
   ]
  },
  {
   "cell_type": "code",
   "execution_count": 69,
   "id": "40a755d4",
   "metadata": {},
   "outputs": [],
   "source": [
    "#┊┊┊╭╮╱▔▔▔▔╲╭╮┊┊┊    ┊┊┊╭╮╱▔▔▔▔╲╭╮┊┊┊   ┊┊┊╭╮╱▔▔▔▔╲╭╮┊┊┊    ┊┊┊╭╮╱▔▔▔▔╲╭╮┊┊┊   ┊┊┊╭╮╱▔▔▔▔╲╭╮┊┊┊     \n",
    "#┊┊┊╰╱┈▆▏▕▆┈╲╯┊┊┊    ┊┊┊╰╱┈▆▏▕▆┈╲╯┊┊┊   ┊┊┊╰╱┈▆▏▕▆┈╲╯┊┊┊    ┊┊┊╰╱┈▆▏▕▆┈╲╯┊┊┊   ┊┊┊╰╱┈▆▏▕▆┈╲╯┊┊┊\n",
    "#┊┊┊▕┈┈┈▅▅┈┈┈▏┊┊┊    ┊┊┊▕┈┈┈▅▅┈┈┈▏┊┊┊   ┊┊┊▕┈┈┈▅▅┈┈┈▏┊┊┊    ┊┊┊▕┈┈┈▅▅┈┈┈▏┊┊┊   ┊┊┊▕┈┈┈▅▅┈┈┈▏┊┊┊\n",
    "#╱▔▔╱┈┈┈▔▔┈┈┈╲▔▔╲  ╱▔▔╱┈┈┈▔▔┈┈┈╲▔▔╲  ╱▔▔╱┈┈┈▔▔┈┈┈╲▔▔╲  ╱▔▔╱┈┈┈▔▔┈┈┈╲▔▔╲  ╱▔▔╱┈┈┈▔▔┈┈┈╲▔▔╲\n",
    "#╲╭━━╮  ┈┈┈┈┈┈   ╭━━╮╱  ╲╭━━╮  ┈┈┈┈┈┈   ╭━━╮╱  ╲╭━━╮  ┈┈┈┈┈┈   ╭━━╮╱  ╲╭━━╮  ┈┈┈┈┈┈   ╭━━╮╱  ╲╭━━╮  ┈┈┈┈┈┈   ╭━━╮╱\n",
    "#┊╰┻┻╯▔▔▔▔▔▔╰┻┻╯┊┊ ┊╰┻┻╯▔▔▔▔▔▔╰┻┻╯┊┊ ┊╰┻┻╯▔▔▔▔▔▔╰┻┻╯┊┊ ┊╰┻┻╯▔▔▔▔▔▔╰┻┻╯┊┊ ┊╰┻┻╯▔▔▔▔▔▔╰┻┻╯┊┊ "
   ]
  },
  {
   "cell_type": "markdown",
   "id": "15bfc8b1",
   "metadata": {},
   "source": [
    "### <span style=\"color: brown;\">Probamos el tiempo de ejecucion entre el paquete plars Vs pandas </span>\n",
    "En cada libreria leeremos un reporte de camas UCI de formato csv, dicho archivo posee mas de 15 000 filas"
   ]
  },
  {
   "cell_type": "markdown",
   "id": "c7cd7fd6",
   "metadata": {},
   "source": [
    "![](https://pm1.narvii.com/7650/6c30505d9b8a52308fdb7eb7a84b510f22e17a6dr1-1280-720v2_hq.jpg)"
   ]
  },
  {
   "cell_type": "code",
   "execution_count": 71,
   "id": "d1b1ff01",
   "metadata": {},
   "outputs": [
    {
     "name": "stdout",
     "output_type": "stream",
     "text": [
      "El tiempo de ejecucion de la libreria pandas es: 3.3217527866363525 segundo(s)\n",
      "El tiempo de ejecucion de la libreria polars es: 1.6107804775238037 segundo(s)\n"
     ]
    }
   ],
   "source": [
    "import time\n",
    "import pandas as pd\n",
    "inicio = time.time()\n",
    "prueba1 = pd.read_csv(\"Camas-31_01_2022.csv\",sep=\"|\" ,encoding=\"utf-8\") \n",
    "final = time.time()\n",
    "print(\"El tiempo de ejecucion de la libreria pandas es:\", final - inicio,\"segundo(s)\" )\n",
    "inicio = time.time()\n",
    "df = pl.read_csv(\"Camas-31_01_2022.csv\" , ignore_errors= True  , separator= \"|\", encoding=\"utf-8\")\n",
    "final = time.time()\n",
    "print(\"El tiempo de ejecucion de la libreria polars es:\", final - inicio,\"segundo(s)\" )"
   ]
  },
  {
   "cell_type": "markdown",
   "id": "e2763c0f",
   "metadata": {},
   "source": [
    "### Polar gana \n",
    "![](https://media.tenor.com/DgA0XHKcQJQAAAAM/we-bare-bears-bears.gif)"
   ]
  },
  {
   "cell_type": "markdown",
   "id": "59d3f871",
   "metadata": {},
   "source": [
    "## <span style=\"color: blue;\">Polar desea leer un archivo de datos mas interesante </span> "
   ]
  },
  {
   "cell_type": "markdown",
   "id": "bc43347d",
   "metadata": {},
   "source": [
    "![](https://pa1.narvii.com/6526/34b474abcc731f6129d1d35841f5c8144b4216a6_00.gif)"
   ]
  },
  {
   "cell_type": "markdown",
   "id": "b65177e2",
   "metadata": {},
   "source": [
    "### <span style=\"color: brown;\">Leemos un archivo de datos CSV de notas del curso de Estadística general del ciclo 2022 - II </span> "
   ]
  },
  {
   "cell_type": "code",
   "execution_count": 61,
   "id": "dc92526d",
   "metadata": {},
   "outputs": [
    {
     "data": {
      "text/html": [
       "<div><style>\n",
       ".dataframe > thead > tr > th,\n",
       ".dataframe > tbody > tr > td {\n",
       "  text-align: right;\n",
       "}\n",
       "</style>\n",
       "<small>shape: (5, 9)</small><table border=\"1\" class=\"dataframe\"><thead><tr><th></th><th>MATRICULA</th><th>ALUMNO</th><th>NOMBRE</th><th>NOMBRE.2</th><th>CORREO</th><th>PC1</th><th>PC2</th><th>PC3</th></tr><tr><td>i64</td><td>i64</td><td>str</td><td>str</td><td>str</td><td>str</td><td>f64</td><td>f64</td><td>f64</td></tr></thead><tbody><tr><td>1</td><td>20211909</td><td>&quot;Acosta Yupanqu…</td><td>&quot;Joselyn&quot;</td><td>&quot;Jade&quot;</td><td>&quot;20211909@lamol…</td><td>17.5</td><td>12.0</td><td>13.0</td></tr><tr><td>2</td><td>20211910</td><td>&quot;Alarcon Huaman…</td><td>&quot;Valeria&quot;</td><td>&quot;Naomi&quot;</td><td>&quot;20211910@lamol…</td><td>19.0</td><td>0.0</td><td>0.0</td></tr><tr><td>3</td><td>20220603</td><td>&quot;Arriaga Asenci…</td><td>&quot;Steven&quot;</td><td>&quot;Alonso&quot;</td><td>&quot;20220603@lamol…</td><td>16.0</td><td>3.0</td><td>0.0</td></tr><tr><td>4</td><td>20211638</td><td>&quot;Barrueta Sanch…</td><td>&quot;Valeria&quot;</td><td>&quot;Antonella&quot;</td><td>&quot;20211638@lamol…</td><td>12.0</td><td>0.0</td><td>0.0</td></tr><tr><td>5</td><td>20211536</td><td>&quot;Bastidas Cotri…</td><td>&quot;Sebastian&quot;</td><td>&quot;Alessandro&quot;</td><td>&quot;20211536@lamol…</td><td>17.5</td><td>12.0</td><td>17.5</td></tr></tbody></table></div>"
      ],
      "text/plain": [
       "shape: (5, 9)\n",
       "┌─────┬───────────┬──────────────────┬───────────┬───┬──────────────────────────┬──────┬──────┬──────┐\n",
       "│     ┆ MATRICULA ┆ ALUMNO           ┆ NOMBRE    ┆ … ┆ CORREO                   ┆ PC1  ┆ PC2  ┆ PC3  │\n",
       "│ --- ┆ ---       ┆ ---              ┆ ---       ┆   ┆ ---                      ┆ ---  ┆ ---  ┆ ---  │\n",
       "│ i64 ┆ i64       ┆ str              ┆ str       ┆   ┆ str                      ┆ f64  ┆ f64  ┆ f64  │\n",
       "╞═════╪═══════════╪══════════════════╪═══════════╪═══╪══════════════════════════╪══════╪══════╪══════╡\n",
       "│ 1   ┆ 20211909  ┆ Acosta Yupanqui  ┆ Joselyn   ┆ … ┆ 20211909@lamolina.edu.pe ┆ 17.5 ┆ 12.0 ┆ 13.0 │\n",
       "│ 2   ┆ 20211910  ┆ Alarcon Huamani  ┆ Valeria   ┆ … ┆ 20211910@lamolina.edu.pe ┆ 19.0 ┆ 0.0  ┆ 0.0  │\n",
       "│ 3   ┆ 20220603  ┆ Arriaga Asencios ┆ Steven    ┆ … ┆ 20220603@lamolina.edu.pe ┆ 16.0 ┆ 3.0  ┆ 0.0  │\n",
       "│ 4   ┆ 20211638  ┆ Barrueta Sanchez ┆ Valeria   ┆ … ┆ 20211638@lamolina.edu.pe ┆ 12.0 ┆ 0.0  ┆ 0.0  │\n",
       "│ 5   ┆ 20211536  ┆ Bastidas Cotrina ┆ Sebastian ┆ … ┆ 20211536@lamolina.edu.pe ┆ 17.5 ┆ 12.0 ┆ 17.5 │\n",
       "└─────┴───────────┴──────────────────┴───────────┴───┴──────────────────────────┴──────┴──────┴──────┘"
      ]
     },
     "execution_count": 61,
     "metadata": {},
     "output_type": "execute_result"
    }
   ],
   "source": [
    "df = pl.read_csv(\"PC2.csv\",ignore_errors= True  , separator= \",\", encoding=\"utf-8\")\n",
    "df.head()\n"
   ]
  },
  {
   "cell_type": "markdown",
   "id": "4184f84d",
   "metadata": {},
   "source": [
    "### <span style=\"color: brown;\">Visualizamos una breve descripcion de cada columna </span> "
   ]
  },
  {
   "cell_type": "code",
   "execution_count": 18,
   "id": "71b371b7",
   "metadata": {},
   "outputs": [
    {
     "name": "stdout",
     "output_type": "stream",
     "text": [
      "Rows: 48\n",
      "Columns: 9\n",
      "$           <i64> 1, 2, 3, 4, 5, 6, 7, 8, 9, 10\n",
      "$ MATRICULA <i64> 20211909, 20211910, 20220603, 20211638, 20211536, 20211537, 20211810, 20211541, 20211949, 20211915\n",
      "$ ALUMNO    <str> Acosta Yupanqui, Alarcon Huamani, Arriaga Asencios, Barrueta Sanchez, Bastidas Cotrina, Berrio Mera, Cabezudo Meza, Carrion Saes, Cauper Vidal, Chauca Cordova\n",
      "$ NOMBRE    <str> Joselyn, Valeria, Steven, Valeria, Sebastian, Daniela, Ismael, Jamile, Lionel, Camila\n",
      "$ NOMBRE.2  <str> Jade, Naomi, Alonso, Antonella, Alessandro, Arleth, Alexis, Joalibet, Alfonso, Angelica\n",
      "$ CORREO    <str> 20211909@lamolina.edu.pe, 20211910@lamolina.edu.pe, 20220603@lamolina.edu.pe, 20211638@lamolina.edu.pe, 20211536@lamolina.edu.pe, 20211537@lamolina.edu.pe, 20211810@lamolina.edu.pe, 20211541@lamolina.edu.pe, 20211949@lamolina.edu.pe, 20211915@lamolina.edu.pe\n",
      "$ PC1       <f64> 17.5, 19.0, 16.0, 12.0, 17.5, 0.0, 17.5, 16.0, 17.5, 15.5\n",
      "$ PC2       <f64> 12.0, 0.0, 3.0, 0.0, 12.0, 5.5, 12.0, 16.5, 13.5, 8.5\n",
      "$ PC3       <f64> 13.0, 0.0, 0.0, 0.0, 17.5, 9.0, 11.5, 11.5, 11.0, 14.5\n",
      "\n"
     ]
    }
   ],
   "source": [
    "df.glimpse()"
   ]
  },
  {
   "cell_type": "markdown",
   "id": "31934ee3",
   "metadata": {},
   "source": [
    "### <span style=\"color: brown;\">Estadística descriptiva de notas de todos los alumnos (Estadistica general) </span> "
   ]
  },
  {
   "cell_type": "code",
   "execution_count": 56,
   "id": "aa81b255",
   "metadata": {},
   "outputs": [
    {
     "data": {
      "text/html": [
       "<div><style>\n",
       ".dataframe > thead > tr > th,\n",
       ".dataframe > tbody > tr > td {\n",
       "  text-align: right;\n",
       "}\n",
       "</style>\n",
       "<small>shape: (9, 4)</small><table border=\"1\" class=\"dataframe\"><thead><tr><th>describe</th><th>PC1</th><th>PC2</th><th>PC3</th></tr><tr><td>str</td><td>f64</td><td>f64</td><td>f64</td></tr></thead><tbody><tr><td>&quot;count&quot;</td><td>48.0</td><td>48.0</td><td>48.0</td></tr><tr><td>&quot;null_count&quot;</td><td>0.0</td><td>0.0</td><td>0.0</td></tr><tr><td>&quot;mean&quot;</td><td>15.3125</td><td>9.28125</td><td>8.291667</td></tr><tr><td>&quot;std&quot;</td><td>4.130356</td><td>5.555241</td><td>5.876235</td></tr><tr><td>&quot;min&quot;</td><td>0.0</td><td>0.0</td><td>0.0</td></tr><tr><td>&quot;max&quot;</td><td>19.0</td><td>19.0</td><td>18.0</td></tr><tr><td>&quot;median&quot;</td><td>17.0</td><td>10.0</td><td>9.5</td></tr><tr><td>&quot;25%&quot;</td><td>15.0</td><td>6.5</td><td>0.0</td></tr><tr><td>&quot;75%&quot;</td><td>17.5</td><td>13.5</td><td>13.0</td></tr></tbody></table></div>"
      ],
      "text/plain": [
       "shape: (9, 4)\n",
       "┌────────────┬──────────┬──────────┬──────────┐\n",
       "│ describe   ┆ PC1      ┆ PC2      ┆ PC3      │\n",
       "│ ---        ┆ ---      ┆ ---      ┆ ---      │\n",
       "│ str        ┆ f64      ┆ f64      ┆ f64      │\n",
       "╞════════════╪══════════╪══════════╪══════════╡\n",
       "│ count      ┆ 48.0     ┆ 48.0     ┆ 48.0     │\n",
       "│ null_count ┆ 0.0      ┆ 0.0      ┆ 0.0      │\n",
       "│ mean       ┆ 15.3125  ┆ 9.28125  ┆ 8.291667 │\n",
       "│ std        ┆ 4.130356 ┆ 5.555241 ┆ 5.876235 │\n",
       "│ min        ┆ 0.0      ┆ 0.0      ┆ 0.0      │\n",
       "│ max        ┆ 19.0     ┆ 19.0     ┆ 18.0     │\n",
       "│ median     ┆ 17.0     ┆ 10.0     ┆ 9.5      │\n",
       "│ 25%        ┆ 15.0     ┆ 6.5      ┆ 0.0      │\n",
       "│ 75%        ┆ 17.5     ┆ 13.5     ┆ 13.0     │\n",
       "└────────────┴──────────┴──────────┴──────────┘"
      ]
     },
     "execution_count": 56,
     "metadata": {},
     "output_type": "execute_result"
    }
   ],
   "source": [
    "df1 = df.select([pl.col(\"PC1\",\"PC2\",\"PC3\")]).describe()\n",
    "df1\n"
   ]
  },
  {
   "cell_type": "markdown",
   "id": "a9695eda",
   "metadata": {},
   "source": [
    "### <span style=\"color: brown;\">Lista de notas de los alumnos que estudian estadistica </span>  \n",
    " "
   ]
  },
  {
   "cell_type": "code",
   "execution_count": 57,
   "id": "ef8211a3",
   "metadata": {},
   "outputs": [
    {
     "data": {
      "text/html": [
       "<div><style>\n",
       ".dataframe > thead > tr > th,\n",
       ".dataframe > tbody > tr > td {\n",
       "  text-align: right;\n",
       "}\n",
       "</style>\n",
       "<small>shape: (8, 4)</small><table border=\"1\" class=\"dataframe\"><thead><tr><th>MATRICULA</th><th>PC1</th><th>PC2</th><th>PC3</th></tr><tr><td>i64</td><td>f64</td><td>f64</td><td>f64</td></tr></thead><tbody><tr><td>20211810</td><td>17.5</td><td>12.0</td><td>11.5</td></tr><tr><td>20211813</td><td>17.5</td><td>12.5</td><td>9.5</td></tr><tr><td>20211816</td><td>16.0</td><td>15.0</td><td>18.0</td></tr><tr><td>20211820</td><td>17.5</td><td>16.0</td><td>15.0</td></tr><tr><td>20211826</td><td>18.0</td><td>16.5</td><td>13.0</td></tr><tr><td>20211827</td><td>17.0</td><td>15.5</td><td>11.0</td></tr><tr><td>20211831</td><td>16.0</td><td>7.5</td><td>7.0</td></tr><tr><td>20211834</td><td>18.0</td><td>15.0</td><td>9.5</td></tr></tbody></table></div>"
      ],
      "text/plain": [
       "shape: (8, 4)\n",
       "┌───────────┬──────┬──────┬──────┐\n",
       "│ MATRICULA ┆ PC1  ┆ PC2  ┆ PC3  │\n",
       "│ ---       ┆ ---  ┆ ---  ┆ ---  │\n",
       "│ i64       ┆ f64  ┆ f64  ┆ f64  │\n",
       "╞═══════════╪══════╪══════╪══════╡\n",
       "│ 20211810  ┆ 17.5 ┆ 12.0 ┆ 11.5 │\n",
       "│ 20211813  ┆ 17.5 ┆ 12.5 ┆ 9.5  │\n",
       "│ 20211816  ┆ 16.0 ┆ 15.0 ┆ 18.0 │\n",
       "│ 20211820  ┆ 17.5 ┆ 16.0 ┆ 15.0 │\n",
       "│ 20211826  ┆ 18.0 ┆ 16.5 ┆ 13.0 │\n",
       "│ 20211827  ┆ 17.0 ┆ 15.5 ┆ 11.0 │\n",
       "│ 20211831  ┆ 16.0 ┆ 7.5  ┆ 7.0  │\n",
       "│ 20211834  ┆ 18.0 ┆ 15.0 ┆ 9.5  │\n",
       "└───────────┴──────┴──────┴──────┘"
      ]
     },
     "execution_count": 57,
     "metadata": {},
     "output_type": "execute_result"
    }
   ],
   "source": [
    "df2=df.filter((pl.col(\"MATRICULA\") > 20211800) & (pl.col(\"MATRICULA\") <= 20211834))\n",
    "df2.select([pl.col(\"MATRICULA\",\"PC1\",\"PC2\",\"PC3\")])\n"
   ]
  },
  {
   "cell_type": "markdown",
   "id": "aba05de6",
   "metadata": {},
   "source": [
    "## <span style=\"color: blue;\">Polar desea ver la estadistica descriptiva de los alumnos de estadistica </span>  "
   ]
  },
  {
   "cell_type": "markdown",
   "id": "5bc3b6d8",
   "metadata": {},
   "source": [
    "![](https://encrypted-tbn0.gstatic.com/images?q=tbn:ANd9GcT0J3Og1WAdPGka-4YByPfopDQUzlv4RNnCuBMrnsKrzsB1yqQIzQqIVquA8WKqHuV8xt0&usqp=CAU)"
   ]
  },
  {
   "cell_type": "markdown",
   "id": "7d897139",
   "metadata": {},
   "source": [
    "### <span style=\"color: brown;\">Estadística descriptiva de notas de los alumnos que estudian estadística informatica (Estadística general)</span>"
   ]
  },
  {
   "cell_type": "code",
   "execution_count": 58,
   "id": "0c4c8102",
   "metadata": {},
   "outputs": [
    {
     "data": {
      "text/html": [
       "<div><style>\n",
       ".dataframe > thead > tr > th,\n",
       ".dataframe > tbody > tr > td {\n",
       "  text-align: right;\n",
       "}\n",
       "</style>\n",
       "<small>shape: (9, 4)</small><table border=\"1\" class=\"dataframe\"><thead><tr><th>describe</th><th>PC1</th><th>PC2</th><th>PC3</th></tr><tr><td>str</td><td>f64</td><td>f64</td><td>f64</td></tr></thead><tbody><tr><td>&quot;count&quot;</td><td>8.0</td><td>8.0</td><td>8.0</td></tr><tr><td>&quot;null_count&quot;</td><td>0.0</td><td>0.0</td><td>0.0</td></tr><tr><td>&quot;mean&quot;</td><td>17.1875</td><td>13.75</td><td>11.8125</td></tr><tr><td>&quot;std&quot;</td><td>0.798995</td><td>2.988072</td><td>3.473754</td></tr><tr><td>&quot;min&quot;</td><td>16.0</td><td>7.5</td><td>7.0</td></tr><tr><td>&quot;max&quot;</td><td>18.0</td><td>16.5</td><td>18.0</td></tr><tr><td>&quot;median&quot;</td><td>17.5</td><td>15.0</td><td>11.25</td></tr><tr><td>&quot;25%&quot;</td><td>17.0</td><td>12.5</td><td>9.5</td></tr><tr><td>&quot;75%&quot;</td><td>18.0</td><td>16.0</td><td>15.0</td></tr></tbody></table></div>"
      ],
      "text/plain": [
       "shape: (9, 4)\n",
       "┌────────────┬──────────┬──────────┬──────────┐\n",
       "│ describe   ┆ PC1      ┆ PC2      ┆ PC3      │\n",
       "│ ---        ┆ ---      ┆ ---      ┆ ---      │\n",
       "│ str        ┆ f64      ┆ f64      ┆ f64      │\n",
       "╞════════════╪══════════╪══════════╪══════════╡\n",
       "│ count      ┆ 8.0      ┆ 8.0      ┆ 8.0      │\n",
       "│ null_count ┆ 0.0      ┆ 0.0      ┆ 0.0      │\n",
       "│ mean       ┆ 17.1875  ┆ 13.75    ┆ 11.8125  │\n",
       "│ std        ┆ 0.798995 ┆ 2.988072 ┆ 3.473754 │\n",
       "│ min        ┆ 16.0     ┆ 7.5      ┆ 7.0      │\n",
       "│ max        ┆ 18.0     ┆ 16.5     ┆ 18.0     │\n",
       "│ median     ┆ 17.5     ┆ 15.0     ┆ 11.25    │\n",
       "│ 25%        ┆ 17.0     ┆ 12.5     ┆ 9.5      │\n",
       "│ 75%        ┆ 18.0     ┆ 16.0     ┆ 15.0     │\n",
       "└────────────┴──────────┴──────────┴──────────┘"
      ]
     },
     "execution_count": 58,
     "metadata": {},
     "output_type": "execute_result"
    }
   ],
   "source": [
    "df2.select([pl.col(\"PC1\",\"PC2\",\"PC3\")]).describe()"
   ]
  },
  {
   "cell_type": "markdown",
   "id": "0ff2842b",
   "metadata": {},
   "source": [
    "## <span style=\"color: blue;\">A polar le fascina todo lo que su libreria puede hacer. </span>  "
   ]
  },
  {
   "cell_type": "markdown",
   "id": "b8370948",
   "metadata": {},
   "source": [
    "![](https://pbs.twimg.com/profile_images/854566755552944129/KaWDYX1o_400x400.jpg)"
   ]
  }
 ],
 "metadata": {
  "kernelspec": {
   "display_name": "Python 3 (ipykernel)",
   "language": "python",
   "name": "python3"
  },
  "language_info": {
   "codemirror_mode": {
    "name": "ipython",
    "version": 3
   },
   "file_extension": ".py",
   "mimetype": "text/x-python",
   "name": "python",
   "nbconvert_exporter": "python",
   "pygments_lexer": "ipython3",
   "version": "3.9.13"
  }
 },
 "nbformat": 4,
 "nbformat_minor": 5
}
