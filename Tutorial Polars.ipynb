{
 "cells": [
  {
   "cell_type": "markdown",
   "id": "1c696f02",
   "metadata": {},
   "source": [
    "# CASO PRACTICO"
   ]
  },
  {
   "cell_type": "markdown",
   "id": "1c6b7f62",
   "metadata": {},
   "source": [
    "### Instalamos el paquete polars"
   ]
  },
  {
   "cell_type": "code",
   "execution_count": 1,
   "id": "b5a55a0a",
   "metadata": {},
   "outputs": [
    {
     "name": "stdout",
     "output_type": "stream",
     "text": [
      "Requirement already satisfied: polars in c:\\users\\administrador\\anaconda3\\lib\\site-packages (0.17.13)\n"
     ]
    }
   ],
   "source": [
    "\n",
    "!pip install -U polars\n"
   ]
  },
  {
   "cell_type": "markdown",
   "id": "dc330da1",
   "metadata": {},
   "source": [
    "### Importamos el paquete polars"
   ]
  },
  {
   "cell_type": "markdown",
   "id": "6f66da03",
   "metadata": {},
   "source": [
    "### Probamos el tiempo de ejecucion entre el paquete pandas y el paquete pandas\n",
    "Usaremos un reporte de camas UCI de formato csv, dicho archivo posee mas de 15 000 filas"
   ]
  },
  {
   "cell_type": "code",
   "execution_count": 3,
   "id": "2036e799",
   "metadata": {},
   "outputs": [
    {
     "name": "stdout",
     "output_type": "stream",
     "text": [
      "El tiempo de ejecucion de la libreria pandas es: 3.3884782791137695\n"
     ]
    },
    {
     "ename": "NameError",
     "evalue": "name 'pl' is not defined",
     "output_type": "error",
     "traceback": [
      "\u001b[1;31m---------------------------------------------------------------------------\u001b[0m",
      "\u001b[1;31mNameError\u001b[0m                                 Traceback (most recent call last)",
      "\u001b[1;32m~\\AppData\\Local\\Temp\\ipykernel_19284\\3628521643.py\u001b[0m in \u001b[0;36m<module>\u001b[1;34m\u001b[0m\n\u001b[0;32m      6\u001b[0m \u001b[0mprint\u001b[0m\u001b[1;33m(\u001b[0m\u001b[1;34m\"El tiempo de ejecucion de la libreria pandas es:\"\u001b[0m\u001b[1;33m,\u001b[0m \u001b[0mfinal\u001b[0m \u001b[1;33m-\u001b[0m \u001b[0minicio\u001b[0m \u001b[1;33m)\u001b[0m\u001b[1;33m\u001b[0m\u001b[1;33m\u001b[0m\u001b[0m\n\u001b[0;32m      7\u001b[0m \u001b[0minicio\u001b[0m \u001b[1;33m=\u001b[0m \u001b[0mtime\u001b[0m\u001b[1;33m.\u001b[0m\u001b[0mtime\u001b[0m\u001b[1;33m(\u001b[0m\u001b[1;33m)\u001b[0m\u001b[1;33m\u001b[0m\u001b[1;33m\u001b[0m\u001b[0m\n\u001b[1;32m----> 8\u001b[1;33m \u001b[0mdf\u001b[0m \u001b[1;33m=\u001b[0m \u001b[0mpl\u001b[0m\u001b[1;33m.\u001b[0m\u001b[0mread_csv\u001b[0m\u001b[1;33m(\u001b[0m\u001b[1;34m\"Camas-31_01_2022.csv\"\u001b[0m \u001b[1;33m,\u001b[0m \u001b[0mignore_errors\u001b[0m\u001b[1;33m=\u001b[0m \u001b[1;32mTrue\u001b[0m  \u001b[1;33m,\u001b[0m \u001b[0mseparator\u001b[0m\u001b[1;33m=\u001b[0m \u001b[1;34m\"|\"\u001b[0m\u001b[1;33m,\u001b[0m \u001b[0mencoding\u001b[0m\u001b[1;33m=\u001b[0m\u001b[1;34m\"utf-8\"\u001b[0m\u001b[1;33m)\u001b[0m\u001b[1;33m\u001b[0m\u001b[1;33m\u001b[0m\u001b[0m\n\u001b[0m\u001b[0;32m      9\u001b[0m \u001b[0mfinal\u001b[0m \u001b[1;33m=\u001b[0m \u001b[0mtime\u001b[0m\u001b[1;33m.\u001b[0m\u001b[0mtime\u001b[0m\u001b[1;33m(\u001b[0m\u001b[1;33m)\u001b[0m\u001b[1;33m\u001b[0m\u001b[1;33m\u001b[0m\u001b[0m\n\u001b[0;32m     10\u001b[0m \u001b[0mprint\u001b[0m\u001b[1;33m(\u001b[0m\u001b[1;34m\"El tiempo de ejecucion de la libreria polars es:\"\u001b[0m\u001b[1;33m,\u001b[0m \u001b[0mfinal\u001b[0m \u001b[1;33m-\u001b[0m \u001b[0minicio\u001b[0m \u001b[1;33m)\u001b[0m\u001b[1;33m\u001b[0m\u001b[1;33m\u001b[0m\u001b[0m\n",
      "\u001b[1;31mNameError\u001b[0m: name 'pl' is not defined"
     ]
    }
   ],
   "source": [
    "import time\n",
    "import pandas as pd\n",
    "inicio = time.time()\n",
    "prueba1 = pd.read_csv(\"Camas-31_01_2022.csv\",sep=\"|\" ,encoding=\"utf-8\") \n",
    "final = time.time()\n",
    "print(\"El tiempo de ejecucion de la libreria pandas es:\", final - inicio )\n",
    "inicio = time.time()\n",
    "df = pl.read_csv(\"Camas-31_01_2022.csv\" , ignore_errors= True  , separator= \"|\", encoding=\"utf-8\")\n",
    "final = time.time()\n",
    "print(\"El tiempo de ejecucion de la libreria polars es:\", final - inicio )"
   ]
  },
  {
   "cell_type": "code",
   "execution_count": null,
   "id": "e74e412a",
   "metadata": {},
   "outputs": [],
   "source": []
  }
 ],
 "metadata": {
  "kernelspec": {
   "display_name": "Python 3 (ipykernel)",
   "language": "python",
   "name": "python3"
  },
  "language_info": {
   "codemirror_mode": {
    "name": "ipython",
    "version": 3
   },
   "file_extension": ".py",
   "mimetype": "text/x-python",
   "name": "python",
   "nbconvert_exporter": "python",
   "pygments_lexer": "ipython3",
   "version": "3.9.13"
  }
 },
 "nbformat": 4,
 "nbformat_minor": 5
}
