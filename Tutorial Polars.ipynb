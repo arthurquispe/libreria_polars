{
 "cells": [
  {
   "cell_type": "markdown",
   "id": "1c696f02",
   "metadata": {},
   "source": [
    "# <span style=\"color: #FFA500;\">CASO PRACTICO</span> "
   ]
  },
  {
   "cell_type": "markdown",
   "id": "9223982d",
   "metadata": {},
   "source": [
    "###  <span style=\"color: brown;\">Instalamos el paquete polars</span> "
   ]
  },
  {
   "cell_type": "code",
   "execution_count": 1,
   "id": "be2be75d",
   "metadata": {},
   "outputs": [
    {
     "name": "stdout",
     "output_type": "stream",
     "text": [
      "Requirement already satisfied: polars in c:\\users\\administrador\\anaconda3\\lib\\site-packages (0.17.13)\n"
     ]
    }
   ],
   "source": [
    "\n",
    "!pip install -U polars\n"
   ]
  },
  {
   "cell_type": "markdown",
   "id": "e5ecf351",
   "metadata": {},
   "source": [
    "### <span style=\"color: brown;\">Importamos el paquete polars</span> "
   ]
  },
  {
   "cell_type": "code",
   "execution_count": 16,
   "id": "e5ff9ca9",
   "metadata": {},
   "outputs": [],
   "source": [
    "import polars as pl "
   ]
  },
  {
   "cell_type": "markdown",
   "id": "9b5fdfba",
   "metadata": {},
   "source": [
    "### <span style=\"color: brown;\">Probamos el tiempo de ejecucion entre el paquete pandas y el paquete pandas</span> \n",
    "Usaremos un reporte de camas UCI de formato csv, dicho archivo posee mas de 15 000 filas"
   ]
  },
  {
   "cell_type": "code",
   "execution_count": 5,
   "id": "d1b1ff01",
   "metadata": {},
   "outputs": [
    {
     "name": "stdout",
     "output_type": "stream",
     "text": [
      "El tiempo de ejecucion de la libreria pandas es: 3.1817245483398438\n",
      "El tiempo de ejecucion de la libreria polars es: 1.819403886795044\n"
     ]
    }
   ],
   "source": [
    "import time\n",
    "import pandas as pd\n",
    "inicio = time.time()\n",
    "prueba1 = pd.read_csv(\"Camas-31_01_2022.csv\",sep=\"|\" ,encoding=\"utf-8\") \n",
    "final = time.time()\n",
    "print(\"El tiempo de ejecucion de la libreria pandas es:\", final - inicio )\n",
    "inicio = time.time()\n",
    "df = pl.read_csv(\"Camas-31_01_2022.csv\" , ignore_errors= True  , separator= \"|\", encoding=\"utf-8\")\n",
    "final = time.time()\n",
    "print(\"El tiempo de ejecucion de la libreria polars es:\", final - inicio )"
   ]
  },
  {
   "cell_type": "markdown",
   "id": "eebeb189",
   "metadata": {},
   "source": [
    "## <span style=\"color: blue;\">Un archivo de datos mas interesante para polar </span> "
   ]
  },
  {
   "cell_type": "markdown",
   "id": "7d203236",
   "metadata": {},
   "source": [
    "### <span style=\"color: brown;\">Leemos un archivo de datos CSV de notas del curso de Estadística general del ciclo 2022 - II </span> "
   ]
  },
  {
   "cell_type": "code",
   "execution_count": 55,
   "id": "dc92526d",
   "metadata": {},
   "outputs": [
    {
     "data": {
      "text/html": [
       "<div><style>\n",
       ".dataframe > thead > tr > th,\n",
       ".dataframe > tbody > tr > td {\n",
       "  text-align: right;\n",
       "}\n",
       "</style>\n",
       "<small>shape: (5, 9)</small><table border=\"1\" class=\"dataframe\"><thead><tr><th></th><th>MATRICULA</th><th>ALUMNO</th><th>NOMBRE</th><th>NOMBRE.2</th><th>CORREO</th><th>PC1</th><th>PC2</th><th>PC3</th></tr><tr><td>i64</td><td>i64</td><td>str</td><td>str</td><td>str</td><td>str</td><td>f64</td><td>f64</td><td>f64</td></tr></thead><tbody><tr><td>1</td><td>20211909</td><td>&quot;Acosta Yupanqu…</td><td>&quot;Joselyn&quot;</td><td>&quot;Jade&quot;</td><td>&quot;20211909@lamol…</td><td>17.5</td><td>12.0</td><td>13.0</td></tr><tr><td>2</td><td>20211910</td><td>&quot;Alarcon Huaman…</td><td>&quot;Valeria&quot;</td><td>&quot;Naomi&quot;</td><td>&quot;20211910@lamol…</td><td>19.0</td><td>0.0</td><td>0.0</td></tr><tr><td>3</td><td>20220603</td><td>&quot;Arriaga Asenci…</td><td>&quot;Steven&quot;</td><td>&quot;Alonso&quot;</td><td>&quot;20220603@lamol…</td><td>16.0</td><td>3.0</td><td>0.0</td></tr><tr><td>4</td><td>20211638</td><td>&quot;Barrueta Sanch…</td><td>&quot;Valeria&quot;</td><td>&quot;Antonella&quot;</td><td>&quot;20211638@lamol…</td><td>12.0</td><td>0.0</td><td>0.0</td></tr><tr><td>5</td><td>20211536</td><td>&quot;Bastidas Cotri…</td><td>&quot;Sebastian&quot;</td><td>&quot;Alessandro&quot;</td><td>&quot;20211536@lamol…</td><td>17.5</td><td>12.0</td><td>17.5</td></tr></tbody></table></div>"
      ],
      "text/plain": [
       "shape: (5, 9)\n",
       "┌─────┬───────────┬──────────────────┬───────────┬───┬──────────────────────────┬──────┬──────┬──────┐\n",
       "│     ┆ MATRICULA ┆ ALUMNO           ┆ NOMBRE    ┆ … ┆ CORREO                   ┆ PC1  ┆ PC2  ┆ PC3  │\n",
       "│ --- ┆ ---       ┆ ---              ┆ ---       ┆   ┆ ---                      ┆ ---  ┆ ---  ┆ ---  │\n",
       "│ i64 ┆ i64       ┆ str              ┆ str       ┆   ┆ str                      ┆ f64  ┆ f64  ┆ f64  │\n",
       "╞═════╪═══════════╪══════════════════╪═══════════╪═══╪══════════════════════════╪══════╪══════╪══════╡\n",
       "│ 1   ┆ 20211909  ┆ Acosta Yupanqui  ┆ Joselyn   ┆ … ┆ 20211909@lamolina.edu.pe ┆ 17.5 ┆ 12.0 ┆ 13.0 │\n",
       "│ 2   ┆ 20211910  ┆ Alarcon Huamani  ┆ Valeria   ┆ … ┆ 20211910@lamolina.edu.pe ┆ 19.0 ┆ 0.0  ┆ 0.0  │\n",
       "│ 3   ┆ 20220603  ┆ Arriaga Asencios ┆ Steven    ┆ … ┆ 20220603@lamolina.edu.pe ┆ 16.0 ┆ 3.0  ┆ 0.0  │\n",
       "│ 4   ┆ 20211638  ┆ Barrueta Sanchez ┆ Valeria   ┆ … ┆ 20211638@lamolina.edu.pe ┆ 12.0 ┆ 0.0  ┆ 0.0  │\n",
       "│ 5   ┆ 20211536  ┆ Bastidas Cotrina ┆ Sebastian ┆ … ┆ 20211536@lamolina.edu.pe ┆ 17.5 ┆ 12.0 ┆ 17.5 │\n",
       "└─────┴───────────┴──────────────────┴───────────┴───┴──────────────────────────┴──────┴──────┴──────┘"
      ]
     },
     "execution_count": 55,
     "metadata": {},
     "output_type": "execute_result"
    }
   ],
   "source": [
    "df = pl.read_csv(\"PC2.csv\",ignore_errors= True  , separator= \",\", encoding=\"utf-8\")\n",
    "df.head()\n"
   ]
  },
  {
   "cell_type": "markdown",
   "id": "b80f4fc7",
   "metadata": {},
   "source": [
    "### <span style=\"color: brown;\">Visualizamos una breve descripcion de cada columna </span> "
   ]
  },
  {
   "cell_type": "code",
   "execution_count": 18,
   "id": "e7af1766",
   "metadata": {},
   "outputs": [
    {
     "name": "stdout",
     "output_type": "stream",
     "text": [
      "Rows: 48\n",
      "Columns: 9\n",
      "$           <i64> 1, 2, 3, 4, 5, 6, 7, 8, 9, 10\n",
      "$ MATRICULA <i64> 20211909, 20211910, 20220603, 20211638, 20211536, 20211537, 20211810, 20211541, 20211949, 20211915\n",
      "$ ALUMNO    <str> Acosta Yupanqui, Alarcon Huamani, Arriaga Asencios, Barrueta Sanchez, Bastidas Cotrina, Berrio Mera, Cabezudo Meza, Carrion Saes, Cauper Vidal, Chauca Cordova\n",
      "$ NOMBRE    <str> Joselyn, Valeria, Steven, Valeria, Sebastian, Daniela, Ismael, Jamile, Lionel, Camila\n",
      "$ NOMBRE.2  <str> Jade, Naomi, Alonso, Antonella, Alessandro, Arleth, Alexis, Joalibet, Alfonso, Angelica\n",
      "$ CORREO    <str> 20211909@lamolina.edu.pe, 20211910@lamolina.edu.pe, 20220603@lamolina.edu.pe, 20211638@lamolina.edu.pe, 20211536@lamolina.edu.pe, 20211537@lamolina.edu.pe, 20211810@lamolina.edu.pe, 20211541@lamolina.edu.pe, 20211949@lamolina.edu.pe, 20211915@lamolina.edu.pe\n",
      "$ PC1       <f64> 17.5, 19.0, 16.0, 12.0, 17.5, 0.0, 17.5, 16.0, 17.5, 15.5\n",
      "$ PC2       <f64> 12.0, 0.0, 3.0, 0.0, 12.0, 5.5, 12.0, 16.5, 13.5, 8.5\n",
      "$ PC3       <f64> 13.0, 0.0, 0.0, 0.0, 17.5, 9.0, 11.5, 11.5, 11.0, 14.5\n",
      "\n"
     ]
    }
   ],
   "source": [
    "df.glimpse()"
   ]
  },
  {
   "cell_type": "markdown",
   "id": "b0e6df20",
   "metadata": {},
   "source": [
    "### <span style=\"color: brown;\">Estadística descriptiva de notas de todos los alumnos (Estadistica general) </span> "
   ]
  },
  {
   "cell_type": "code",
   "execution_count": 56,
   "id": "bbd05b79",
   "metadata": {},
   "outputs": [
    {
     "data": {
      "text/html": [
       "<div><style>\n",
       ".dataframe > thead > tr > th,\n",
       ".dataframe > tbody > tr > td {\n",
       "  text-align: right;\n",
       "}\n",
       "</style>\n",
       "<small>shape: (9, 4)</small><table border=\"1\" class=\"dataframe\"><thead><tr><th>describe</th><th>PC1</th><th>PC2</th><th>PC3</th></tr><tr><td>str</td><td>f64</td><td>f64</td><td>f64</td></tr></thead><tbody><tr><td>&quot;count&quot;</td><td>48.0</td><td>48.0</td><td>48.0</td></tr><tr><td>&quot;null_count&quot;</td><td>0.0</td><td>0.0</td><td>0.0</td></tr><tr><td>&quot;mean&quot;</td><td>15.3125</td><td>9.28125</td><td>8.291667</td></tr><tr><td>&quot;std&quot;</td><td>4.130356</td><td>5.555241</td><td>5.876235</td></tr><tr><td>&quot;min&quot;</td><td>0.0</td><td>0.0</td><td>0.0</td></tr><tr><td>&quot;max&quot;</td><td>19.0</td><td>19.0</td><td>18.0</td></tr><tr><td>&quot;median&quot;</td><td>17.0</td><td>10.0</td><td>9.5</td></tr><tr><td>&quot;25%&quot;</td><td>15.0</td><td>6.5</td><td>0.0</td></tr><tr><td>&quot;75%&quot;</td><td>17.5</td><td>13.5</td><td>13.0</td></tr></tbody></table></div>"
      ],
      "text/plain": [
       "shape: (9, 4)\n",
       "┌────────────┬──────────┬──────────┬──────────┐\n",
       "│ describe   ┆ PC1      ┆ PC2      ┆ PC3      │\n",
       "│ ---        ┆ ---      ┆ ---      ┆ ---      │\n",
       "│ str        ┆ f64      ┆ f64      ┆ f64      │\n",
       "╞════════════╪══════════╪══════════╪══════════╡\n",
       "│ count      ┆ 48.0     ┆ 48.0     ┆ 48.0     │\n",
       "│ null_count ┆ 0.0      ┆ 0.0      ┆ 0.0      │\n",
       "│ mean       ┆ 15.3125  ┆ 9.28125  ┆ 8.291667 │\n",
       "│ std        ┆ 4.130356 ┆ 5.555241 ┆ 5.876235 │\n",
       "│ min        ┆ 0.0      ┆ 0.0      ┆ 0.0      │\n",
       "│ max        ┆ 19.0     ┆ 19.0     ┆ 18.0     │\n",
       "│ median     ┆ 17.0     ┆ 10.0     ┆ 9.5      │\n",
       "│ 25%        ┆ 15.0     ┆ 6.5      ┆ 0.0      │\n",
       "│ 75%        ┆ 17.5     ┆ 13.5     ┆ 13.0     │\n",
       "└────────────┴──────────┴──────────┴──────────┘"
      ]
     },
     "execution_count": 56,
     "metadata": {},
     "output_type": "execute_result"
    }
   ],
   "source": [
    "df1 = df.select([pl.col(\"PC1\",\"PC2\",\"PC3\")]).describe()\n",
    "df1\n"
   ]
  },
  {
   "cell_type": "markdown",
   "id": "d703db35",
   "metadata": {},
   "source": [
    "### <span style=\"color: brown;\">Lista de notas de los alumnos que estudian estadistica </span>  \n",
    " "
   ]
  },
  {
   "cell_type": "code",
   "execution_count": 57,
   "id": "73a30e84",
   "metadata": {},
   "outputs": [
    {
     "data": {
      "text/html": [
       "<div><style>\n",
       ".dataframe > thead > tr > th,\n",
       ".dataframe > tbody > tr > td {\n",
       "  text-align: right;\n",
       "}\n",
       "</style>\n",
       "<small>shape: (8, 4)</small><table border=\"1\" class=\"dataframe\"><thead><tr><th>MATRICULA</th><th>PC1</th><th>PC2</th><th>PC3</th></tr><tr><td>i64</td><td>f64</td><td>f64</td><td>f64</td></tr></thead><tbody><tr><td>20211810</td><td>17.5</td><td>12.0</td><td>11.5</td></tr><tr><td>20211813</td><td>17.5</td><td>12.5</td><td>9.5</td></tr><tr><td>20211816</td><td>16.0</td><td>15.0</td><td>18.0</td></tr><tr><td>20211820</td><td>17.5</td><td>16.0</td><td>15.0</td></tr><tr><td>20211826</td><td>18.0</td><td>16.5</td><td>13.0</td></tr><tr><td>20211827</td><td>17.0</td><td>15.5</td><td>11.0</td></tr><tr><td>20211831</td><td>16.0</td><td>7.5</td><td>7.0</td></tr><tr><td>20211834</td><td>18.0</td><td>15.0</td><td>9.5</td></tr></tbody></table></div>"
      ],
      "text/plain": [
       "shape: (8, 4)\n",
       "┌───────────┬──────┬──────┬──────┐\n",
       "│ MATRICULA ┆ PC1  ┆ PC2  ┆ PC3  │\n",
       "│ ---       ┆ ---  ┆ ---  ┆ ---  │\n",
       "│ i64       ┆ f64  ┆ f64  ┆ f64  │\n",
       "╞═══════════╪══════╪══════╪══════╡\n",
       "│ 20211810  ┆ 17.5 ┆ 12.0 ┆ 11.5 │\n",
       "│ 20211813  ┆ 17.5 ┆ 12.5 ┆ 9.5  │\n",
       "│ 20211816  ┆ 16.0 ┆ 15.0 ┆ 18.0 │\n",
       "│ 20211820  ┆ 17.5 ┆ 16.0 ┆ 15.0 │\n",
       "│ 20211826  ┆ 18.0 ┆ 16.5 ┆ 13.0 │\n",
       "│ 20211827  ┆ 17.0 ┆ 15.5 ┆ 11.0 │\n",
       "│ 20211831  ┆ 16.0 ┆ 7.5  ┆ 7.0  │\n",
       "│ 20211834  ┆ 18.0 ┆ 15.0 ┆ 9.5  │\n",
       "└───────────┴──────┴──────┴──────┘"
      ]
     },
     "execution_count": 57,
     "metadata": {},
     "output_type": "execute_result"
    }
   ],
   "source": [
    "df2=df.filter((pl.col(\"MATRICULA\") > 20211800) & (pl.col(\"MATRICULA\") <= 20211834))\n",
    "df2.select([pl.col(\"MATRICULA\",\"PC1\",\"PC2\",\"PC3\")])\n"
   ]
  },
  {
   "cell_type": "markdown",
   "id": "9c9d6ff4",
   "metadata": {},
   "source": [
    "## <span style=\"color: blue;\">Polar desea ver la estadistica descriptiva de los alumnos de estadistica </span>  "
   ]
  },
  {
   "cell_type": "markdown",
   "id": "25543dca",
   "metadata": {},
   "source": [
    "### <span style=\"color: brown;\">Estadística descriptiva de notas de los alumnos que estudian estadística informatica (Estadistica general)</span>"
   ]
  },
  {
   "cell_type": "code",
   "execution_count": 58,
   "id": "5322da59",
   "metadata": {},
   "outputs": [
    {
     "data": {
      "text/html": [
       "<div><style>\n",
       ".dataframe > thead > tr > th,\n",
       ".dataframe > tbody > tr > td {\n",
       "  text-align: right;\n",
       "}\n",
       "</style>\n",
       "<small>shape: (9, 4)</small><table border=\"1\" class=\"dataframe\"><thead><tr><th>describe</th><th>PC1</th><th>PC2</th><th>PC3</th></tr><tr><td>str</td><td>f64</td><td>f64</td><td>f64</td></tr></thead><tbody><tr><td>&quot;count&quot;</td><td>8.0</td><td>8.0</td><td>8.0</td></tr><tr><td>&quot;null_count&quot;</td><td>0.0</td><td>0.0</td><td>0.0</td></tr><tr><td>&quot;mean&quot;</td><td>17.1875</td><td>13.75</td><td>11.8125</td></tr><tr><td>&quot;std&quot;</td><td>0.798995</td><td>2.988072</td><td>3.473754</td></tr><tr><td>&quot;min&quot;</td><td>16.0</td><td>7.5</td><td>7.0</td></tr><tr><td>&quot;max&quot;</td><td>18.0</td><td>16.5</td><td>18.0</td></tr><tr><td>&quot;median&quot;</td><td>17.5</td><td>15.0</td><td>11.25</td></tr><tr><td>&quot;25%&quot;</td><td>17.0</td><td>12.5</td><td>9.5</td></tr><tr><td>&quot;75%&quot;</td><td>18.0</td><td>16.0</td><td>15.0</td></tr></tbody></table></div>"
      ],
      "text/plain": [
       "shape: (9, 4)\n",
       "┌────────────┬──────────┬──────────┬──────────┐\n",
       "│ describe   ┆ PC1      ┆ PC2      ┆ PC3      │\n",
       "│ ---        ┆ ---      ┆ ---      ┆ ---      │\n",
       "│ str        ┆ f64      ┆ f64      ┆ f64      │\n",
       "╞════════════╪══════════╪══════════╪══════════╡\n",
       "│ count      ┆ 8.0      ┆ 8.0      ┆ 8.0      │\n",
       "│ null_count ┆ 0.0      ┆ 0.0      ┆ 0.0      │\n",
       "│ mean       ┆ 17.1875  ┆ 13.75    ┆ 11.8125  │\n",
       "│ std        ┆ 0.798995 ┆ 2.988072 ┆ 3.473754 │\n",
       "│ min        ┆ 16.0     ┆ 7.5      ┆ 7.0      │\n",
       "│ max        ┆ 18.0     ┆ 16.5     ┆ 18.0     │\n",
       "│ median     ┆ 17.5     ┆ 15.0     ┆ 11.25    │\n",
       "│ 25%        ┆ 17.0     ┆ 12.5     ┆ 9.5      │\n",
       "│ 75%        ┆ 18.0     ┆ 16.0     ┆ 15.0     │\n",
       "└────────────┴──────────┴──────────┴──────────┘"
      ]
     },
     "execution_count": 58,
     "metadata": {},
     "output_type": "execute_result"
    }
   ],
   "source": [
    "df2.select([pl.col(\"PC1\",\"PC2\",\"PC3\")]).describe()"
   ]
  },
  {
   "cell_type": "code",
   "execution_count": null,
   "id": "1b76bce8",
   "metadata": {},
   "outputs": [],
   "source": []
  }
 ],
 "metadata": {
  "kernelspec": {
   "display_name": "Python 3 (ipykernel)",
   "language": "python",
   "name": "python3"
  },
  "language_info": {
   "codemirror_mode": {
    "name": "ipython",
    "version": 3
   },
   "file_extension": ".py",
   "mimetype": "text/x-python",
   "name": "python",
   "nbconvert_exporter": "python",
   "pygments_lexer": "ipython3",
   "version": "3.9.13"
  }
 },
 "nbformat": 4,
 "nbformat_minor": 5
}
