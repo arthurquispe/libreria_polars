{
 "cells": [
  {
   "attachments": {},
   "cell_type": "markdown",
   "id": "1c696f02",
   "metadata": {},
   "source": [
    "Estructura de nuestro tutorial en Jupyter\n",
    "->[Titulo atractivo]\n",
    "--[Hablar sobre polar]\n",
    "--[Aplicaciones del paquete polars (En donde y en qué casos se puede usar)]\n",
    "--Primeros Pasos\n",
    "--[Diferencias con pandas]\n",
    "--[Principales funciones]\n",
    "--[Caso practico como ejemplo]\n",
    "--[Referencias]"
   ]
  },
  {
   "attachments": {},
   "cell_type": "markdown",
   "id": "37e862b2",
   "metadata": {},
   "source": [
    "## <p style=\"color:#FFA500;\">Primeros pasos con la librería Polars</p>\n",
    "<div style=\"display: flex; flex-direction: row;\">\n",
    "  <div style=\"flex: 1; text-align: left;\">\n",
    "    <p>Para instalar la librería Polars en tu PC, puedes seguir los siguientes pasos:</p>\n",
    "    <ol>\n",
    "      <li>Abre una terminal o línea de comandos en tu PC.</li>\n",
    "      <li>Asegúrate de tener Python instalado en tu sistema. Puedes comprobarlo ejecutando el comando <code>python --version</code> en la terminal. Si no lo tienes instalado, puedes descargarlo desde la página oficial de Python.</li>\n",
    "      <li>Ejecuta el siguiente comando en la terminal para instalar Polars a través de pip, el gestor de paquetes de Python:</li>\n",
    "    </ol>\n",
    "  </div>\n",
    "  <div style=\"flex: 1; text-align: center;\">\n",
    "    <img src=\"https://i.pinimg.com/originals/b9/30/c1/b930c1c4d7a3ac78403994b250dbe9e1.gif\" alt=\"San Juan Mountains\" title=\"San Juan Mountains\" width=\"260\" height=\"198\" />\n",
    "  </div>\n",
    "</div>\n"
   ]
  },
  {
   "cell_type": "code",
   "execution_count": 78,
   "id": "315276f4",
   "metadata": {},
   "outputs": [],
   "source": [
    "#Comando para instalar por primera vez la librería Polars en tu pc\n",
    "#Recuerda que se necesita tener instalado Python 3.7 en adelante.\n",
    "#!pip install polars"
   ]
  },
  {
   "attachments": {},
   "cell_type": "markdown",
   "id": "96704e3b",
   "metadata": {},
   "source": [
    "Espera a que se complete la instalación. Este proceso puede tardar unos minutos dependiendo de tu conexión a internet.\n",
    "Una vez que la instalación haya terminado, ya puedes importar Polars en tus scripts de Python utilizando la línea de código:"
   ]
  },
  {
   "cell_type": "code",
   "execution_count": 79,
   "id": "b6b72693",
   "metadata": {},
   "outputs": [],
   "source": [
    "#Lo importamos como **pl** por consenso y \n",
    "#porque la propia documentación de Polars recomienda usarlo.\n",
    "import polars as pl"
   ]
  },
  {
   "attachments": {},
   "cell_type": "markdown",
   "id": "c41288f1",
   "metadata": {},
   "source": [
    "### <p style=\"color:#FFA500;\">Estructura básica de la librería Polars</p>\n",
    "Aquí mostramos un pequeño ejemplo de la estructura de código que maneja Polars. Más adelante exploraremos las principales funciones de la librería."
   ]
  },
  {
   "cell_type": "code",
   "execution_count": 80,
   "id": "12b034d3",
   "metadata": {},
   "outputs": [
    {
     "name": "stdout",
     "output_type": "stream",
     "text": [
      "shape: (2, 2)\n",
      "┌──────────┬───────┐\n",
      "│ servicio ┆ costo │\n",
      "│ ---      ┆ ---   │\n",
      "│ str      ┆ i64   │\n",
      "╞══════════╪═══════╡\n",
      "│ luz      ┆ 40    │\n",
      "│ internet ┆ 50    │\n",
      "└──────────┴───────┘\n"
     ]
    }
   ],
   "source": [
    "import polars as pl\n",
    "\n",
    "# Crear un DataFrame de Polars a partir de un diccionario\n",
    "datos = {\"servicio\": [\"agua\", \"luz\", \"internet\"], \"costo\": [30, 40, 50]}\n",
    "df = pl.DataFrame(datos)\n",
    "\n",
    "# Seleccionar columnas específicas del DataFrame\n",
    "df = df.select(\"servicio\", \"costo\")\n",
    "\n",
    "# Filtrar filas basadas en una condición\n",
    "df = df.filter(pl.col(\"costo\") > 35)\n",
    "\n",
    "# Mostrar el DataFrame resultante\n",
    "print(df)"
   ]
  },
  {
   "attachments": {},
   "cell_type": "markdown",
   "id": "b323d460",
   "metadata": {},
   "source": [
    "## <p style=\"color:#FFA500;\">¿En qué se diferencia con la librería Pandas?</p>\n",
    "\n",
    "\n",
    "Polars es una librería de procesamiento de datos en memoria que se enfoca en la eficiencia y el procesamiento en paralelo, lo que le permite trabajar con conjuntos de datos más grandes y procesarlos de manera más eficiente que Pandas. Además, Polars puede trabajar con datos heterogéneos, tiene funciones específicas para el procesamiento de datos de series de tiempo y utiliza una sintaxis más moderna y concisa.\n",
    "\n",
    "![Polars vs. Pandas](https://i.pinimg.com/originals/c3/09/c8/c309c86ab0895312fb6e6b02909c305c.gif \"Polars vs. Pandas\")\n",
    "\n",
    "\n",
    "Polars ingresa al mercado a competir con la bandera de **mayor velocidad en el procesamiento grandes cantidades de datos**. Como podemos ver en su documentación se realizaron pruebas de velocidad comparandolo con otras librerías. En este caso se procesaba un dataframe de 1.000.000.000 de filas y 9 columnas y el resultado en cuanto a velocidad de procesamiento da como ganador a Polars.\n",
    "\n",
    "![Comparación de la velocidad de procesamiento!](https://miro.medium.com/v2/resize:fit:828/format:webp/0*5BpM5lMydgwju6Qo.png \"Versus de velocidad\")"
   ]
  },
  {
   "attachments": {},
   "cell_type": "markdown",
   "id": "7ade37c2",
   "metadata": {},
   "source": [
    "## <p style=\"color:#FFA500;\">Principales funciones de Polars</p>\n",
    " \n",
    "<div style=\"display: flex; flex-direction: row; align-items: center;\">\n",
    "  <div style=\"flex: 1;\">\n",
    "    <p>A continuación les presentaremos las principales funciones de la librería Polars, con ello, ustedes podrán empezar a usarlo para sus proyectos personales, académicos y profesionales. <strong>¡Vamos a empezar!</strong></p>\n",
    "     <h3>Lectura de datos</h3>\n",
    "    <p>La primera diferencia que vemos con Pandas, por ejemplo, es que el formato del Dataframe de Polars no imprime el index. Además de indicarnos el tipo de datos que tiene cada columna.</p>\n",
    "  </div>\n",
    "  <div style=\"flex: 1; display: flex; justify-content: center;\">\n",
    "    <img src=\"https://pa1.narvii.com/6638/0493d622b258a51d9d35f3c961a936d8f98275c9_00.gif\" alt=\"Polars vs. Pandas\">\n",
    "  </div>\n",
    "</div>"
   ]
  },
  {
   "cell_type": "code",
   "execution_count": 81,
   "id": "8c92566a",
   "metadata": {},
   "outputs": [
    {
     "name": "stdout",
     "output_type": "stream",
     "text": [
      "shape: (11, 8)\n",
      "┌─────────────┬──────────┬──────────┬─────────────┬─────────┬────────────┬────────────┬────────────┐\n",
      "│ Name        ┆ Sales_uk ┆ Sales_us ┆ Series      ┆ Release ┆ Genre      ┆ Developer  ┆ Publisher  │\n",
      "│ ---         ┆ ---      ┆ ---      ┆ ---         ┆ ---     ┆ ---        ┆ ---        ┆ ---        │\n",
      "│ str         ┆ f64      ┆ i64      ┆ str         ┆ str     ┆ str        ┆ str        ┆ str        │\n",
      "╞═════════════╪══════════╪══════════╪═════════════╪═════════╪════════════╪════════════╪════════════╡\n",
      "│ SimCity     ┆ 5.0      ┆ 3        ┆ SimCity     ┆ Jan-99  ┆ City-build ┆ Maxis      ┆ Electronic │\n",
      "│ 3000        ┆          ┆          ┆             ┆         ┆ ing        ┆            ┆ Arts       │\n",
      "│ Diablo II   ┆ 4.0      ┆ 1        ┆ Diablo      ┆ Jun-00  ┆ Action rol ┆ Blizzard   ┆ Blizzard   │\n",
      "│             ┆          ┆          ┆             ┆         ┆ e-playing  ┆ North      ┆ Entertainm │\n",
      "│             ┆          ┆          ┆             ┆         ┆            ┆            ┆ ent        │\n",
      "│ Final       ┆ 2.1      ┆ 4        ┆ Final       ┆ Jun-98  ┆ Role-playi ┆ Square     ┆ Eidos Inte │\n",
      "│ Fantasy VII ┆          ┆          ┆ Fantasy     ┆         ┆ ng game    ┆            ┆ ractive    │\n",
      "│ Counter-Str ┆ 2.0      ┆ 3        ┆ Counter-Str ┆ Nov-04  ┆ First-pers ┆ Valve      ┆ Electronic │\n",
      "│ ike: Source ┆          ┆          ┆ ike         ┆         ┆ on shooter ┆            ┆ Arts (reta │\n",
      "│             ┆          ┆          ┆             ┆         ┆            ┆            ┆ il)        │\n",
      "│ …           ┆ …        ┆ …        ┆ …           ┆ …       ┆ …          ┆ …          ┆ …          │\n",
      "│ Mafia: The  ┆ 2.0      ┆ 1        ┆ Mafia       ┆ Aug-02  ┆ Third-pers ┆ Illusion   ┆ Gathering  │\n",
      "│ City of     ┆          ┆          ┆             ┆         ┆ on shooter ┆ Softworks  ┆ of         │\n",
      "│ Lost Heaven ┆          ┆          ┆             ┆         ┆            ┆            ┆ Developers │\n",
      "│ SimCity 4   ┆ 2.0      ┆ 3        ┆ SimCity     ┆ Jan-03  ┆ City-build ┆ Maxis      ┆ Electronic │\n",
      "│             ┆          ┆          ┆             ┆         ┆ ing        ┆            ┆ Arts (Wind │\n",
      "│             ┆          ┆          ┆             ┆         ┆            ┆            ┆ ows)       │\n",
      "│ Star Wars   ┆ 1.0      ┆ 2        ┆ Star Wars   ┆ Jun-03  ┆ MMORPG     ┆ Sony       ┆ LucasArts  │\n",
      "│ Galaxies    ┆          ┆          ┆             ┆         ┆            ┆ Online Ent ┆            │\n",
      "│             ┆          ┆          ┆             ┆         ┆            ┆ ertainment ┆            │\n",
      "│ StarCraft   ┆ 1.0      ┆ 3        ┆ StarCraft   ┆ Mar-13  ┆ Real-time  ┆ Blizzard   ┆ Blizzard   │\n",
      "│ II: Heart   ┆          ┆          ┆             ┆         ┆ strategy   ┆ Entertainm ┆ Entertainm │\n",
      "│ of the      ┆          ┆          ┆             ┆         ┆            ┆ ent        ┆ ent        │\n",
      "│ Swarm       ┆          ┆          ┆             ┆         ┆            ┆            ┆            │\n",
      "└─────────────┴──────────┴──────────┴─────────────┴─────────┴────────────┴────────────┴────────────┘\n"
     ]
    }
   ],
   "source": [
    "import polars as pl\n",
    "df = pl.read_csv(\"Games.csv\")\n",
    "print(df)"
   ]
  },
  {
   "attachments": {},
   "cell_type": "markdown",
   "id": "95f4ba74",
   "metadata": {},
   "source": [
    "### <span style=\"color:Brown;\">Mostrar el nombre las del columas</span>\n",
    " \n",
    "En este punto Polars no se complica ya que el código se resume así e imprime una lista con los nombre de las columnas como elementos:"
   ]
  },
  {
   "cell_type": "code",
   "execution_count": 82,
   "id": "57749c21",
   "metadata": {},
   "outputs": [
    {
     "data": {
      "text/plain": [
       "['Name',\n",
       " 'Sales_uk',\n",
       " 'Sales_us',\n",
       " 'Series',\n",
       " 'Release',\n",
       " 'Genre',\n",
       " 'Developer',\n",
       " 'Publisher']"
      ]
     },
     "execution_count": 82,
     "metadata": {},
     "output_type": "execute_result"
    }
   ],
   "source": [
    "df.columns"
   ]
  },
  {
   "attachments": {},
   "cell_type": "markdown",
   "id": "359d27cc",
   "metadata": {},
   "source": [
    "### <span style=\"color:Brown;\">Seleccionar columnas</span>\n",
    "Para nuestros proyectos, Polars nos facilita la selección de columnas mediante los siguientes códigos según sea nuestro propósito:"
   ]
  },
  {
   "cell_type": "code",
   "execution_count": 83,
   "id": "758329bf",
   "metadata": {},
   "outputs": [
    {
     "data": {
      "text/html": [
       "<div><style>\n",
       ".dataframe > thead > tr > th,\n",
       ".dataframe > tbody > tr > td {\n",
       "  text-align: right;\n",
       "}\n",
       "</style>\n",
       "<small>shape: (11, 1)</small><table border=\"1\" class=\"dataframe\"><thead><tr><th>Genre</th></tr><tr><td>str</td></tr></thead><tbody><tr><td>&quot;City-building&quot;</td></tr><tr><td>&quot;Action role-pl…</td></tr><tr><td>&quot;Role-playing g…</td></tr><tr><td>&quot;First-person s…</td></tr><tr><td>&quot;Action role-pl…</td></tr><tr><td>&quot;First-person s…</td></tr><tr><td>&quot;Action-adventu…</td></tr><tr><td>&quot;Third-person s…</td></tr><tr><td>&quot;City-building&quot;</td></tr><tr><td>&quot;MMORPG&quot;</td></tr><tr><td>&quot;Real-time stra…</td></tr></tbody></table></div>"
      ],
      "text/plain": [
       "shape: (11, 1)\n",
       "┌──────────────────────┐\n",
       "│ Genre                │\n",
       "│ ---                  │\n",
       "│ str                  │\n",
       "╞══════════════════════╡\n",
       "│ City-building        │\n",
       "│ Action role-playing  │\n",
       "│ Role-playing game    │\n",
       "│ First-person shooter │\n",
       "│ …                    │\n",
       "│ Third-person shooter │\n",
       "│ City-building        │\n",
       "│ MMORPG               │\n",
       "│ Real-time strategy   │\n",
       "└──────────────────────┘"
      ]
     },
     "execution_count": 83,
     "metadata": {},
     "output_type": "execute_result"
    }
   ],
   "source": [
    "#Seleccionamos la columna 'Genre'\n",
    "df.select(pl.col('Genre'))"
   ]
  },
  {
   "cell_type": "code",
   "execution_count": 84,
   "id": "dea497f8",
   "metadata": {},
   "outputs": [
    {
     "data": {
      "text/html": [
       "<div><style>\n",
       ".dataframe > thead > tr > th,\n",
       ".dataframe > tbody > tr > td {\n",
       "  text-align: right;\n",
       "}\n",
       "</style>\n",
       "<small>shape: (11, 2)</small><table border=\"1\" class=\"dataframe\"><thead><tr><th>Name</th><th>Sales_us</th></tr><tr><td>str</td><td>i64</td></tr></thead><tbody><tr><td>&quot;SimCity 3000&quot;</td><td>3</td></tr><tr><td>&quot;Diablo II&quot;</td><td>1</td></tr><tr><td>&quot;Final Fantasy …</td><td>4</td></tr><tr><td>&quot;Counter-Strike…</td><td>3</td></tr><tr><td>&quot;Diablo&quot;</td><td>1</td></tr><tr><td>&quot;Doom&quot;</td><td>3</td></tr><tr><td>&quot;Grand Theft Au…</td><td>4</td></tr><tr><td>&quot;Mafia: The Cit…</td><td>1</td></tr><tr><td>&quot;SimCity 4&quot;</td><td>3</td></tr><tr><td>&quot;Star Wars Gala…</td><td>2</td></tr><tr><td>&quot;StarCraft II: …</td><td>3</td></tr></tbody></table></div>"
      ],
      "text/plain": [
       "shape: (11, 2)\n",
       "┌──────────────────────────────────┬──────────┐\n",
       "│ Name                             ┆ Sales_us │\n",
       "│ ---                              ┆ ---      │\n",
       "│ str                              ┆ i64      │\n",
       "╞══════════════════════════════════╪══════════╡\n",
       "│ SimCity 3000                     ┆ 3        │\n",
       "│ Diablo II                        ┆ 1        │\n",
       "│ Final Fantasy VII                ┆ 4        │\n",
       "│ Counter-Strike: Source           ┆ 3        │\n",
       "│ …                                ┆ …        │\n",
       "│ Mafia: The City of Lost Heaven   ┆ 1        │\n",
       "│ SimCity 4                        ┆ 3        │\n",
       "│ Star Wars Galaxies               ┆ 2        │\n",
       "│ StarCraft II: Heart of the Swarm ┆ 3        │\n",
       "└──────────────────────────────────┴──────────┘"
      ]
     },
     "execution_count": 84,
     "metadata": {},
     "output_type": "execute_result"
    }
   ],
   "source": [
    "# Seleccionamos 2 a más columnas: Name y Sales_us\n",
    "df.select(pl.col(['Name', 'Sales_us']))"
   ]
  },
  {
   "cell_type": "code",
   "execution_count": 85,
   "id": "7deb5d12",
   "metadata": {},
   "outputs": [
    {
     "data": {
      "text/html": [
       "<div><style>\n",
       ".dataframe > thead > tr > th,\n",
       ".dataframe > tbody > tr > td {\n",
       "  text-align: right;\n",
       "}\n",
       "</style>\n",
       "<small>shape: (11, 8)</small><table border=\"1\" class=\"dataframe\"><thead><tr><th>Name</th><th>Sales_uk</th><th>Sales_us</th><th>Series</th><th>Release</th><th>Genre</th><th>Developer</th><th>Publisher</th></tr><tr><td>str</td><td>f64</td><td>i64</td><td>str</td><td>str</td><td>str</td><td>str</td><td>str</td></tr></thead><tbody><tr><td>&quot;SimCity 3000&quot;</td><td>5.0</td><td>3</td><td>&quot;SimCity&quot;</td><td>&quot;Jan-99&quot;</td><td>&quot;City-building&quot;</td><td>&quot;Maxis&quot;</td><td>&quot;Electronic Art…</td></tr><tr><td>&quot;Diablo II&quot;</td><td>4.0</td><td>1</td><td>&quot;Diablo&quot;</td><td>&quot;Jun-00&quot;</td><td>&quot;Action role-pl…</td><td>&quot;Blizzard North…</td><td>&quot;Blizzard Enter…</td></tr><tr><td>&quot;Final Fantasy …</td><td>2.1</td><td>4</td><td>&quot;Final Fantasy&quot;</td><td>&quot;Jun-98&quot;</td><td>&quot;Role-playing g…</td><td>&quot;Square&quot;</td><td>&quot;Eidos Interact…</td></tr><tr><td>&quot;Counter-Strike…</td><td>2.0</td><td>3</td><td>&quot;Counter-Strike…</td><td>&quot;Nov-04&quot;</td><td>&quot;First-person s…</td><td>&quot;Valve&quot;</td><td>&quot;Electronic Art…</td></tr><tr><td>&quot;Diablo&quot;</td><td>2.0</td><td>1</td><td>&quot;Diablo&quot;</td><td>&quot;Dec-96&quot;</td><td>&quot;Action role-pl…</td><td>&quot;Blizzard North…</td><td>&quot;Blizzard Enter…</td></tr><tr><td>&quot;Doom&quot;</td><td>2.0</td><td>3</td><td>&quot;Doom&quot;</td><td>&quot;Dec-93&quot;</td><td>&quot;First-person s…</td><td>&quot;id Software&quot;</td><td>&quot;id Software&quot;</td></tr><tr><td>&quot;Grand Theft Au…</td><td>2.0</td><td>4</td><td>&quot;Grand Theft Au…</td><td>&quot;Apr-15&quot;</td><td>&quot;Action-adventu…</td><td>&quot;Rockstar North…</td><td>&quot;Rockstar Games…</td></tr><tr><td>&quot;Mafia: The Cit…</td><td>2.0</td><td>1</td><td>&quot;Mafia&quot;</td><td>&quot;Aug-02&quot;</td><td>&quot;Third-person s…</td><td>&quot;Illusion Softw…</td><td>&quot;Gathering of D…</td></tr><tr><td>&quot;SimCity 4&quot;</td><td>2.0</td><td>3</td><td>&quot;SimCity&quot;</td><td>&quot;Jan-03&quot;</td><td>&quot;City-building&quot;</td><td>&quot;Maxis&quot;</td><td>&quot;Electronic Art…</td></tr><tr><td>&quot;Star Wars Gala…</td><td>1.0</td><td>2</td><td>&quot;Star Wars&quot;</td><td>&quot;Jun-03&quot;</td><td>&quot;MMORPG&quot;</td><td>&quot;Sony Online En…</td><td>&quot;LucasArts&quot;</td></tr><tr><td>&quot;StarCraft II: …</td><td>1.0</td><td>3</td><td>&quot;StarCraft&quot;</td><td>&quot;Mar-13&quot;</td><td>&quot;Real-time stra…</td><td>&quot;Blizzard Enter…</td><td>&quot;Blizzard Enter…</td></tr></tbody></table></div>"
      ],
      "text/plain": [
       "shape: (11, 8)\n",
       "┌─────────────┬──────────┬──────────┬─────────────┬─────────┬────────────┬────────────┬────────────┐\n",
       "│ Name        ┆ Sales_uk ┆ Sales_us ┆ Series      ┆ Release ┆ Genre      ┆ Developer  ┆ Publisher  │\n",
       "│ ---         ┆ ---      ┆ ---      ┆ ---         ┆ ---     ┆ ---        ┆ ---        ┆ ---        │\n",
       "│ str         ┆ f64      ┆ i64      ┆ str         ┆ str     ┆ str        ┆ str        ┆ str        │\n",
       "╞═════════════╪══════════╪══════════╪═════════════╪═════════╪════════════╪════════════╪════════════╡\n",
       "│ SimCity     ┆ 5.0      ┆ 3        ┆ SimCity     ┆ Jan-99  ┆ City-build ┆ Maxis      ┆ Electronic │\n",
       "│ 3000        ┆          ┆          ┆             ┆         ┆ ing        ┆            ┆ Arts       │\n",
       "│ Diablo II   ┆ 4.0      ┆ 1        ┆ Diablo      ┆ Jun-00  ┆ Action rol ┆ Blizzard   ┆ Blizzard   │\n",
       "│             ┆          ┆          ┆             ┆         ┆ e-playing  ┆ North      ┆ Entertainm │\n",
       "│             ┆          ┆          ┆             ┆         ┆            ┆            ┆ ent        │\n",
       "│ Final       ┆ 2.1      ┆ 4        ┆ Final       ┆ Jun-98  ┆ Role-playi ┆ Square     ┆ Eidos Inte │\n",
       "│ Fantasy VII ┆          ┆          ┆ Fantasy     ┆         ┆ ng game    ┆            ┆ ractive    │\n",
       "│ Counter-Str ┆ 2.0      ┆ 3        ┆ Counter-Str ┆ Nov-04  ┆ First-pers ┆ Valve      ┆ Electronic │\n",
       "│ ike: Source ┆          ┆          ┆ ike         ┆         ┆ on shooter ┆            ┆ Arts (reta │\n",
       "│             ┆          ┆          ┆             ┆         ┆            ┆            ┆ il)        │\n",
       "│ …           ┆ …        ┆ …        ┆ …           ┆ …       ┆ …          ┆ …          ┆ …          │\n",
       "│ Mafia: The  ┆ 2.0      ┆ 1        ┆ Mafia       ┆ Aug-02  ┆ Third-pers ┆ Illusion   ┆ Gathering  │\n",
       "│ City of     ┆          ┆          ┆             ┆         ┆ on shooter ┆ Softworks  ┆ of         │\n",
       "│ Lost Heaven ┆          ┆          ┆             ┆         ┆            ┆            ┆ Developers │\n",
       "│ SimCity 4   ┆ 2.0      ┆ 3        ┆ SimCity     ┆ Jan-03  ┆ City-build ┆ Maxis      ┆ Electronic │\n",
       "│             ┆          ┆          ┆             ┆         ┆ ing        ┆            ┆ Arts (Wind │\n",
       "│             ┆          ┆          ┆             ┆         ┆            ┆            ┆ ows)       │\n",
       "│ Star Wars   ┆ 1.0      ┆ 2        ┆ Star Wars   ┆ Jun-03  ┆ MMORPG     ┆ Sony       ┆ LucasArts  │\n",
       "│ Galaxies    ┆          ┆          ┆             ┆         ┆            ┆ Online Ent ┆            │\n",
       "│             ┆          ┆          ┆             ┆         ┆            ┆ ertainment ┆            │\n",
       "│ StarCraft   ┆ 1.0      ┆ 3        ┆ StarCraft   ┆ Mar-13  ┆ Real-time  ┆ Blizzard   ┆ Blizzard   │\n",
       "│ II: Heart   ┆          ┆          ┆             ┆         ┆ strategy   ┆ Entertainm ┆ Entertainm │\n",
       "│ of the      ┆          ┆          ┆             ┆         ┆            ┆ ent        ┆ ent        │\n",
       "│ Swarm       ┆          ┆          ┆             ┆         ┆            ┆            ┆            │\n",
       "└─────────────┴──────────┴──────────┴─────────────┴─────────┴────────────┴────────────┴────────────┘"
      ]
     },
     "execution_count": 85,
     "metadata": {},
     "output_type": "execute_result"
    }
   ],
   "source": [
    "# Seleccionamos todas las columnas\n",
    "df.select(pl.col('*'))"
   ]
  },
  {
   "attachments": {},
   "cell_type": "markdown",
   "id": "dc9c882a",
   "metadata": {},
   "source": [
    "### <span style=\"color:Brown;\">Agrupar y contar</span>\n",
    "Contar cuantas veces aparece un elemento dentro de una columna puede ser fácil si se trata de una tabla pequeña. Polars puede hacer este trabajo a gran escala usando eficientemente los recursos de nuestra pc. Aquí te mostramos un pequeño ejemplo con la función `groupby()`"
   ]
  },
  {
   "cell_type": "code",
   "execution_count": 86,
   "id": "d3823eb8",
   "metadata": {},
   "outputs": [
    {
     "data": {
      "text/html": [
       "<div><style>\n",
       ".dataframe > thead > tr > th,\n",
       ".dataframe > tbody > tr > td {\n",
       "  text-align: right;\n",
       "}\n",
       "</style>\n",
       "<small>shape: (5, 2)</small><table border=\"1\" class=\"dataframe\"><thead><tr><th>Sales_uk</th><th>count</th></tr><tr><td>f64</td><td>u32</td></tr></thead><tbody><tr><td>4.0</td><td>1</td></tr><tr><td>2.0</td><td>6</td></tr><tr><td>1.0</td><td>2</td></tr><tr><td>2.1</td><td>1</td></tr><tr><td>5.0</td><td>1</td></tr></tbody></table></div>"
      ],
      "text/plain": [
       "shape: (5, 2)\n",
       "┌──────────┬───────┐\n",
       "│ Sales_uk ┆ count │\n",
       "│ ---      ┆ ---   │\n",
       "│ f64      ┆ u32   │\n",
       "╞══════════╪═══════╡\n",
       "│ 4.0      ┆ 1     │\n",
       "│ 2.0      ┆ 6     │\n",
       "│ 1.0      ┆ 2     │\n",
       "│ 2.1      ┆ 1     │\n",
       "│ 5.0      ┆ 1     │\n",
       "└──────────┴───────┘"
      ]
     },
     "execution_count": 86,
     "metadata": {},
     "output_type": "execute_result"
    }
   ],
   "source": [
    "# Agrupamos según ventas 'Sales'\n",
    "df.groupby(\"Sales_uk\").count()"
   ]
  },
  {
   "attachments": {},
   "cell_type": "markdown",
   "id": "66d9afe0",
   "metadata": {},
   "source": []
  },
  {
   "attachments": {},
   "cell_type": "markdown",
   "id": "fa3a758a",
   "metadata": {},
   "source": [
    "### <span style=\"color:Brown;\">Crear nuevas columnas</span>\n",
    "¿Deseas crear una nueva columna a partir de otras? Aquí te mostramos cómo. En este caso buscamos una columna que sea la suma de otras 2 y otra más para el promedio."
   ]
  },
  {
   "cell_type": "code",
   "execution_count": 87,
   "id": "076bd4fb",
   "metadata": {},
   "outputs": [
    {
     "data": {
      "text/html": [
       "<div><style>\n",
       ".dataframe > thead > tr > th,\n",
       ".dataframe > tbody > tr > td {\n",
       "  text-align: right;\n",
       "}\n",
       "</style>\n",
       "<small>shape: (11, 9)</small><table border=\"1\" class=\"dataframe\"><thead><tr><th>Name</th><th>Sales_uk</th><th>Sales_us</th><th>Series</th><th>Release</th><th>Genre</th><th>Developer</th><th>Publisher</th><th>Sales_G</th></tr><tr><td>str</td><td>f64</td><td>i64</td><td>str</td><td>str</td><td>str</td><td>str</td><td>str</td><td>f64</td></tr></thead><tbody><tr><td>&quot;SimCity 3000&quot;</td><td>5.0</td><td>3</td><td>&quot;SimCity&quot;</td><td>&quot;Jan-99&quot;</td><td>&quot;City-building&quot;</td><td>&quot;Maxis&quot;</td><td>&quot;Electronic Art…</td><td>8.0</td></tr><tr><td>&quot;Diablo II&quot;</td><td>4.0</td><td>1</td><td>&quot;Diablo&quot;</td><td>&quot;Jun-00&quot;</td><td>&quot;Action role-pl…</td><td>&quot;Blizzard North…</td><td>&quot;Blizzard Enter…</td><td>5.0</td></tr><tr><td>&quot;Final Fantasy …</td><td>2.1</td><td>4</td><td>&quot;Final Fantasy&quot;</td><td>&quot;Jun-98&quot;</td><td>&quot;Role-playing g…</td><td>&quot;Square&quot;</td><td>&quot;Eidos Interact…</td><td>6.1</td></tr><tr><td>&quot;Counter-Strike…</td><td>2.0</td><td>3</td><td>&quot;Counter-Strike…</td><td>&quot;Nov-04&quot;</td><td>&quot;First-person s…</td><td>&quot;Valve&quot;</td><td>&quot;Electronic Art…</td><td>5.0</td></tr><tr><td>&quot;Diablo&quot;</td><td>2.0</td><td>1</td><td>&quot;Diablo&quot;</td><td>&quot;Dec-96&quot;</td><td>&quot;Action role-pl…</td><td>&quot;Blizzard North…</td><td>&quot;Blizzard Enter…</td><td>3.0</td></tr><tr><td>&quot;Doom&quot;</td><td>2.0</td><td>3</td><td>&quot;Doom&quot;</td><td>&quot;Dec-93&quot;</td><td>&quot;First-person s…</td><td>&quot;id Software&quot;</td><td>&quot;id Software&quot;</td><td>5.0</td></tr><tr><td>&quot;Grand Theft Au…</td><td>2.0</td><td>4</td><td>&quot;Grand Theft Au…</td><td>&quot;Apr-15&quot;</td><td>&quot;Action-adventu…</td><td>&quot;Rockstar North…</td><td>&quot;Rockstar Games…</td><td>6.0</td></tr><tr><td>&quot;Mafia: The Cit…</td><td>2.0</td><td>1</td><td>&quot;Mafia&quot;</td><td>&quot;Aug-02&quot;</td><td>&quot;Third-person s…</td><td>&quot;Illusion Softw…</td><td>&quot;Gathering of D…</td><td>3.0</td></tr><tr><td>&quot;SimCity 4&quot;</td><td>2.0</td><td>3</td><td>&quot;SimCity&quot;</td><td>&quot;Jan-03&quot;</td><td>&quot;City-building&quot;</td><td>&quot;Maxis&quot;</td><td>&quot;Electronic Art…</td><td>5.0</td></tr><tr><td>&quot;Star Wars Gala…</td><td>1.0</td><td>2</td><td>&quot;Star Wars&quot;</td><td>&quot;Jun-03&quot;</td><td>&quot;MMORPG&quot;</td><td>&quot;Sony Online En…</td><td>&quot;LucasArts&quot;</td><td>3.0</td></tr><tr><td>&quot;StarCraft II: …</td><td>1.0</td><td>3</td><td>&quot;StarCraft&quot;</td><td>&quot;Mar-13&quot;</td><td>&quot;Real-time stra…</td><td>&quot;Blizzard Enter…</td><td>&quot;Blizzard Enter…</td><td>4.0</td></tr></tbody></table></div>"
      ],
      "text/plain": [
       "shape: (11, 9)\n",
       "┌────────────┬──────────┬──────────┬────────────┬───┬────────────┬───────────┬───────────┬─────────┐\n",
       "│ Name       ┆ Sales_uk ┆ Sales_us ┆ Series     ┆ … ┆ Genre      ┆ Developer ┆ Publisher ┆ Sales_G │\n",
       "│ ---        ┆ ---      ┆ ---      ┆ ---        ┆   ┆ ---        ┆ ---       ┆ ---       ┆ ---     │\n",
       "│ str        ┆ f64      ┆ i64      ┆ str        ┆   ┆ str        ┆ str       ┆ str       ┆ f64     │\n",
       "╞════════════╪══════════╪══════════╪════════════╪═══╪════════════╪═══════════╪═══════════╪═════════╡\n",
       "│ SimCity    ┆ 5.0      ┆ 3        ┆ SimCity    ┆ … ┆ City-build ┆ Maxis     ┆ Electroni ┆ 8.0     │\n",
       "│ 3000       ┆          ┆          ┆            ┆   ┆ ing        ┆           ┆ c Arts    ┆         │\n",
       "│ Diablo II  ┆ 4.0      ┆ 1        ┆ Diablo     ┆ … ┆ Action rol ┆ Blizzard  ┆ Blizzard  ┆ 5.0     │\n",
       "│            ┆          ┆          ┆            ┆   ┆ e-playing  ┆ North     ┆ Entertain ┆         │\n",
       "│            ┆          ┆          ┆            ┆   ┆            ┆           ┆ ment      ┆         │\n",
       "│ Final      ┆ 2.1      ┆ 4        ┆ Final      ┆ … ┆ Role-playi ┆ Square    ┆ Eidos Int ┆ 6.1     │\n",
       "│ Fantasy    ┆          ┆          ┆ Fantasy    ┆   ┆ ng game    ┆           ┆ eractive  ┆         │\n",
       "│ VII        ┆          ┆          ┆            ┆   ┆            ┆           ┆           ┆         │\n",
       "│ Counter-St ┆ 2.0      ┆ 3        ┆ Counter-St ┆ … ┆ First-pers ┆ Valve     ┆ Electroni ┆ 5.0     │\n",
       "│ rike:      ┆          ┆          ┆ rike       ┆   ┆ on shooter ┆           ┆ c Arts (r ┆         │\n",
       "│ Source     ┆          ┆          ┆            ┆   ┆            ┆           ┆ etail)    ┆         │\n",
       "│ …          ┆ …        ┆ …        ┆ …          ┆ … ┆ …          ┆ …         ┆ …         ┆ …       │\n",
       "│ Mafia: The ┆ 2.0      ┆ 1        ┆ Mafia      ┆ … ┆ Third-pers ┆ Illusion  ┆ Gathering ┆ 3.0     │\n",
       "│ City of    ┆          ┆          ┆            ┆   ┆ on shooter ┆ Softworks ┆ of Develo ┆         │\n",
       "│ Lost       ┆          ┆          ┆            ┆   ┆            ┆           ┆ pers      ┆         │\n",
       "│ Heaven     ┆          ┆          ┆            ┆   ┆            ┆           ┆           ┆         │\n",
       "│ SimCity 4  ┆ 2.0      ┆ 3        ┆ SimCity    ┆ … ┆ City-build ┆ Maxis     ┆ Electroni ┆ 5.0     │\n",
       "│            ┆          ┆          ┆            ┆   ┆ ing        ┆           ┆ c Arts (W ┆         │\n",
       "│            ┆          ┆          ┆            ┆   ┆            ┆           ┆ indows)   ┆         │\n",
       "│ Star Wars  ┆ 1.0      ┆ 2        ┆ Star Wars  ┆ … ┆ MMORPG     ┆ Sony      ┆ LucasArts ┆ 3.0     │\n",
       "│ Galaxies   ┆          ┆          ┆            ┆   ┆            ┆ Online    ┆           ┆         │\n",
       "│            ┆          ┆          ┆            ┆   ┆            ┆ Entertain ┆           ┆         │\n",
       "│            ┆          ┆          ┆            ┆   ┆            ┆ ment      ┆           ┆         │\n",
       "│ StarCraft  ┆ 1.0      ┆ 3        ┆ StarCraft  ┆ … ┆ Real-time  ┆ Blizzard  ┆ Blizzard  ┆ 4.0     │\n",
       "│ II: Heart  ┆          ┆          ┆            ┆   ┆ strategy   ┆ Entertain ┆ Entertain ┆         │\n",
       "│ of the     ┆          ┆          ┆            ┆   ┆            ┆ ment      ┆ ment      ┆         │\n",
       "│ Swarm      ┆          ┆          ┆            ┆   ┆            ┆           ┆           ┆         │\n",
       "└────────────┴──────────┴──────────┴────────────┴───┴────────────┴───────────┴───────────┴─────────┘"
      ]
     },
     "execution_count": 87,
     "metadata": {},
     "output_type": "execute_result"
    }
   ],
   "source": [
    "# Para PolarS usamos el este código para añadir una columan\n",
    "df.with_columns(\n",
    "    (pl.col('Sales_us') + pl.col('Sales_uk')).alias(\"Sales_G\")\n",
    ")\n",
    "#Similar a la estructura que usa Pandas:\n",
    "# pandas: df['Sales_G'] = df['Sales_us'] + df['Sales_uk']"
   ]
  },
  {
   "cell_type": "code",
   "execution_count": 88,
   "id": "4b734986",
   "metadata": {},
   "outputs": [
    {
     "data": {
      "text/html": [
       "<div><style>\n",
       ".dataframe > thead > tr > th,\n",
       ".dataframe > tbody > tr > td {\n",
       "  text-align: right;\n",
       "}\n",
       "</style>\n",
       "<small>shape: (11, 9)</small><table border=\"1\" class=\"dataframe\"><thead><tr><th>Name</th><th>Sales_uk</th><th>Sales_us</th><th>Series</th><th>Release</th><th>Genre</th><th>Developer</th><th>Publisher</th><th>Sales_M</th></tr><tr><td>str</td><td>f64</td><td>i64</td><td>str</td><td>str</td><td>str</td><td>str</td><td>str</td><td>f64</td></tr></thead><tbody><tr><td>&quot;SimCity 3000&quot;</td><td>5.0</td><td>3</td><td>&quot;SimCity&quot;</td><td>&quot;Jan-99&quot;</td><td>&quot;City-building&quot;</td><td>&quot;Maxis&quot;</td><td>&quot;Electronic Art…</td><td>4.0</td></tr><tr><td>&quot;Diablo II&quot;</td><td>4.0</td><td>1</td><td>&quot;Diablo&quot;</td><td>&quot;Jun-00&quot;</td><td>&quot;Action role-pl…</td><td>&quot;Blizzard North…</td><td>&quot;Blizzard Enter…</td><td>2.5</td></tr><tr><td>&quot;Final Fantasy …</td><td>2.1</td><td>4</td><td>&quot;Final Fantasy&quot;</td><td>&quot;Jun-98&quot;</td><td>&quot;Role-playing g…</td><td>&quot;Square&quot;</td><td>&quot;Eidos Interact…</td><td>3.05</td></tr><tr><td>&quot;Counter-Strike…</td><td>2.0</td><td>3</td><td>&quot;Counter-Strike…</td><td>&quot;Nov-04&quot;</td><td>&quot;First-person s…</td><td>&quot;Valve&quot;</td><td>&quot;Electronic Art…</td><td>2.5</td></tr><tr><td>&quot;Diablo&quot;</td><td>2.0</td><td>1</td><td>&quot;Diablo&quot;</td><td>&quot;Dec-96&quot;</td><td>&quot;Action role-pl…</td><td>&quot;Blizzard North…</td><td>&quot;Blizzard Enter…</td><td>1.5</td></tr><tr><td>&quot;Doom&quot;</td><td>2.0</td><td>3</td><td>&quot;Doom&quot;</td><td>&quot;Dec-93&quot;</td><td>&quot;First-person s…</td><td>&quot;id Software&quot;</td><td>&quot;id Software&quot;</td><td>2.5</td></tr><tr><td>&quot;Grand Theft Au…</td><td>2.0</td><td>4</td><td>&quot;Grand Theft Au…</td><td>&quot;Apr-15&quot;</td><td>&quot;Action-adventu…</td><td>&quot;Rockstar North…</td><td>&quot;Rockstar Games…</td><td>3.0</td></tr><tr><td>&quot;Mafia: The Cit…</td><td>2.0</td><td>1</td><td>&quot;Mafia&quot;</td><td>&quot;Aug-02&quot;</td><td>&quot;Third-person s…</td><td>&quot;Illusion Softw…</td><td>&quot;Gathering of D…</td><td>1.5</td></tr><tr><td>&quot;SimCity 4&quot;</td><td>2.0</td><td>3</td><td>&quot;SimCity&quot;</td><td>&quot;Jan-03&quot;</td><td>&quot;City-building&quot;</td><td>&quot;Maxis&quot;</td><td>&quot;Electronic Art…</td><td>2.5</td></tr><tr><td>&quot;Star Wars Gala…</td><td>1.0</td><td>2</td><td>&quot;Star Wars&quot;</td><td>&quot;Jun-03&quot;</td><td>&quot;MMORPG&quot;</td><td>&quot;Sony Online En…</td><td>&quot;LucasArts&quot;</td><td>1.5</td></tr><tr><td>&quot;StarCraft II: …</td><td>1.0</td><td>3</td><td>&quot;StarCraft&quot;</td><td>&quot;Mar-13&quot;</td><td>&quot;Real-time stra…</td><td>&quot;Blizzard Enter…</td><td>&quot;Blizzard Enter…</td><td>2.0</td></tr></tbody></table></div>"
      ],
      "text/plain": [
       "shape: (11, 9)\n",
       "┌────────────┬──────────┬──────────┬────────────┬───┬────────────┬───────────┬───────────┬─────────┐\n",
       "│ Name       ┆ Sales_uk ┆ Sales_us ┆ Series     ┆ … ┆ Genre      ┆ Developer ┆ Publisher ┆ Sales_M │\n",
       "│ ---        ┆ ---      ┆ ---      ┆ ---        ┆   ┆ ---        ┆ ---       ┆ ---       ┆ ---     │\n",
       "│ str        ┆ f64      ┆ i64      ┆ str        ┆   ┆ str        ┆ str       ┆ str       ┆ f64     │\n",
       "╞════════════╪══════════╪══════════╪════════════╪═══╪════════════╪═══════════╪═══════════╪═════════╡\n",
       "│ SimCity    ┆ 5.0      ┆ 3        ┆ SimCity    ┆ … ┆ City-build ┆ Maxis     ┆ Electroni ┆ 4.0     │\n",
       "│ 3000       ┆          ┆          ┆            ┆   ┆ ing        ┆           ┆ c Arts    ┆         │\n",
       "│ Diablo II  ┆ 4.0      ┆ 1        ┆ Diablo     ┆ … ┆ Action rol ┆ Blizzard  ┆ Blizzard  ┆ 2.5     │\n",
       "│            ┆          ┆          ┆            ┆   ┆ e-playing  ┆ North     ┆ Entertain ┆         │\n",
       "│            ┆          ┆          ┆            ┆   ┆            ┆           ┆ ment      ┆         │\n",
       "│ Final      ┆ 2.1      ┆ 4        ┆ Final      ┆ … ┆ Role-playi ┆ Square    ┆ Eidos Int ┆ 3.05    │\n",
       "│ Fantasy    ┆          ┆          ┆ Fantasy    ┆   ┆ ng game    ┆           ┆ eractive  ┆         │\n",
       "│ VII        ┆          ┆          ┆            ┆   ┆            ┆           ┆           ┆         │\n",
       "│ Counter-St ┆ 2.0      ┆ 3        ┆ Counter-St ┆ … ┆ First-pers ┆ Valve     ┆ Electroni ┆ 2.5     │\n",
       "│ rike:      ┆          ┆          ┆ rike       ┆   ┆ on shooter ┆           ┆ c Arts (r ┆         │\n",
       "│ Source     ┆          ┆          ┆            ┆   ┆            ┆           ┆ etail)    ┆         │\n",
       "│ …          ┆ …        ┆ …        ┆ …          ┆ … ┆ …          ┆ …         ┆ …         ┆ …       │\n",
       "│ Mafia: The ┆ 2.0      ┆ 1        ┆ Mafia      ┆ … ┆ Third-pers ┆ Illusion  ┆ Gathering ┆ 1.5     │\n",
       "│ City of    ┆          ┆          ┆            ┆   ┆ on shooter ┆ Softworks ┆ of Develo ┆         │\n",
       "│ Lost       ┆          ┆          ┆            ┆   ┆            ┆           ┆ pers      ┆         │\n",
       "│ Heaven     ┆          ┆          ┆            ┆   ┆            ┆           ┆           ┆         │\n",
       "│ SimCity 4  ┆ 2.0      ┆ 3        ┆ SimCity    ┆ … ┆ City-build ┆ Maxis     ┆ Electroni ┆ 2.5     │\n",
       "│            ┆          ┆          ┆            ┆   ┆ ing        ┆           ┆ c Arts (W ┆         │\n",
       "│            ┆          ┆          ┆            ┆   ┆            ┆           ┆ indows)   ┆         │\n",
       "│ Star Wars  ┆ 1.0      ┆ 2        ┆ Star Wars  ┆ … ┆ MMORPG     ┆ Sony      ┆ LucasArts ┆ 1.5     │\n",
       "│ Galaxies   ┆          ┆          ┆            ┆   ┆            ┆ Online    ┆           ┆         │\n",
       "│            ┆          ┆          ┆            ┆   ┆            ┆ Entertain ┆           ┆         │\n",
       "│            ┆          ┆          ┆            ┆   ┆            ┆ ment      ┆           ┆         │\n",
       "│ StarCraft  ┆ 1.0      ┆ 3        ┆ StarCraft  ┆ … ┆ Real-time  ┆ Blizzard  ┆ Blizzard  ┆ 2.0     │\n",
       "│ II: Heart  ┆          ┆          ┆            ┆   ┆ strategy   ┆ Entertain ┆ Entertain ┆         │\n",
       "│ of the     ┆          ┆          ┆            ┆   ┆            ┆ ment      ┆ ment      ┆         │\n",
       "│ Swarm      ┆          ┆          ┆            ┆   ┆            ┆           ┆           ┆         │\n",
       "└────────────┴──────────┴──────────┴────────────┴───┴────────────┴───────────┴───────────┴─────────┘"
      ]
     },
     "execution_count": 88,
     "metadata": {},
     "output_type": "execute_result"
    }
   ],
   "source": [
    "# Creamos la columna 'promedio'\n",
    "df.with_columns(((pl.col('Sales_us') + pl.col('Sales_uk'))/2).alias(\"Sales_M\")\n",
    " )\n",
    "#Similar a la estructura que usa Pandas:\n",
    "# pandas: df['average'] = df[['math score', 'reading score', 'writing score']].mean(axis=1)"
   ]
  },
  {
   "attachments": {},
   "cell_type": "markdown",
   "id": "7834c479",
   "metadata": {},
   "source": [
    "### <span style=\"color:Brown;\">Unir Dataframes</span>\n",
    "Otra función bastante útil al momento de trabajar es cómo unir 2 estructuras de datos o DataFrames para luego operarlos o almacenarlos según sea el propósito. Para ello Polars ofrece varias clases de 'uniones' según el resultado que estemos buscando. Por ejemplo, si solo queremos la intersección usaremos el parámetro ``how='inner'``."
   ]
  },
  {
   "cell_type": "code",
   "execution_count": 89,
   "id": "75029bab",
   "metadata": {},
   "outputs": [
    {
     "name": "stdout",
     "output_type": "stream",
     "text": [
      "shape: (11, 9)\n",
      "┌────────────┬──────────┬──────────┬───────────┬───┬───────────┬───────────┬───────────┬───────────┐\n",
      "│ Name       ┆ Sales_uk ┆ Sales_us ┆ Series    ┆ … ┆ Genre     ┆ Developer ┆ Publisher ┆ Opinion   │\n",
      "│ ---        ┆ ---      ┆ ---      ┆ ---       ┆   ┆ ---       ┆ ---       ┆ ---       ┆ ---       │\n",
      "│ str        ┆ f64      ┆ i64      ┆ str       ┆   ┆ str       ┆ str       ┆ str       ┆ str       │\n",
      "╞════════════╪══════════╪══════════╪═══════════╪═══╪═══════════╪═══════════╪═══════════╪═══════════╡\n",
      "│ SimCity    ┆ 5.0      ┆ 3        ┆ SimCity   ┆ … ┆ City-buil ┆ Maxis     ┆ Electroni ┆ Good      │\n",
      "│ 3000       ┆          ┆          ┆           ┆   ┆ ding      ┆           ┆ c Arts    ┆           │\n",
      "│ Diablo II  ┆ 4.0      ┆ 1        ┆ Diablo    ┆ … ┆ Action    ┆ Blizzard  ┆ Blizzard  ┆ Very Good │\n",
      "│            ┆          ┆          ┆           ┆   ┆ role-play ┆ North     ┆ Entertain ┆           │\n",
      "│            ┆          ┆          ┆           ┆   ┆ ing       ┆           ┆ ment      ┆           │\n",
      "│ Final      ┆ 2.1      ┆ 4        ┆ Final     ┆ … ┆ Role-play ┆ Square    ┆ Eidos Int ┆ Good      │\n",
      "│ Fantasy    ┆          ┆          ┆ Fantasy   ┆   ┆ ing game  ┆           ┆ eractive  ┆           │\n",
      "│ VII        ┆          ┆          ┆           ┆   ┆           ┆           ┆           ┆           │\n",
      "│ Counter-St ┆ 2.0      ┆ 3        ┆ Counter-S ┆ … ┆ First-per ┆ Valve     ┆ Electroni ┆ Meh       │\n",
      "│ rike:      ┆          ┆          ┆ trike     ┆   ┆ son       ┆           ┆ c Arts (r ┆           │\n",
      "│ Source     ┆          ┆          ┆           ┆   ┆ shooter   ┆           ┆ etail)    ┆           │\n",
      "│ …          ┆ …        ┆ …        ┆ …         ┆ … ┆ …         ┆ …         ┆ …         ┆ …         │\n",
      "│ Mafia: The ┆ 2.0      ┆ 1        ┆ Mafia     ┆ … ┆ Third-per ┆ Illusion  ┆ Gathering ┆ Good      │\n",
      "│ City of    ┆          ┆          ┆           ┆   ┆ son       ┆ Softworks ┆ of Develo ┆           │\n",
      "│ Lost       ┆          ┆          ┆           ┆   ┆ shooter   ┆           ┆ pers      ┆           │\n",
      "│ Heaven     ┆          ┆          ┆           ┆   ┆           ┆           ┆           ┆           │\n",
      "│ SimCity 4  ┆ 2.0      ┆ 3        ┆ SimCity   ┆ … ┆ City-buil ┆ Maxis     ┆ Electroni ┆ Very Good │\n",
      "│            ┆          ┆          ┆           ┆   ┆ ding      ┆           ┆ c Arts (W ┆           │\n",
      "│            ┆          ┆          ┆           ┆   ┆           ┆           ┆ indows)   ┆           │\n",
      "│ Star Wars  ┆ 1.0      ┆ 2        ┆ Star Wars ┆ … ┆ MMORPG    ┆ Sony      ┆ LucasArts ┆ Bad       │\n",
      "│ Galaxies   ┆          ┆          ┆           ┆   ┆           ┆ Online    ┆           ┆           │\n",
      "│            ┆          ┆          ┆           ┆   ┆           ┆ Entertain ┆           ┆           │\n",
      "│            ┆          ┆          ┆           ┆   ┆           ┆ ment      ┆           ┆           │\n",
      "│ StarCraft  ┆ 1.0      ┆ 3        ┆ StarCraft ┆ … ┆ Real-time ┆ Blizzard  ┆ Blizzard  ┆ Meh       │\n",
      "│ II: Heart  ┆          ┆          ┆           ┆   ┆ strategy  ┆ Entertain ┆ Entertain ┆           │\n",
      "│ of the     ┆          ┆          ┆           ┆   ┆           ┆ ment      ┆ ment      ┆           │\n",
      "│ Swarm      ┆          ┆          ┆           ┆   ┆           ┆           ┆           ┆           │\n",
      "└────────────┴──────────┴──────────┴───────────┴───┴───────────┴───────────┴───────────┴───────────┘\n"
     ]
    }
   ],
   "source": [
    "#Leemos un nuevo csv\n",
    "df2 = pl.read_csv(\"G_Opinion.csv\")\n",
    "#Unimos con el siguiente código\n",
    "df3= df.join(df2, on='Name')\n",
    "print(df3)\n",
    "#Otras formas de unir DataFrame\n",
    "#df.join(df2, on='Name', how='inner') #La intersección de los DataFrames\n",
    "#df.join(df2, on='Name', how='left') #Devuelve las filas de df y las filas del df2  que coinciden con df\n",
    "#df.join(df2, on='Name', how='outer') # Devuelve todas las filas de ambos df, rellenando con valores nulos en caso de no encontrar una coincidencia"
   ]
  },
  {
   "attachments": {},
   "cell_type": "markdown",
   "id": "ec63d77d",
   "metadata": {},
   "source": [
    "### <span style=\"color:Brown;\">¿Cómo filtramos filas con Polars?</span>\n",
    "Para filtrar puedes optar por el filtrado simple (por un criterio) o multiple (por 2 o más criterios)"
   ]
  },
  {
   "cell_type": "code",
   "execution_count": 91,
   "id": "ad63ba3c",
   "metadata": {},
   "outputs": [
    {
     "data": {
      "text/html": [
       "<div><style>\n",
       ".dataframe > thead > tr > th,\n",
       ".dataframe > tbody > tr > td {\n",
       "  text-align: right;\n",
       "}\n",
       "</style>\n",
       "<small>shape: (2, 9)</small><table border=\"1\" class=\"dataframe\"><thead><tr><th>Name</th><th>Sales_uk</th><th>Sales_us</th><th>Series</th><th>Release</th><th>Genre</th><th>Developer</th><th>Publisher</th><th>Opinion</th></tr><tr><td>str</td><td>f64</td><td>i64</td><td>str</td><td>str</td><td>str</td><td>str</td><td>str</td><td>str</td></tr></thead><tbody><tr><td>&quot;Counter-Strike…</td><td>2.0</td><td>3</td><td>&quot;Counter-Strike…</td><td>&quot;Nov-04&quot;</td><td>&quot;First-person s…</td><td>&quot;Valve&quot;</td><td>&quot;Electronic Art…</td><td>&quot;Meh&quot;</td></tr><tr><td>&quot;StarCraft II: …</td><td>1.0</td><td>3</td><td>&quot;StarCraft&quot;</td><td>&quot;Mar-13&quot;</td><td>&quot;Real-time stra…</td><td>&quot;Blizzard Enter…</td><td>&quot;Blizzard Enter…</td><td>&quot;Meh&quot;</td></tr></tbody></table></div>"
      ],
      "text/plain": [
       "shape: (2, 9)\n",
       "┌────────────┬──────────┬──────────┬────────────┬───┬────────────┬───────────┬───────────┬─────────┐\n",
       "│ Name       ┆ Sales_uk ┆ Sales_us ┆ Series     ┆ … ┆ Genre      ┆ Developer ┆ Publisher ┆ Opinion │\n",
       "│ ---        ┆ ---      ┆ ---      ┆ ---        ┆   ┆ ---        ┆ ---       ┆ ---       ┆ ---     │\n",
       "│ str        ┆ f64      ┆ i64      ┆ str        ┆   ┆ str        ┆ str       ┆ str       ┆ str     │\n",
       "╞════════════╪══════════╪══════════╪════════════╪═══╪════════════╪═══════════╪═══════════╪═════════╡\n",
       "│ Counter-St ┆ 2.0      ┆ 3        ┆ Counter-St ┆ … ┆ First-pers ┆ Valve     ┆ Electroni ┆ Meh     │\n",
       "│ rike:      ┆          ┆          ┆ rike       ┆   ┆ on shooter ┆           ┆ c Arts (r ┆         │\n",
       "│ Source     ┆          ┆          ┆            ┆   ┆            ┆           ┆ etail)    ┆         │\n",
       "│ StarCraft  ┆ 1.0      ┆ 3        ┆ StarCraft  ┆ … ┆ Real-time  ┆ Blizzard  ┆ Blizzard  ┆ Meh     │\n",
       "│ II: Heart  ┆          ┆          ┆            ┆   ┆ strategy   ┆ Entertain ┆ Entertain ┆         │\n",
       "│ of the     ┆          ┆          ┆            ┆   ┆            ┆ ment      ┆ ment      ┆         │\n",
       "│ Swarm      ┆          ┆          ┆            ┆   ┆            ┆           ┆           ┆         │\n",
       "└────────────┴──────────┴──────────┴────────────┴───┴────────────┴───────────┴───────────┴─────────┘"
      ]
     },
     "execution_count": 91,
     "metadata": {},
     "output_type": "execute_result"
    }
   ],
   "source": [
    "# polars: Filtrado Simple\n",
    "df3.filter(pl.col('Opinion')=='Meh')\n",
    "\n",
    "\n",
    "#Código en Pandas:\n",
    "# pandas: df[df['Sales_uk'] == 2]"
   ]
  },
  {
   "cell_type": "code",
   "execution_count": 92,
   "metadata": {},
   "outputs": [
    {
     "data": {
      "text/html": [
       "<div><style>\n",
       ".dataframe > thead > tr > th,\n",
       ".dataframe > tbody > tr > td {\n",
       "  text-align: right;\n",
       "}\n",
       "</style>\n",
       "<small>shape: (2, 9)</small><table border=\"1\" class=\"dataframe\"><thead><tr><th>Name</th><th>Sales_uk</th><th>Sales_us</th><th>Series</th><th>Release</th><th>Genre</th><th>Developer</th><th>Publisher</th><th>Opinion</th></tr><tr><td>str</td><td>f64</td><td>i64</td><td>str</td><td>str</td><td>str</td><td>str</td><td>str</td><td>str</td></tr></thead><tbody><tr><td>&quot;Diablo&quot;</td><td>2.0</td><td>1</td><td>&quot;Diablo&quot;</td><td>&quot;Dec-96&quot;</td><td>&quot;Action role-pl…</td><td>&quot;Blizzard North…</td><td>&quot;Blizzard Enter…</td><td>&quot;Good&quot;</td></tr><tr><td>&quot;Mafia: The Cit…</td><td>2.0</td><td>1</td><td>&quot;Mafia&quot;</td><td>&quot;Aug-02&quot;</td><td>&quot;Third-person s…</td><td>&quot;Illusion Softw…</td><td>&quot;Gathering of D…</td><td>&quot;Good&quot;</td></tr></tbody></table></div>"
      ],
      "text/plain": [
       "shape: (2, 9)\n",
       "┌─────────────┬──────────┬──────────┬────────┬───┬─────────────┬────────────┬────────────┬─────────┐\n",
       "│ Name        ┆ Sales_uk ┆ Sales_us ┆ Series ┆ … ┆ Genre       ┆ Developer  ┆ Publisher  ┆ Opinion │\n",
       "│ ---         ┆ ---      ┆ ---      ┆ ---    ┆   ┆ ---         ┆ ---        ┆ ---        ┆ ---     │\n",
       "│ str         ┆ f64      ┆ i64      ┆ str    ┆   ┆ str         ┆ str        ┆ str        ┆ str     │\n",
       "╞═════════════╪══════════╪══════════╪════════╪═══╪═════════════╪════════════╪════════════╪═════════╡\n",
       "│ Diablo      ┆ 2.0      ┆ 1        ┆ Diablo ┆ … ┆ Action role ┆ Blizzard   ┆ Blizzard   ┆ Good    │\n",
       "│             ┆          ┆          ┆        ┆   ┆ -playing    ┆ North      ┆ Entertainm ┆         │\n",
       "│             ┆          ┆          ┆        ┆   ┆             ┆            ┆ ent (North ┆         │\n",
       "│             ┆          ┆          ┆        ┆   ┆             ┆            ┆ Am…        ┆         │\n",
       "│ Mafia: The  ┆ 2.0      ┆ 1        ┆ Mafia  ┆ … ┆ Third-perso ┆ Illusion   ┆ Gathering  ┆ Good    │\n",
       "│ City of     ┆          ┆          ┆        ┆   ┆ n shooter   ┆ Softworks  ┆ of         ┆         │\n",
       "│ Lost Heaven ┆          ┆          ┆        ┆   ┆             ┆            ┆ Developers ┆         │\n",
       "└─────────────┴──────────┴──────────┴────────┴───┴─────────────┴────────────┴────────────┴─────────┘"
      ]
     },
     "execution_count": 92,
     "metadata": {},
     "output_type": "execute_result"
    }
   ],
   "source": [
    "# Filtrado múltiple\n",
    "df3.filter(\n",
    "    (pl.col('Sales_uk')==2) &\n",
    "    (pl.col('Opinion')=='Good'))\n",
    "\n",
    "#Código en Pandas:\n",
    "# pandas: df[(df['Sales_uk'] == 2) & (df['Opinion'] == 'Good')]"
   ]
  },
  {
   "attachments": {},
   "cell_type": "markdown",
   "id": "39ac5de9",
   "metadata": {},
   "source": [
    "### <p style=\"color:Brown;\">¿Interesado en probar Polars? Aquí en GitHub te dejamos los archivos csv. de este tutorial para que te inicies en Polars. Si deseas dejarnos un comentario o recomendación ¡No dudes en hacerlo, estaremos muy agredecidos, mucha suerte:)! .</p>"
   ]
  },
  {
   "attachments": {},
   "cell_type": "markdown",
   "id": "e1406f95",
   "metadata": {},
   "source": [
    "### <p style=\"color:#FFA500;\">Referencias y/o enlaces recomendados</p>\n",
    "1. [Documentación oficial de Polars](https://pola-rs.github.io/polars/py-polars/html/reference/functions.html)\n",
    "2. [Guía de inicio de Polars](https://pola-rs.github.io/polars-book/)\n",
    "3. [Manipulación de Datos con #Polars en #python](https://www.youtube.com/watch?v=3RM3pWw2iRQ)\n",
    "4. [Diferencias entre Polars y Pandas](https://nairal.net/pandas-de-python-vs-polars-quien-gana-esta-pelea-de-librerias-para-data-science)\n",
    "5. [Polars: The Super Fast Dataframe Library for Python — Goodbye Pandas?](https://artificialcorner.com/polars-the-super-fast-dataframe-library-for-python-goodbye-pandas-85156e84337f)\n",
    "6. [DataSet para ejemplos](https://www.kaggle.com/datasets/khaiid/most-selling-pc-games)\n"
   ]
  }
 ],
 "metadata": {
  "kernelspec": {
   "display_name": "Python 3 (ipykernel)",
   "language": "python",
   "name": "python3"
  },
  "language_info": {
   "codemirror_mode": {
    "name": "ipython",
    "version": 3
   },
   "file_extension": ".py",
   "mimetype": "text/x-python",
   "name": "python",
   "nbconvert_exporter": "python",
   "pygments_lexer": "ipython3",
   "version": "3.11.2"
  }
 },
 "nbformat": 4,
 "nbformat_minor": 5
}
