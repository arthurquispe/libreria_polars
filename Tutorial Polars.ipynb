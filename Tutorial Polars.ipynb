{
 "cells": [
  {
   "cell_type": "markdown",
   "id": "1c696f02",
   "metadata": {},
   "source": [
    "Estructura de nuestro tutorial en Jupyter\n",
    "->[Titulo atractivo]\n",
    "--[Hablar sobre polar]\n",
    "--[Aplicaciones del paquete polars (En donde y en qué casos se puede usar)]\n",
    "--Primeros Pasos\n",
    "--[Diferencias con pandas]\n",
    "--[Principales funciones]\n",
    "--[Caso practico como ejemplo]\n",
    "--[Referencias]"
   ]
  }
 ],
 "metadata": {
  "kernelspec": {
   "display_name": "Python 3 (ipykernel)",
   "language": "python",
   "name": "python3"
  },
  "language_info": {
   "codemirror_mode": {
    "name": "ipython",
    "version": 3
   },
   "file_extension": ".py",
   "mimetype": "text/x-python",
   "name": "python",
   "nbconvert_exporter": "python",
   "pygments_lexer": "ipython3",
   "version": "3.9.13"
  }
 },
 "nbformat": 4,
 "nbformat_minor": 5
}
