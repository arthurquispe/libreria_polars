{
 "cells": [
  {
   "attachments": {},
   "cell_type": "markdown",
   "id": "1c696f02",
   "metadata": {},
   "source": [
    "Estructura de nuestro tutorial en Jupyter\n",
    "->[Titulo atractivo]\n",
    "--[Hablar sobre polar]\n",
    "--[Aplicaciones del paquete polars (En donde y en qué casos se puede usar)]\n",
    "--Primeros Pasos\n",
    "--[Diferencias con pandas]\n",
    "--[Principales funciones]\n",
    "--[Caso practico como ejemplo]\n",
    "--[Referencias]"
   ]
  },
  {
   "attachments": {},
   "cell_type": "markdown",
   "id": "37e862b2",
   "metadata": {},
   "source": [
    "### Primeros pasos con la librería Polars\n",
    "Para instalar la librería Polars en tu PC, puedes seguir los siguientes pasos:\n",
    "![The San Juan Mountains are beautiful!](https://i.pinimg.com/originals/b9/30/c1/b930c1c4d7a3ac78403994b250dbe9e1.gif \"San Juan Mountains\")\n",
    "\n",
    "Abre una terminal o línea de comandos en tu PC.\n",
    "Asegúrate de tener Python instalado en tu sistema. Puedes comprobarlo ejecutando el comando `python --version` en la terminal. Si no lo tienes instalado, puedes descargarlo desde la página oficial de Python.\n",
    "Ejecuta el siguiente comando en la terminal para instalar Polars a través de pip, el gestor de paquetes de Python:\n"
   ]
  },
  {
   "cell_type": "code",
   "execution_count": 15,
   "id": "315276f4",
   "metadata": {},
   "outputs": [
    {
     "name": "stdout",
     "output_type": "stream",
     "text": [
      "Defaulting to user installation because normal site-packages is not writeable\n",
      "Requirement already satisfied: polars in c:\\users\\a1810\\appdata\\roaming\\python\\python311\\site-packages (0.17.13)\n"
     ]
    }
   ],
   "source": [
    "#Comando para instalar por primera vez la librería Polars en tu pc\n",
    "#Recuerda que se necesita tener instalado Python 3.7 en adelante.\n",
    "!pip install polars"
   ]
  },
  {
   "attachments": {},
   "cell_type": "markdown",
   "id": "96704e3b",
   "metadata": {},
   "source": [
    "Espera a que se complete la instalación. Este proceso puede tardar unos minutos dependiendo de tu conexión a internet.\n",
    "Una vez que la instalación haya terminado, ya puedes importar Polars en tus scripts de Python utilizando la línea de código:"
   ]
  },
  {
   "cell_type": "code",
   "execution_count": 16,
   "id": "b6b72693",
   "metadata": {},
   "outputs": [],
   "source": [
    "#Lo importamos como **pl** por consenso y \n",
    "#porque la propia documentación de Polars recomienda usarlo.\n",
    "import polars as pl"
   ]
  },
  {
   "attachments": {},
   "cell_type": "markdown",
   "id": "c41288f1",
   "metadata": {},
   "source": [
    "#### Estructura básica de la librería Polars"
   ]
  },
  {
   "cell_type": "code",
   "execution_count": 17,
   "id": "12b034d3",
   "metadata": {},
   "outputs": [
    {
     "name": "stdout",
     "output_type": "stream",
     "text": [
      "shape: (2, 2)\n",
      "┌────────┬──────┐\n",
      "│ nombre ┆ edad │\n",
      "│ ---    ┆ ---  │\n",
      "│ str    ┆ i64  │\n",
      "╞════════╪══════╡\n",
      "│ María  ┆ 30   │\n",
      "│ Pedro  ┆ 35   │\n",
      "└────────┴──────┘\n"
     ]
    }
   ],
   "source": [
    "import polars as pl\n",
    "\n",
    "# Crear un DataFrame de Polars a partir de un diccionario\n",
    "data = {\"nombre\": [\"Juan\", \"María\", \"Pedro\"], \"edad\": [25, 30, 35]}\n",
    "df = pl.DataFrame(data)\n",
    "\n",
    "# Seleccionar columnas específicas del DataFrame\n",
    "df = df.select(\"nombre\", \"edad\")\n",
    "\n",
    "# Filtrar filas basadas en una condición\n",
    "df = df.filter(pl.col(\"edad\") > 28)\n",
    "\n",
    "# Agregar una nueva columna basada en cálculos en columnas existentes\n",
    "#df = df.with_column(pl.col(\"edad\") * 2, name=\"edad_doble\")\n",
    "\n",
    "# Mostrar el DataFrame resultante\n",
    "print(df)"
   ]
  },
  {
   "attachments": {},
   "cell_type": "markdown",
   "id": "b323d460",
   "metadata": {},
   "source": [
    "### ¿En qué se diferencia con la librería Pandas?\n",
    "\n",
    "Polars es una librería de procesamiento de datos en memoria que se enfoca en la eficiencia y el procesamiento en paralelo, lo que le permite trabajar con conjuntos de datos más grandes y procesarlos de manera más eficiente que Pandas. Además, Polars puede trabajar con datos heterogéneos, tiene funciones específicas para el procesamiento de datos de series de tiempo y utiliza una sintaxis más moderna y concisa.\n",
    "\n",
    "![Polars vs. Pandas](https://pbs.twimg.com/media/Fv_VRShWIAE_SDD?format=jpg&name=medium \"Polars vs. Pandas\")\n",
    "\n",
    "Polars ingresa al mercado a competir con la bandera de **mayor velocidad en el procesamiento grandes cantidades de datos**. Como podemos ver en su documentación se realizaron pruebas de velocidad comparandolo con otras librerías. En este caso se procesaba un dataframe de 1.000.000.000 de filas y 9 columnas y el resultado en cuanto a velocidad de procesamiento da como ganador a Polars.\n",
    "\n",
    "![Comparación de la velocidad de procesamiento!](https://miro.medium.com/v2/resize:fit:828/format:webp/0*5BpM5lMydgwju6Qo.png \"Versus de velocidad\")"
   ]
  },
  {
   "attachments": {},
   "cell_type": "markdown",
   "id": "7ade37c2",
   "metadata": {},
   "source": [
    "### Principales funciones de Polars\n",
    "A continuación les presentaremos las principales funciones de la librería Polars, con ello, ustedes podrán empezar a usarlo para sus proyectos personales, académicos y profecionales.¡Vamos a empezar!"
   ]
  },
  {
   "attachments": {},
   "cell_type": "markdown",
   "id": "29bd85a1",
   "metadata": {},
   "source": [
    "#### Lectura de datos\n",
    "La primera diferencia que vemos con Pandas, por ejemplo, es que el formato del Dataframe de Polars no imprime el index. Además de indicarnos el tipo de datos que tiene la columna. "
   ]
  },
  {
   "cell_type": "code",
   "execution_count": 18,
   "id": "8c92566a",
   "metadata": {},
   "outputs": [
    {
     "name": "stdout",
     "output_type": "stream",
     "text": [
      "shape: (11, 7)\n",
      "┌────────────────┬───────┬───────────────┬─────────┬───────────────┬───────────────┬───────────────┐\n",
      "│ Name           ┆ Sales ┆ Series        ┆ Release ┆ Genre         ┆ Developer     ┆ Publisher     │\n",
      "│ ---            ┆ ---   ┆ ---           ┆ ---     ┆ ---           ┆ ---           ┆ ---           │\n",
      "│ str            ┆ f64   ┆ str           ┆ str     ┆ str           ┆ str           ┆ str           │\n",
      "╞════════════════╪═══════╪═══════════════╪═════════╪═══════════════╪═══════════════╪═══════════════╡\n",
      "│ SimCity 3000   ┆ 5.0   ┆ SimCity       ┆ Jan-99  ┆ City-building ┆ Maxis         ┆ Electronic    │\n",
      "│                ┆       ┆               ┆         ┆               ┆               ┆ Arts          │\n",
      "│ Diablo II      ┆ 4.0   ┆ Diablo        ┆ Jun-00  ┆ Action        ┆ Blizzard      ┆ Blizzard      │\n",
      "│                ┆       ┆               ┆         ┆ role-playing  ┆ North         ┆ Entertainment │\n",
      "│ Final Fantasy  ┆ 2.1   ┆ Final Fantasy ┆ Jun-98  ┆ Role-playing  ┆ Square        ┆ Eidos         │\n",
      "│ VII            ┆       ┆               ┆         ┆ game          ┆               ┆ Interactive   │\n",
      "│ Counter-Strike ┆ 2.0   ┆ Counter-Strik ┆ Nov-04  ┆ First-person  ┆ Valve         ┆ Electronic    │\n",
      "│ : Source       ┆       ┆ e             ┆         ┆ shooter       ┆               ┆ Arts (retail) │\n",
      "│ …              ┆ …     ┆ …             ┆ …       ┆ …             ┆ …             ┆ …             │\n",
      "│ Mafia: The     ┆ 2.0   ┆ Mafia         ┆ Aug-02  ┆ Third-person  ┆ Illusion      ┆ Gathering of  │\n",
      "│ City of Lost   ┆       ┆               ┆         ┆ shooter       ┆ Softworks     ┆ Developers    │\n",
      "│ Heaven         ┆       ┆               ┆         ┆               ┆               ┆               │\n",
      "│ SimCity 4      ┆ 2.0   ┆ SimCity       ┆ Jan-03  ┆ City-building ┆ Maxis         ┆ Electronic    │\n",
      "│                ┆       ┆               ┆         ┆               ┆               ┆ Arts (Windows │\n",
      "│                ┆       ┆               ┆         ┆               ┆               ┆ )             │\n",
      "│ Star Wars      ┆ 1.0   ┆ Star Wars     ┆ Jun-03  ┆ MMORPG        ┆ Sony Online   ┆ LucasArts     │\n",
      "│ Galaxies       ┆       ┆               ┆         ┆               ┆ Entertainment ┆               │\n",
      "│ StarCraft II:  ┆ 1.0   ┆ StarCraft     ┆ Mar-13  ┆ Real-time     ┆ Blizzard      ┆ Blizzard      │\n",
      "│ Heart of the   ┆       ┆               ┆         ┆ strategy      ┆ Entertainment ┆ Entertainment │\n",
      "│ Swarm          ┆       ┆               ┆         ┆               ┆               ┆               │\n",
      "└────────────────┴───────┴───────────────┴─────────┴───────────────┴───────────────┴───────────────┘\n"
     ]
    }
   ],
   "source": [
    "import polars as pl\n",
    "df = pl.read_csv(\"Games.csv\")\n",
    "print(df)"
   ]
  },
  {
   "attachments": {},
   "cell_type": "markdown",
   "id": "95f4ba74",
   "metadata": {},
   "source": [
    "##### Mostrar el nombre las del columas"
   ]
  },
  {
   "cell_type": "code",
   "execution_count": 19,
   "id": "57749c21",
   "metadata": {},
   "outputs": [
    {
     "data": {
      "text/plain": [
       "['Name', 'Sales', 'Series', 'Release', 'Genre', 'Developer', 'Publisher']"
      ]
     },
     "execution_count": 19,
     "metadata": {},
     "output_type": "execute_result"
    }
   ],
   "source": [
    "df.columns"
   ]
  },
  {
   "attachments": {},
   "cell_type": "markdown",
   "id": "359d27cc",
   "metadata": {},
   "source": [
    "#### Seleccionar columnas"
   ]
  },
  {
   "cell_type": "code",
   "execution_count": 20,
   "id": "758329bf",
   "metadata": {},
   "outputs": [
    {
     "data": {
      "text/html": [
       "<div><style>\n",
       ".dataframe > thead > tr > th,\n",
       ".dataframe > tbody > tr > td {\n",
       "  text-align: right;\n",
       "}\n",
       "</style>\n",
       "<small>shape: (11, 1)</small><table border=\"1\" class=\"dataframe\"><thead><tr><th>Genre</th></tr><tr><td>str</td></tr></thead><tbody><tr><td>&quot;City-building&quot;</td></tr><tr><td>&quot;Action role-pl…</td></tr><tr><td>&quot;Role-playing g…</td></tr><tr><td>&quot;First-person s…</td></tr><tr><td>&quot;Action role-pl…</td></tr><tr><td>&quot;First-person s…</td></tr><tr><td>&quot;Action-adventu…</td></tr><tr><td>&quot;Third-person s…</td></tr><tr><td>&quot;City-building&quot;</td></tr><tr><td>&quot;MMORPG&quot;</td></tr><tr><td>&quot;Real-time stra…</td></tr></tbody></table></div>"
      ],
      "text/plain": [
       "shape: (11, 1)\n",
       "┌──────────────────────┐\n",
       "│ Genre                │\n",
       "│ ---                  │\n",
       "│ str                  │\n",
       "╞══════════════════════╡\n",
       "│ City-building        │\n",
       "│ Action role-playing  │\n",
       "│ Role-playing game    │\n",
       "│ First-person shooter │\n",
       "│ …                    │\n",
       "│ Third-person shooter │\n",
       "│ City-building        │\n",
       "│ MMORPG               │\n",
       "│ Real-time strategy   │\n",
       "└──────────────────────┘"
      ]
     },
     "execution_count": 20,
     "metadata": {},
     "output_type": "execute_result"
    }
   ],
   "source": [
    "#Seleccionar una columna\n",
    "df.select(pl.col('Genre'))"
   ]
  },
  {
   "cell_type": "code",
   "execution_count": 21,
   "id": "dea497f8",
   "metadata": {},
   "outputs": [
    {
     "data": {
      "text/html": [
       "<div><style>\n",
       ".dataframe > thead > tr > th,\n",
       ".dataframe > tbody > tr > td {\n",
       "  text-align: right;\n",
       "}\n",
       "</style>\n",
       "<small>shape: (11, 2)</small><table border=\"1\" class=\"dataframe\"><thead><tr><th>Name</th><th>Sales</th></tr><tr><td>str</td><td>f64</td></tr></thead><tbody><tr><td>&quot;SimCity 3000&quot;</td><td>5.0</td></tr><tr><td>&quot;Diablo II&quot;</td><td>4.0</td></tr><tr><td>&quot;Final Fantasy …</td><td>2.1</td></tr><tr><td>&quot;Counter-Strike…</td><td>2.0</td></tr><tr><td>&quot;Diablo&quot;</td><td>2.0</td></tr><tr><td>&quot;Doom&quot;</td><td>2.0</td></tr><tr><td>&quot;Grand Theft Au…</td><td>2.0</td></tr><tr><td>&quot;Mafia: The Cit…</td><td>2.0</td></tr><tr><td>&quot;SimCity 4&quot;</td><td>2.0</td></tr><tr><td>&quot;Star Wars Gala…</td><td>1.0</td></tr><tr><td>&quot;StarCraft II: …</td><td>1.0</td></tr></tbody></table></div>"
      ],
      "text/plain": [
       "shape: (11, 2)\n",
       "┌──────────────────────────────────┬───────┐\n",
       "│ Name                             ┆ Sales │\n",
       "│ ---                              ┆ ---   │\n",
       "│ str                              ┆ f64   │\n",
       "╞══════════════════════════════════╪═══════╡\n",
       "│ SimCity 3000                     ┆ 5.0   │\n",
       "│ Diablo II                        ┆ 4.0   │\n",
       "│ Final Fantasy VII                ┆ 2.1   │\n",
       "│ Counter-Strike: Source           ┆ 2.0   │\n",
       "│ …                                ┆ …     │\n",
       "│ Mafia: The City of Lost Heaven   ┆ 2.0   │\n",
       "│ SimCity 4                        ┆ 2.0   │\n",
       "│ Star Wars Galaxies               ┆ 1.0   │\n",
       "│ StarCraft II: Heart of the Swarm ┆ 1.0   │\n",
       "└──────────────────────────────────┴───────┘"
      ]
     },
     "execution_count": 21,
     "metadata": {},
     "output_type": "execute_result"
    }
   ],
   "source": [
    "# Select 2+ columns\n",
    "df.select(pl.col(['Name', 'Sales']))"
   ]
  },
  {
   "cell_type": "code",
   "execution_count": 22,
   "id": "7deb5d12",
   "metadata": {},
   "outputs": [
    {
     "data": {
      "text/html": [
       "<div><style>\n",
       ".dataframe > thead > tr > th,\n",
       ".dataframe > tbody > tr > td {\n",
       "  text-align: right;\n",
       "}\n",
       "</style>\n",
       "<small>shape: (11, 7)</small><table border=\"1\" class=\"dataframe\"><thead><tr><th>Name</th><th>Sales</th><th>Series</th><th>Release</th><th>Genre</th><th>Developer</th><th>Publisher</th></tr><tr><td>str</td><td>f64</td><td>str</td><td>str</td><td>str</td><td>str</td><td>str</td></tr></thead><tbody><tr><td>&quot;SimCity 3000&quot;</td><td>5.0</td><td>&quot;SimCity&quot;</td><td>&quot;Jan-99&quot;</td><td>&quot;City-building&quot;</td><td>&quot;Maxis&quot;</td><td>&quot;Electronic Art…</td></tr><tr><td>&quot;Diablo II&quot;</td><td>4.0</td><td>&quot;Diablo&quot;</td><td>&quot;Jun-00&quot;</td><td>&quot;Action role-pl…</td><td>&quot;Blizzard North…</td><td>&quot;Blizzard Enter…</td></tr><tr><td>&quot;Final Fantasy …</td><td>2.1</td><td>&quot;Final Fantasy&quot;</td><td>&quot;Jun-98&quot;</td><td>&quot;Role-playing g…</td><td>&quot;Square&quot;</td><td>&quot;Eidos Interact…</td></tr><tr><td>&quot;Counter-Strike…</td><td>2.0</td><td>&quot;Counter-Strike…</td><td>&quot;Nov-04&quot;</td><td>&quot;First-person s…</td><td>&quot;Valve&quot;</td><td>&quot;Electronic Art…</td></tr><tr><td>&quot;Diablo&quot;</td><td>2.0</td><td>&quot;Diablo&quot;</td><td>&quot;Dec-96&quot;</td><td>&quot;Action role-pl…</td><td>&quot;Blizzard North…</td><td>&quot;Blizzard Enter…</td></tr><tr><td>&quot;Doom&quot;</td><td>2.0</td><td>&quot;Doom&quot;</td><td>&quot;Dec-93&quot;</td><td>&quot;First-person s…</td><td>&quot;id Software&quot;</td><td>&quot;id Software&quot;</td></tr><tr><td>&quot;Grand Theft Au…</td><td>2.0</td><td>&quot;Grand Theft Au…</td><td>&quot;Apr-15&quot;</td><td>&quot;Action-adventu…</td><td>&quot;Rockstar North…</td><td>&quot;Rockstar Games…</td></tr><tr><td>&quot;Mafia: The Cit…</td><td>2.0</td><td>&quot;Mafia&quot;</td><td>&quot;Aug-02&quot;</td><td>&quot;Third-person s…</td><td>&quot;Illusion Softw…</td><td>&quot;Gathering of D…</td></tr><tr><td>&quot;SimCity 4&quot;</td><td>2.0</td><td>&quot;SimCity&quot;</td><td>&quot;Jan-03&quot;</td><td>&quot;City-building&quot;</td><td>&quot;Maxis&quot;</td><td>&quot;Electronic Art…</td></tr><tr><td>&quot;Star Wars Gala…</td><td>1.0</td><td>&quot;Star Wars&quot;</td><td>&quot;Jun-03&quot;</td><td>&quot;MMORPG&quot;</td><td>&quot;Sony Online En…</td><td>&quot;LucasArts&quot;</td></tr><tr><td>&quot;StarCraft II: …</td><td>1.0</td><td>&quot;StarCraft&quot;</td><td>&quot;Mar-13&quot;</td><td>&quot;Real-time stra…</td><td>&quot;Blizzard Enter…</td><td>&quot;Blizzard Enter…</td></tr></tbody></table></div>"
      ],
      "text/plain": [
       "shape: (11, 7)\n",
       "┌────────────────┬───────┬───────────────┬─────────┬───────────────┬───────────────┬───────────────┐\n",
       "│ Name           ┆ Sales ┆ Series        ┆ Release ┆ Genre         ┆ Developer     ┆ Publisher     │\n",
       "│ ---            ┆ ---   ┆ ---           ┆ ---     ┆ ---           ┆ ---           ┆ ---           │\n",
       "│ str            ┆ f64   ┆ str           ┆ str     ┆ str           ┆ str           ┆ str           │\n",
       "╞════════════════╪═══════╪═══════════════╪═════════╪═══════════════╪═══════════════╪═══════════════╡\n",
       "│ SimCity 3000   ┆ 5.0   ┆ SimCity       ┆ Jan-99  ┆ City-building ┆ Maxis         ┆ Electronic    │\n",
       "│                ┆       ┆               ┆         ┆               ┆               ┆ Arts          │\n",
       "│ Diablo II      ┆ 4.0   ┆ Diablo        ┆ Jun-00  ┆ Action        ┆ Blizzard      ┆ Blizzard      │\n",
       "│                ┆       ┆               ┆         ┆ role-playing  ┆ North         ┆ Entertainment │\n",
       "│ Final Fantasy  ┆ 2.1   ┆ Final Fantasy ┆ Jun-98  ┆ Role-playing  ┆ Square        ┆ Eidos         │\n",
       "│ VII            ┆       ┆               ┆         ┆ game          ┆               ┆ Interactive   │\n",
       "│ Counter-Strike ┆ 2.0   ┆ Counter-Strik ┆ Nov-04  ┆ First-person  ┆ Valve         ┆ Electronic    │\n",
       "│ : Source       ┆       ┆ e             ┆         ┆ shooter       ┆               ┆ Arts (retail) │\n",
       "│ …              ┆ …     ┆ …             ┆ …       ┆ …             ┆ …             ┆ …             │\n",
       "│ Mafia: The     ┆ 2.0   ┆ Mafia         ┆ Aug-02  ┆ Third-person  ┆ Illusion      ┆ Gathering of  │\n",
       "│ City of Lost   ┆       ┆               ┆         ┆ shooter       ┆ Softworks     ┆ Developers    │\n",
       "│ Heaven         ┆       ┆               ┆         ┆               ┆               ┆               │\n",
       "│ SimCity 4      ┆ 2.0   ┆ SimCity       ┆ Jan-03  ┆ City-building ┆ Maxis         ┆ Electronic    │\n",
       "│                ┆       ┆               ┆         ┆               ┆               ┆ Arts (Windows │\n",
       "│                ┆       ┆               ┆         ┆               ┆               ┆ )             │\n",
       "│ Star Wars      ┆ 1.0   ┆ Star Wars     ┆ Jun-03  ┆ MMORPG        ┆ Sony Online   ┆ LucasArts     │\n",
       "│ Galaxies       ┆       ┆               ┆         ┆               ┆ Entertainment ┆               │\n",
       "│ StarCraft II:  ┆ 1.0   ┆ StarCraft     ┆ Mar-13  ┆ Real-time     ┆ Blizzard      ┆ Blizzard      │\n",
       "│ Heart of the   ┆       ┆               ┆         ┆ strategy      ┆ Entertainment ┆ Entertainment │\n",
       "│ Swarm          ┆       ┆               ┆         ┆               ┆               ┆               │\n",
       "└────────────────┴───────┴───────────────┴─────────┴───────────────┴───────────────┴───────────────┘"
      ]
     },
     "execution_count": 22,
     "metadata": {},
     "output_type": "execute_result"
    }
   ],
   "source": [
    "# Select all columns\n",
    "df.select(pl.col('*'))"
   ]
  },
  {
   "attachments": {},
   "cell_type": "markdown",
   "id": "dc9c882a",
   "metadata": {},
   "source": [
    "#### Agrupar y contar"
   ]
  },
  {
   "cell_type": "code",
   "execution_count": null,
   "id": "d3823eb8",
   "metadata": {},
   "outputs": [],
   "source": [
    "# Group by\n",
    "df.groupby(\"race/ethnicity\").count()"
   ]
  },
  {
   "attachments": {},
   "cell_type": "markdown",
   "id": "fa3a758a",
   "metadata": {},
   "source": [
    "#### Crear nuevas columnas"
   ]
  },
  {
   "cell_type": "code",
   "execution_count": null,
   "id": "076bd4fb",
   "metadata": {},
   "outputs": [],
   "source": [
    "# polars: create \"sum\" column\n",
    "df.with_columns(\n",
    "    (pl.col('math score') + pl.col('reading score')).alias(\"sum\")\n",
    ")\n",
    "\n",
    "# pandas: df['sum'] = df['math score'] + df['reading score']"
   ]
  },
  {
   "cell_type": "code",
   "execution_count": null,
   "id": "4b734986",
   "metadata": {},
   "outputs": [],
   "source": [
    "# polars: create \"average\" column\n",
    "df.with_columns(\n",
    "    pl.col(['math score', 'reading score', 'writing score']).mean().alias('average')\n",
    ")\n",
    "\n",
    "# pandas: df['average'] = df[['math score', 'reading score', 'writing score']].mean(axis=1)"
   ]
  },
  {
   "cell_type": "code",
   "execution_count": null,
   "id": "23dc8e30",
   "metadata": {},
   "outputs": [],
   "source": [
    "#### Filtrar"
   ]
  },
  {
   "cell_type": "code",
   "execution_count": null,
   "id": "ad63ba3c",
   "metadata": {},
   "outputs": [],
   "source": [
    "# polars: simple filtering\n",
    "df.filter(pl.col('gender')=='female')\n",
    "\n",
    "# pandas: df[df['gender'] == 'female']"
   ]
  },
  {
   "cell_type": "code",
   "execution_count": null,
   "id": "ecaeeb45",
   "metadata": {},
   "outputs": [],
   "source": [
    "# Multiple filtering \n",
    "df.filter(\n",
    "    (pl.col('gender')=='female') &\n",
    "    (pl.col('race/ethnicity')=='group B')\n",
    ")\n",
    "\n",
    "# pandas: df[(df['gender'] == 'female') & (df['race/ethnicity'] == 'group B')]"
   ]
  },
  {
   "attachments": {},
   "cell_type": "markdown",
   "id": "eb6067bc",
   "metadata": {},
   "source": [
    "#### Unir Dataframes"
   ]
  },
  {
   "cell_type": "code",
   "execution_count": null,
   "id": "9cfe08fa",
   "metadata": {},
   "outputs": [],
   "source": [
    "#Leemos un nuevo csv\n",
    "df2 = pl.read_csv(\"LanguageScore.csv\")\n",
    "#Unimos con el siguiente código\n",
    "df.join(df2, on='id')"
   ]
  }
 ],
 "metadata": {
  "kernelspec": {
   "display_name": "Python 3 (ipykernel)",
   "language": "python",
   "name": "python3"
  },
  "language_info": {
   "codemirror_mode": {
    "name": "ipython",
    "version": 3
   },
   "file_extension": ".py",
   "mimetype": "text/x-python",
   "name": "python",
   "nbconvert_exporter": "python",
   "pygments_lexer": "ipython3",
   "version": "3.11.2"
  }
 },
 "nbformat": 4,
 "nbformat_minor": 5
}
